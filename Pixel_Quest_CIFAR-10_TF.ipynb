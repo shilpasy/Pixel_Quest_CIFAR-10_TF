{
 "cells": [
  {
   "cell_type": "code",
   "execution_count": 1,
   "metadata": {
    "ExecuteTime": {
     "end_time": "2023-02-18T18:43:08.021181Z",
     "start_time": "2023-02-18T18:43:02.242395Z"
    },
    "id": "le1xXXyHPACR"
   },
   "outputs": [],
   "source": [
    "import numpy as np\n",
    "import tensorflow as tf\n",
    "from tensorflow import keras\n",
    "import matplotlib.pyplot as plt"
   ]
  },
  {
   "cell_type": "markdown",
   "metadata": {
    "id": "HBlh-3jiPACR"
   },
   "source": [
    "# Pixel Quest: CIFAR-10 Image Classification with TensorFlow"
   ]
  },
  {
   "cell_type": "markdown",
   "metadata": {
    "id": "pZeczELLPACS"
   },
   "source": [
    "In the world of image classification here we encounter a fascinating task of distinguishing between various objects and creatures captured in the CIFAR-10 dataset.\n",
    "\n",
    "In the past, scientists have utilized clever filters to unveil the essence of these images. However, modern techniques have evolved, and now the finest algorithms employ the magic of linear algebra to accomplish this feat.\n",
    "\n",
    "Lets build a few of models with increasing complexity to classify these images into one of ten classes. For simplicity and speed, these images are pretty small ($32\\times32\\times3$).  This can make classification a bit tricky. I do not have reference but I have read that human performance is only about 94%.\n"
   ]
  },
  {
   "cell_type": "markdown",
   "metadata": {},
   "source": [
    "In this project, we start with the classic K-Nearest Neighbors (KNN) algorithm and gradually advance to more sophisticated models, including a neural network with a single hidden layer, a Convolutional Neural Network (CNN), and finally, the power of transfer learning using Xception."
   ]
  },
  {
   "cell_type": "markdown",
   "metadata": {
    "id": "E40fxK7JPACU"
   },
   "source": [
    "## Getting the input data"
   ]
  },
  {
   "cell_type": "markdown",
   "metadata": {
    "id": "Dw6BLb2-PACU"
   },
   "source": [
    "We will be using the `CIFAR-10` data set.  It consists of 60,000 images, each $32\\times32$ color pixels, each belonging to one of ten classes. This is quite popular dataset and we can get it from [various links](https://www.cs.toronto.edu/~kriz/cifar.html) [online](https://www.kaggle.com/datasets/emadtolba/cifar10-comp)."
   ]
  },
  {
   "cell_type": "code",
   "execution_count": 2,
   "metadata": {
    "colab": {
     "base_uri": "https://localhost:8080/"
    },
    "id": "RMZ-gv7seQlI",
    "outputId": "4601ee4e-d35a-4134-9b0a-832f5648c5d0"
   },
   "outputs": [
    {
     "name": "stdout",
     "output_type": "stream",
     "text": [
      "Mounted at /content/drive\n"
     ]
    }
   ],
   "source": [
    "#from google.colab import drive\n",
    "#drive.mount('/content/drive')"
   ]
  },
  {
   "cell_type": "code",
   "execution_count": 3,
   "metadata": {
    "ExecuteTime": {
     "end_time": "2023-02-18T18:43:12.179438Z",
     "start_time": "2023-02-18T18:43:08.025400Z"
    },
    "id": "xHlDJOKFPACV"
   },
   "outputs": [],
   "source": [
    "import numpy as np\n",
    "import gzip\n",
    "\n",
    "train_images = np.load(gzip.open('train_images.npy.gz', 'rb'))\n",
    "train_labels = np.load(gzip.open('train_labels.npy.gz', 'rb'))\n",
    "validation_images = np.load(gzip.open('validation_images.npy.gz', 'rb'))"
   ]
  },
  {
   "cell_type": "markdown",
   "metadata": {
    "ExecuteTime": {
     "end_time": "2023-02-14T22:01:54.882580Z",
     "start_time": "2023-02-14T22:01:54.878833Z"
    },
    "id": "A8pWnhUPPACV"
   },
   "source": [
    ". npy format is the standard binary file format in NumPy for persisting a single arbitrary NumPy array"
   ]
  },
  {
   "cell_type": "markdown",
   "metadata": {
    "id": "LisZNPmLPACW"
   },
   "source": [
    "The images are stored as four-dimensional arrays.  The first index indicates the image number, the second and third the $x$ and $y$ positions, and the fourth index the color channel.  Each pixel color is a floating point number between 0 and 1.  This convention allows us to view the images with matplotlib:"
   ]
  },
  {
   "cell_type": "code",
   "execution_count": 4,
   "metadata": {
    "colab": {
     "base_uri": "https://localhost:8080/"
    },
    "id": "qGH7Fq6P0Aij",
    "outputId": "87100b01-74a5-4d9e-c860-28197a7e2d13"
   },
   "outputs": [
    {
     "data": {
      "text/plain": [
       "array([[[[0.23137255, 0.24313726, 0.24705882],\n",
       "         [0.16862746, 0.18039216, 0.1764706 ],\n",
       "         [0.19607843, 0.1882353 , 0.16862746],\n",
       "         ...,\n",
       "         [0.61960787, 0.5176471 , 0.42352942],\n",
       "         [0.59607846, 0.49019608, 0.4       ],\n",
       "         [0.5803922 , 0.4862745 , 0.40392157]],\n",
       "\n",
       "        [[0.0627451 , 0.07843138, 0.07843138],\n",
       "         [0.        , 0.        , 0.        ],\n",
       "         [0.07058824, 0.03137255, 0.        ],\n",
       "         ...,\n",
       "         [0.48235294, 0.34509805, 0.21568628],\n",
       "         [0.46666667, 0.3254902 , 0.19607843],\n",
       "         [0.47843137, 0.34117648, 0.22352941]],\n",
       "\n",
       "        [[0.09803922, 0.09411765, 0.08235294],\n",
       "         [0.0627451 , 0.02745098, 0.        ],\n",
       "         [0.19215687, 0.10588235, 0.03137255],\n",
       "         ...,\n",
       "         [0.4627451 , 0.32941177, 0.19607843],\n",
       "         [0.47058824, 0.32941177, 0.19607843],\n",
       "         [0.42745098, 0.28627452, 0.16470589]],\n",
       "\n",
       "        ...,\n",
       "\n",
       "        [[0.8156863 , 0.6666667 , 0.3764706 ],\n",
       "         [0.7882353 , 0.6       , 0.13333334],\n",
       "         [0.7764706 , 0.6313726 , 0.10196079],\n",
       "         ...,\n",
       "         [0.627451  , 0.52156866, 0.27450982],\n",
       "         [0.21960784, 0.12156863, 0.02745098],\n",
       "         [0.20784314, 0.13333334, 0.07843138]],\n",
       "\n",
       "        [[0.7058824 , 0.54509807, 0.3764706 ],\n",
       "         [0.6784314 , 0.48235294, 0.16470589],\n",
       "         [0.7294118 , 0.5647059 , 0.11764706],\n",
       "         ...,\n",
       "         [0.72156864, 0.5803922 , 0.36862746],\n",
       "         [0.38039216, 0.24313726, 0.13333334],\n",
       "         [0.3254902 , 0.20784314, 0.13333334]],\n",
       "\n",
       "        [[0.69411767, 0.5647059 , 0.45490196],\n",
       "         [0.65882355, 0.5058824 , 0.36862746],\n",
       "         [0.7019608 , 0.5568628 , 0.34117648],\n",
       "         ...,\n",
       "         [0.84705883, 0.72156864, 0.54901963],\n",
       "         [0.5921569 , 0.4627451 , 0.32941177],\n",
       "         [0.48235294, 0.36078432, 0.28235295]]]], dtype=float32)"
      ]
     },
     "execution_count": 4,
     "metadata": {},
     "output_type": "execute_result"
    }
   ],
   "source": [
    "train_images[0:1]"
   ]
  },
  {
   "cell_type": "code",
   "execution_count": 5,
   "metadata": {
    "ExecuteTime": {
     "end_time": "2023-02-14T21:42:14.478239Z",
     "start_time": "2023-02-14T21:42:14.151997Z"
    },
    "colab": {
     "base_uri": "https://localhost:8080/",
     "height": 430
    },
    "id": "1kcVEfIwPACW",
    "outputId": "9bae21a2-5df8-4da5-ca97-09ca36e21d87"
   },
   "outputs": [
    {
     "data": {
      "image/png": "[encoded data removed]",
      "text/plain": [
       "<Figure size 640x480 with 1 Axes>"
      ]
     },
     "metadata": {},
     "output_type": "display_data"
    }
   ],
   "source": [
    "import matplotlib.pyplot\n",
    "matplotlib.pyplot.rcParams[\"axes.grid\"] = False  #  Remove the grid lines from the image.\n",
    "matplotlib.pyplot.imshow(train_images[12])\n",
    "plt.show()"
   ]
  },
  {
   "cell_type": "markdown",
   "metadata": {
    "id": "t6pqqaXuyFgF"
   },
   "source": [
    "let's savor the sight of a noble horse in a slightly blurry image, appreciating its mystique"
   ]
  },
  {
   "cell_type": "code",
   "execution_count": 6,
   "metadata": {
    "ExecuteTime": {
     "end_time": "2023-02-14T21:42:14.590685Z",
     "start_time": "2023-02-14T21:42:14.480919Z"
    },
    "colab": {
     "base_uri": "https://localhost:8080/",
     "height": 147
    },
    "id": "6Oxy5QUtPACX",
    "outputId": "d49054e7-bc92-4e85-9a23-0879d91bdbb5"
   },
   "outputs": [
    {
     "data": {
      "image/png": "[encoded data removed]",
      "text/plain": [
       "<Figure size 110x110 with 1 Axes>"
      ]
     },
     "metadata": {},
     "output_type": "display_data"
    }
   ],
   "source": [
    "#if you want to see those images smaller for better clarity you can do the following\n",
    "fig, axes = plt.subplots(figsize = (1.1,1.1))\n",
    "axes.imshow(train_images[12,1:])\n",
    "plt.show()"
   ]
  },
  {
   "cell_type": "markdown",
   "metadata": {
    "id": "-DmkRuMJzqGn"
   },
   "source": [
    "The human-readable names associated with this classes are :"
   ]
  },
  {
   "cell_type": "code",
   "execution_count": 7,
   "metadata": {
    "ExecuteTime": {
     "end_time": "2023-02-14T21:42:14.760266Z",
     "start_time": "2023-02-14T21:42:14.593258Z"
    },
    "colab": {
     "base_uri": "https://localhost:8080/",
     "height": 469
    },
    "id": "mg2eQ8XaPACX",
    "outputId": "27613320-3b9b-4751-9b9d-df2fc6fa4ec6"
   },
   "outputs": [
    {
     "data": {
      "text/plain": [
       "Text(0.5, 1.0, 'Class distribution in training set')"
      ]
     },
     "execution_count": 7,
     "metadata": {},
     "output_type": "execute_result"
    },
    {
     "data": {
      "image/png": "[encoded data removed]",
      "text/plain": [
       "<Figure size 640x480 with 1 Axes>"
      ]
     },
     "metadata": {},
     "output_type": "display_data"
    }
   ],
   "source": [
    "classes_name = ['Airplane', 'Automobile', 'Bird', 'Cat', 'Deer', 'Dog', 'Frog', 'Horse', 'Ship', 'Truck']\n",
    "classes, counts = np.unique(train_labels, return_counts=True)\n",
    "plt.barh(classes_name, counts)\n",
    "plt.title('Class distribution in training set')"
   ]
  },
  {
   "cell_type": "markdown",
   "metadata": {
    "id": "iYa9zpLLyQ1J"
   },
   "source": [
    "From 'airplanes' soaring through the skies to 'automobiles' speeding on the ground, from 'birds' singing melodies to 'cats' prowling gracefully, and from 'dogs' loyal as friends to 'ships' sailing the vast seas - we shall encounter a multitude of wonders!"
   ]
  },
  {
   "cell_type": "markdown",
   "metadata": {
    "id": "nGQVCZdAPACX"
   },
   "source": [
    "The classes have already been numbered 0-9 for us; those numbers are stored in the vector `train_labels`."
   ]
  },
  {
   "cell_type": "markdown",
   "metadata": {
    "id": "iSbVl8j3PACY"
   },
   "source": [
    "## k-nearest neighbors algorithm"
   ]
  },
  {
   "cell_type": "markdown",
   "metadata": {
    "id": "ykcEl_7aPACY"
   },
   "source": [
    "Our initial model is based on a simple algorithm of KNN. We shall measure the differences between colors of the corresponding pixels between two images and use this information to find the nearest companions among these images. Let's calculate a simple euclidean distance for this purpose.\n",
    "\n",
    "$$dist = \\sqrt{\\Delta R^2 + \\Delta G^2 + \\Delta B^2} $$\n"
   ]
  },
  {
   "cell_type": "code",
   "execution_count": 8,
   "metadata": {
    "ExecuteTime": {
     "end_time": "2023-02-11T06:01:01.142063Z",
     "start_time": "2023-02-11T06:01:01.136900Z"
    },
    "colab": {
     "base_uri": "https://localhost:8080/"
    },
    "id": "6Z1wAKIAPACZ",
    "outputId": "2d52cf8d-2e90-4ea8-c281-bbe501c69b99",
    "scrolled": true
   },
   "outputs": [
    {
     "name": "stdout",
     "output_type": "stream",
     "text": [
      "shape of R1 is (32, 32) and shape of train_images[0] is (32, 32, 3)\n",
      "shape of Rall is (50000, 32, 32)\n",
      "\n"
     ]
    }
   ],
   "source": [
    "R1 = train_images[0, :, :, 0]\n",
    "#this is how you access Red\n",
    "G1 = train_images[0, :, :, 1]\n",
    "#this is how you access Green\n",
    "\n",
    "B1 = train_images[0, :, :, 2]\n",
    "#this is how you access Blue\n",
    "\n",
    "print(f\"shape of R1 is {R1.shape} and shape of train_images[0] is {train_images[0].shape}\")\n",
    "\n",
    "Rall = train_images[:,:,:,0]\n",
    "print(f\"shape of Rall is {Rall.shape}\" )\n",
    "# print(train_images[0])\n",
    "# print(R1)\n",
    "print()\n",
    "#print(train_images)"
   ]
  },
  {
   "cell_type": "code",
   "execution_count": 9,
   "metadata": {
    "ExecuteTime": {
     "end_time": "2023-02-18T18:52:41.464426Z",
     "start_time": "2023-02-18T18:52:41.457695Z"
    },
    "id": "3LiTNIWSPACZ"
   },
   "outputs": [],
   "source": [
    "import tensorflow as tf\n",
    "\n",
    "@tf.function\n",
    "def pixel_diff(images, base):\n",
    "\n",
    "#   delta_R = tf.math.subtract(images[:,:,:,0], base[:,:,:,0]) #Red\n",
    "#   delta_G = tf.math.subtract(images[:,:,:,1], base[:,:,:,1]) #Green\n",
    "#   delta_B = tf.math.subtract(images[:,:,:,2], base[:,:,:,2]) #Blue\n",
    "#   Alternate way to do this: Split the images and base into separate RGB color channels\n",
    "    images_r, images_g, images_b = tf.split(images, 3, axis=-1)\n",
    "    base_r, base_g, base_b = tf.split(base, 3, axis=-1)\n",
    "\n",
    "#   Calculate the differences between the corresponding pixels in images and base for each color channel\n",
    "    delta_r = images_r - base_r\n",
    "    delta_g = images_g - base_g\n",
    "    delta_b = images_b - base_b\n",
    "\n",
    "    # Calculate R_mean\n",
    "    #R_mean = 0.5 * (images[:,:,:,0] + base[:,:,:,0])\n",
    "    R_mean = 0.5 * (images_r + base_r)\n",
    "\n",
    "    #calculate delC for each pixel\n",
    "    dist = tf.sqrt(delta_r**2 + delta_g**2 + delta_b**2 )\n",
    "    avg_dist = tf.math.reduce_sum(dist, axis=(1, 2, 3))/ 1024 #32*32 is 1024\n",
    "\n",
    "    return avg_dist"
   ]
  },
  {
   "cell_type": "code",
   "execution_count": 10,
   "metadata": {
    "ExecuteTime": {
     "end_time": "2023-02-18T18:52:43.547424Z",
     "start_time": "2023-02-18T18:52:42.129983Z"
    },
    "id": "w821BOZJPACZ"
   },
   "outputs": [],
   "source": [
    "base = validation_images[12] # SELECTING THE BASE IMAGE AS THE HORSE\n",
    "dist_all_training_img = pixel_diff(train_images, base)\n",
    "indices_closest_5 = np.argsort(dist_all_training_img)[:5]"
   ]
  },
  {
   "cell_type": "code",
   "execution_count": 11,
   "metadata": {
    "ExecuteTime": {
     "end_time": "2023-02-18T18:52:49.527171Z",
     "start_time": "2023-02-18T18:52:49.523102Z"
    },
    "colab": {
     "base_uri": "https://localhost:8080/"
    },
    "id": "7kmFsRCPPACZ",
    "outputId": "815f24b9-5e29-4410-ff6d-09e410532c09"
   },
   "outputs": [
    {
     "data": {
      "text/plain": [
       "TensorShape([50000])"
      ]
     },
     "execution_count": 11,
     "metadata": {},
     "output_type": "execute_result"
    }
   ],
   "source": [
    "dist_all_training_img.shape"
   ]
  },
  {
   "cell_type": "code",
   "execution_count": null,
   "metadata": {
    "ExecuteTime": {
     "end_time": "2023-02-18T18:52:54.506620Z",
     "start_time": "2023-02-18T18:52:54.499141Z"
    },
    "id": "DXXqg35MPACa"
   },
   "outputs": [],
   "source": [
    "indices_closest_5"
   ]
  },
  {
   "cell_type": "markdown",
   "metadata": {
    "id": "4GVIr8jJHmQN"
   },
   "source": [
    "Let's have a look at these 5 images which match closest with the above hourse."
   ]
  },
  {
   "cell_type": "code",
   "execution_count": 12,
   "metadata": {
    "colab": {
     "base_uri": "https://localhost:8080/",
     "height": 145
    },
    "id": "gyocLnMR-IfC",
    "outputId": "b63c61f4-7176-47ac-c026-c5559ef242f7"
   },
   "outputs": [
    {
     "data": {
      "text/plain": [
       "<matplotlib.image.AxesImage at 0x7f1fb43a0160>"
      ]
     },
     "execution_count": 12,
     "metadata": {},
     "output_type": "execute_result"
    },
    {
     "data": {
      "image/png": "[encoded data removed]",
      "text/plain": [
       "<Figure size 640x480 with 5 Axes>"
      ]
     },
     "metadata": {},
     "output_type": "display_data"
    }
   ],
   "source": [
    "ax1 = plt.subplot(555)\n",
    "# equivalent but more general\n",
    "ax1 = plt.subplot(551)\n",
    "ax1.imshow(train_images[7565,1:])\n",
    "\n",
    "# add a subplot with no frame\n",
    "ax2 = plt.subplot(552)\n",
    "ax2.imshow(train_images[19064,1:])\n",
    "\n",
    "# add a polar subplot\n",
    "ax3 = plt.subplot(553)\n",
    "ax3.imshow(train_images[2977,1:])\n",
    "\n",
    "# add a red subplot that shares the x-axis with ax1\n",
    "ax4 = plt.subplot(554)\n",
    "ax4.imshow(train_images[27189,1:])\n",
    "\n",
    "ax5 = plt.subplot(555)\n",
    "ax5.imshow(train_images[19417,1:])\n"
   ]
  },
  {
   "cell_type": "markdown",
   "metadata": {
    "id": "VnZzDuf1BGBg"
   },
   "source": [
    "Behold! The Magic of Simplicity: Identifying an image of a Horse Without Deep Neural Networks.... This model does work pretty good but on larger dataset and for higher accuracy, we will move to deep neural networks.\n"
   ]
  },
  {
   "cell_type": "markdown",
   "metadata": {
    "id": "vW5uPQ8KPACa"
   },
   "source": [
    "## Softmax model"
   ]
  },
  {
   "cell_type": "markdown",
   "metadata": {
    "id": "BHzecLarPACj"
   },
   "source": [
    "We'll start with a basic neural network called a softmax classifier. This network has just one dense layer that takes 32×32×3 inputs and produces 10 outputs, each representing a class. It will be using an activation function called softmax and a `CategoricalCrossentropy` loss function."
   ]
  },
  {
   "cell_type": "code",
   "execution_count": 13,
   "metadata": {
    "colab": {
     "base_uri": "https://localhost:8080/"
    },
    "id": "o5amCj8H6FtG",
    "outputId": "ce49df0e-e56a-488b-8c92-cee78a5e951c"
   },
   "outputs": [
    {
     "name": "stdout",
     "output_type": "stream",
     "text": [
      "(40000, 32, 32, 3) (10000, 32, 32, 3)\n",
      "(40000,) (10000,)\n"
     ]
    }
   ],
   "source": [
    "#Split the train dataset\n",
    "from sklearn.model_selection import train_test_split\n",
    "X_train,X_test,y_train,y_test = train_test_split(train_images,train_labels,test_size=0.2,random_state=120422)\n",
    "print(X_train.shape,X_test.shape)\n",
    "print(y_train.shape,y_test.shape)"
   ]
  },
  {
   "cell_type": "code",
   "execution_count": 15,
   "metadata": {
    "ExecuteTime": {
     "end_time": "2023-02-14T04:31:26.826163Z",
     "start_time": "2023-02-14T04:31:26.787722Z"
    },
    "id": "z8Ux0fJlPACj"
   },
   "outputs": [],
   "source": [
    "from tensorflow.keras.layers import Dense, Input, Dropout,BatchNormalization,Flatten\n",
    "from tensorflow.keras import backend\n",
    "from tensorflow.keras import optimizers\n",
    "from tensorflow.keras import losses\n",
    "backend.clear_session()\n",
    "\n",
    "model = keras.models.Sequential()\n",
    "\n",
    "model.add(Dense(input_shape = (32,32,3), activation='relu',units = 10))\n",
    "model.add(Flatten())\n",
    "model.add(Dense(10,activation = 'softmax'))\n",
    "\n",
    "adam = optimizers.Adam(learning_rate=1e-3)\n",
    "model.compile(loss=losses.categorical_crossentropy, optimizer=adam, metrics=['accuracy'])"
   ]
  },
  {
   "cell_type": "code",
   "execution_count": 16,
   "metadata": {
    "ExecuteTime": {
     "end_time": "2023-02-14T04:31:27.490010Z",
     "start_time": "2023-02-14T04:31:27.486342Z"
    },
    "colab": {
     "base_uri": "https://localhost:8080/"
    },
    "id": "SyS5haAKPACj",
    "outputId": "d695003f-d7ad-4234-86b7-11b01b4f8fe1",
    "scrolled": true
   },
   "outputs": [
    {
     "name": "stdout",
     "output_type": "stream",
     "text": [
      "Model: \"sequential\"\n",
      "_________________________________________________________________\n",
      " Layer (type)                Output Shape              Param #   \n",
      "=================================================================\n",
      " dense (Dense)               (None, 32, 32, 10)        40        \n",
      "                                                                 \n",
      " flatten (Flatten)           (None, 10240)             0         \n",
      "                                                                 \n",
      " dense_1 (Dense)             (None, 10)                102410    \n",
      "                                                                 \n",
      "=================================================================\n",
      "Total params: 102,450\n",
      "Trainable params: 102,450\n",
      "Non-trainable params: 0\n",
      "_________________________________________________________________\n"
     ]
    }
   ],
   "source": [
    "model.summary()"
   ]
  },
  {
   "cell_type": "code",
   "execution_count": 17,
   "metadata": {
    "colab": {
     "base_uri": "https://localhost:8080/",
     "height": 561
    },
    "id": "nyckVtXs599B",
    "outputId": "9591d5c1-b3f6-45a4-a150-9005dc7a9c8c"
   },
   "outputs": [
    {
     "data": {
      "image/svg+xml": [
       "<svg xmlns=\"http://www.w3.org/2000/svg\" xmlns:xlink=\"http://www.w3.org/1999/xlink\" width=\"353pt\" height=\"405pt\" viewBox=\"0.00 0.00 265.00 304.00\">\n",
       "<g id=\"graph0\" class=\"graph\" transform=\"scale(0.75 0.75) rotate(0) translate(4 300)\">\n",
       "<title>G</title>\n",
       "<polygon fill=\"white\" stroke=\"transparent\" points=\"-4,4 -4,-300 261,-300 261,4 -4,4\"/>\n",
       "<!-- 139775106264000 -->\n",
       "<g id=\"node1\" class=\"node\">\n",
       "<title>139775106264000</title>\n",
       "<polygon fill=\"none\" stroke=\"black\" points=\"0,-249.5 0,-295.5 257,-295.5 257,-249.5 0,-249.5\"/>\n",
       "<text text-anchor=\"middle\" x=\"41\" y=\"-280.3\" font-family=\"Times,serif\" font-size=\"14.00\">dense_input</text>\n",
       "<polyline fill=\"none\" stroke=\"black\" points=\"0,-272.5 82,-272.5 \"/>\n",
       "<text text-anchor=\"middle\" x=\"41\" y=\"-257.3\" font-family=\"Times,serif\" font-size=\"14.00\">InputLayer</text>\n",
       "<polyline fill=\"none\" stroke=\"black\" points=\"82,-249.5 82,-295.5 \"/>\n",
       "<text text-anchor=\"middle\" x=\"109.5\" y=\"-280.3\" font-family=\"Times,serif\" font-size=\"14.00\">input:</text>\n",
       "<polyline fill=\"none\" stroke=\"black\" points=\"82,-272.5 137,-272.5 \"/>\n",
       "<text text-anchor=\"middle\" x=\"109.5\" y=\"-257.3\" font-family=\"Times,serif\" font-size=\"14.00\">output:</text>\n",
       "<polyline fill=\"none\" stroke=\"black\" points=\"137,-249.5 137,-295.5 \"/>\n",
       "<text text-anchor=\"middle\" x=\"197\" y=\"-280.3\" font-family=\"Times,serif\" font-size=\"14.00\">[(None, 32, 32, 3)]</text>\n",
       "<polyline fill=\"none\" stroke=\"black\" points=\"137,-272.5 257,-272.5 \"/>\n",
       "<text text-anchor=\"middle\" x=\"197\" y=\"-257.3\" font-family=\"Times,serif\" font-size=\"14.00\">[(None, 32, 32, 3)]</text>\n",
       "</g>\n",
       "<!-- 139773424493008 -->\n",
       "<g id=\"node2\" class=\"node\">\n",
       "<title>139773424493008</title>\n",
       "<polygon fill=\"none\" stroke=\"black\" points=\"17,-166.5 17,-212.5 240,-212.5 240,-166.5 17,-166.5\"/>\n",
       "<text text-anchor=\"middle\" x=\"42\" y=\"-197.3\" font-family=\"Times,serif\" font-size=\"14.00\">dense</text>\n",
       "<polyline fill=\"none\" stroke=\"black\" points=\"17,-189.5 67,-189.5 \"/>\n",
       "<text text-anchor=\"middle\" x=\"42\" y=\"-174.3\" font-family=\"Times,serif\" font-size=\"14.00\">Dense</text>\n",
       "<polyline fill=\"none\" stroke=\"black\" points=\"67,-166.5 67,-212.5 \"/>\n",
       "<text text-anchor=\"middle\" x=\"94.5\" y=\"-197.3\" font-family=\"Times,serif\" font-size=\"14.00\">input:</text>\n",
       "<polyline fill=\"none\" stroke=\"black\" points=\"67,-189.5 122,-189.5 \"/>\n",
       "<text text-anchor=\"middle\" x=\"94.5\" y=\"-174.3\" font-family=\"Times,serif\" font-size=\"14.00\">output:</text>\n",
       "<polyline fill=\"none\" stroke=\"black\" points=\"122,-166.5 122,-212.5 \"/>\n",
       "<text text-anchor=\"middle\" x=\"181\" y=\"-197.3\" font-family=\"Times,serif\" font-size=\"14.00\">(None, 32, 32, 3)</text>\n",
       "<polyline fill=\"none\" stroke=\"black\" points=\"122,-189.5 240,-189.5 \"/>\n",
       "<text text-anchor=\"middle\" x=\"181\" y=\"-174.3\" font-family=\"Times,serif\" font-size=\"14.00\">(None, 32, 32, 10)</text>\n",
       "</g>\n",
       "<!-- 139775106264000&#45;&gt;139773424493008 -->\n",
       "<g id=\"edge1\" class=\"edge\">\n",
       "<title>139775106264000-&gt;139773424493008</title>\n",
       "<path fill=\"none\" stroke=\"black\" d=\"M128.5,-249.37C128.5,-241.15 128.5,-231.66 128.5,-222.73\"/>\n",
       "<polygon fill=\"black\" stroke=\"black\" points=\"132,-222.61 128.5,-212.61 125,-222.61 132,-222.61\"/>\n",
       "</g>\n",
       "<!-- 139773424487200 -->\n",
       "<g id=\"node3\" class=\"node\">\n",
       "<title>139773424487200</title>\n",
       "<polygon fill=\"none\" stroke=\"black\" points=\"15,-83.5 15,-129.5 242,-129.5 242,-83.5 15,-83.5\"/>\n",
       "<text text-anchor=\"middle\" x=\"42\" y=\"-114.3\" font-family=\"Times,serif\" font-size=\"14.00\">flatten</text>\n",
       "<polyline fill=\"none\" stroke=\"black\" points=\"15,-106.5 69,-106.5 \"/>\n",
       "<text text-anchor=\"middle\" x=\"42\" y=\"-91.3\" font-family=\"Times,serif\" font-size=\"14.00\">Flatten</text>\n",
       "<polyline fill=\"none\" stroke=\"black\" points=\"69,-83.5 69,-129.5 \"/>\n",
       "<text text-anchor=\"middle\" x=\"96.5\" y=\"-114.3\" font-family=\"Times,serif\" font-size=\"14.00\">input:</text>\n",
       "<polyline fill=\"none\" stroke=\"black\" points=\"69,-106.5 124,-106.5 \"/>\n",
       "<text text-anchor=\"middle\" x=\"96.5\" y=\"-91.3\" font-family=\"Times,serif\" font-size=\"14.00\">output:</text>\n",
       "<polyline fill=\"none\" stroke=\"black\" points=\"124,-83.5 124,-129.5 \"/>\n",
       "<text text-anchor=\"middle\" x=\"183\" y=\"-114.3\" font-family=\"Times,serif\" font-size=\"14.00\">(None, 32, 32, 10)</text>\n",
       "<polyline fill=\"none\" stroke=\"black\" points=\"124,-106.5 242,-106.5 \"/>\n",
       "<text text-anchor=\"middle\" x=\"183\" y=\"-91.3\" font-family=\"Times,serif\" font-size=\"14.00\">(None, 10240)</text>\n",
       "</g>\n",
       "<!-- 139773424493008&#45;&gt;139773424487200 -->\n",
       "<g id=\"edge2\" class=\"edge\">\n",
       "<title>139773424493008-&gt;139773424487200</title>\n",
       "<path fill=\"none\" stroke=\"black\" d=\"M128.5,-166.37C128.5,-158.15 128.5,-148.66 128.5,-139.73\"/>\n",
       "<polygon fill=\"black\" stroke=\"black\" points=\"132,-139.61 128.5,-129.61 125,-139.61 132,-139.61\"/>\n",
       "</g>\n",
       "<!-- 139773423175664 -->\n",
       "<g id=\"node4\" class=\"node\">\n",
       "<title>139773423175664</title>\n",
       "<polygon fill=\"none\" stroke=\"black\" points=\"22.5,-0.5 22.5,-46.5 234.5,-46.5 234.5,-0.5 22.5,-0.5\"/>\n",
       "<text text-anchor=\"middle\" x=\"53\" y=\"-31.3\" font-family=\"Times,serif\" font-size=\"14.00\">dense_1</text>\n",
       "<polyline fill=\"none\" stroke=\"black\" points=\"22.5,-23.5 83.5,-23.5 \"/>\n",
       "<text text-anchor=\"middle\" x=\"53\" y=\"-8.3\" font-family=\"Times,serif\" font-size=\"14.00\">Dense</text>\n",
       "<polyline fill=\"none\" stroke=\"black\" points=\"83.5,-0.5 83.5,-46.5 \"/>\n",
       "<text text-anchor=\"middle\" x=\"111\" y=\"-31.3\" font-family=\"Times,serif\" font-size=\"14.00\">input:</text>\n",
       "<polyline fill=\"none\" stroke=\"black\" points=\"83.5,-23.5 138.5,-23.5 \"/>\n",
       "<text text-anchor=\"middle\" x=\"111\" y=\"-8.3\" font-family=\"Times,serif\" font-size=\"14.00\">output:</text>\n",
       "<polyline fill=\"none\" stroke=\"black\" points=\"138.5,-0.5 138.5,-46.5 \"/>\n",
       "<text text-anchor=\"middle\" x=\"186.5\" y=\"-31.3\" font-family=\"Times,serif\" font-size=\"14.00\">(None, 10240)</text>\n",
       "<polyline fill=\"none\" stroke=\"black\" points=\"138.5,-23.5 234.5,-23.5 \"/>\n",
       "<text text-anchor=\"middle\" x=\"186.5\" y=\"-8.3\" font-family=\"Times,serif\" font-size=\"14.00\">(None, 10)</text>\n",
       "</g>\n",
       "<!-- 139773424487200&#45;&gt;139773423175664 -->\n",
       "<g id=\"edge3\" class=\"edge\">\n",
       "<title>139773424487200-&gt;139773423175664</title>\n",
       "<path fill=\"none\" stroke=\"black\" d=\"M128.5,-83.37C128.5,-75.15 128.5,-65.66 128.5,-56.73\"/>\n",
       "<polygon fill=\"black\" stroke=\"black\" points=\"132,-56.61 128.5,-46.61 125,-56.61 132,-56.61\"/>\n",
       "</g>\n",
       "</g>\n",
       "</svg>"
      ],
      "text/plain": [
       "<IPython.core.display.SVG object>"
      ]
     },
     "execution_count": 17,
     "metadata": {},
     "output_type": "execute_result"
    }
   ],
   "source": [
    "#Visualization of CNN architecture\n",
    "from IPython.display import SVG\n",
    "from keras.utils.vis_utils import model_to_dot\n",
    "SVG(model_to_dot(model,show_shapes=True,show_layer_names=True,rankdir='TB').create(prog='dot',format='svg'))\n"
   ]
  },
  {
   "cell_type": "code",
   "execution_count": 18,
   "metadata": {
    "ExecuteTime": {
     "end_time": "2023-02-14T04:31:41.057386Z",
     "start_time": "2023-02-14T04:31:41.052760Z"
    },
    "id": "cyWWMQTwPACj"
   },
   "outputs": [],
   "source": [
    "from tensorflow.keras.utils import to_categorical as one_hot\n",
    "\n",
    "y_train_hot = one_hot(y_train)\n",
    "# y_test_hot  = one_hot(y_test)"
   ]
  },
  {
   "cell_type": "code",
   "execution_count": 19,
   "metadata": {
    "ExecuteTime": {
     "end_time": "2023-02-14T04:33:04.432039Z",
     "start_time": "2023-02-14T04:31:41.704941Z"
    },
    "colab": {
     "base_uri": "https://localhost:8080/"
    },
    "id": "287mSJAEPACk",
    "outputId": "b552a1a9-c20a-4bbe-fbc3-04ac706bff6e"
   },
   "outputs": [
    {
     "name": "stdout",
     "output_type": "stream",
     "text": [
      "Epoch 1/6\n",
      "3200/3200 [==============================] - 26s 8ms/step - loss: 1.8079 - accuracy: 0.3651 - val_loss: 1.7099 - val_accuracy: 0.4013\n",
      "Epoch 2/6\n",
      "3200/3200 [==============================] - 21s 7ms/step - loss: 1.6746 - accuracy: 0.4161 - val_loss: 1.6619 - val_accuracy: 0.4148\n",
      "Epoch 3/6\n",
      "3200/3200 [==============================] - 27s 8ms/step - loss: 1.6100 - accuracy: 0.4417 - val_loss: 1.6423 - val_accuracy: 0.4281\n",
      "Epoch 4/6\n",
      "3200/3200 [==============================] - 22s 7ms/step - loss: 1.5628 - accuracy: 0.4590 - val_loss: 1.6263 - val_accuracy: 0.4374\n",
      "Epoch 5/6\n",
      "3200/3200 [==============================] - 22s 7ms/step - loss: 1.5328 - accuracy: 0.4716 - val_loss: 1.6078 - val_accuracy: 0.4390\n",
      "Epoch 6/6\n",
      "3200/3200 [==============================] - 22s 7ms/step - loss: 1.5087 - accuracy: 0.4823 - val_loss: 1.5995 - val_accuracy: 0.4446\n"
     ]
    }
   ],
   "source": [
    "history=model.fit(X_train, y_train_hot,\n",
    "          validation_split=0.2,\n",
    "          epochs=6,\n",
    "          batch_size=10)"
   ]
  },
  {
   "cell_type": "code",
   "execution_count": 20,
   "metadata": {
    "ExecuteTime": {
     "end_time": "2023-02-14T04:35:12.315645Z",
     "start_time": "2023-02-14T04:35:11.687396Z"
    },
    "colab": {
     "base_uri": "https://localhost:8080/"
    },
    "id": "2gZ-3MUYPACk",
    "outputId": "8f4f52d6-7213-4a3c-ce36-2017fc54090a"
   },
   "outputs": [
    {
     "name": "stdout",
     "output_type": "stream",
     "text": [
      "313/313 [==============================] - 1s 3ms/step\n"
     ]
    }
   ],
   "source": [
    "y_pred = model.predict(X_test)"
   ]
  },
  {
   "cell_type": "code",
   "execution_count": 21,
   "metadata": {
    "ExecuteTime": {
     "end_time": "2023-02-14T04:35:12.323282Z",
     "start_time": "2023-02-14T04:35:12.319528Z"
    },
    "id": "t3xj7p4GPACk"
   },
   "outputs": [],
   "source": [
    "predicted_classes=np.argmax(y_pred,axis=1)"
   ]
  },
  {
   "cell_type": "markdown",
   "metadata": {
    "id": "FushYP0pPACk"
   },
   "source": [
    "## Fully-connected model"
   ]
  },
  {
   "cell_type": "markdown",
   "metadata": {
    "id": "H6Vsgg3NPACk"
   },
   "source": [
    "Now, let's introduce a hidden layer in the hope that it will enhance our image classification capabilities."
   ]
  },
  {
   "cell_type": "code",
   "execution_count": 22,
   "metadata": {
    "ExecuteTime": {
     "end_time": "2023-02-14T21:04:39.616648Z",
     "start_time": "2023-02-14T21:04:39.592754Z"
    },
    "id": "1RikKFTUPACl"
   },
   "outputs": [],
   "source": [
    "from tensorflow.keras import backend\n",
    "from tensorflow.keras.layers import Dense, Input, Dropout,BatchNormalization,Flatten\n",
    "from tensorflow.keras import optimizers\n",
    "from tensorflow.keras import losses\n",
    "backend.clear_session()"
   ]
  },
  {
   "cell_type": "code",
   "execution_count": 23,
   "metadata": {
    "ExecuteTime": {
     "end_time": "2023-02-14T04:42:42.409552Z",
     "start_time": "2023-02-14T04:42:42.329863Z"
    },
    "id": "5oFAzn9MPACl"
   },
   "outputs": [],
   "source": [
    "model = keras.models.Sequential()\n",
    "\n",
    "model.add(Dense(input_shape = (32,32,3), activation='relu',units = 10))\n",
    "model.add(Dense(128,activation = 'relu'))\n",
    "model.add(Dropout(0.3)) #######this time adding dropout\n",
    "model.add(Flatten())\n",
    "model.add(Dense(10,activation = 'softmax'))\n",
    "\n",
    "adam = optimizers.Adam(learning_rate=1e-3)\n",
    "model.compile(loss=losses.categorical_crossentropy, optimizer=adam, metrics=['accuracy'])"
   ]
  },
  {
   "cell_type": "code",
   "execution_count": 24,
   "metadata": {
    "ExecuteTime": {
     "end_time": "2023-02-14T04:42:43.555705Z",
     "start_time": "2023-02-14T04:42:43.551292Z"
    },
    "colab": {
     "base_uri": "https://localhost:8080/"
    },
    "id": "utxJ0nSpPACl",
    "outputId": "5c43e69e-8cc0-45e3-db7d-6e5b153c6a42"
   },
   "outputs": [
    {
     "name": "stdout",
     "output_type": "stream",
     "text": [
      "Model: \"sequential\"\n",
      "_________________________________________________________________\n",
      " Layer (type)                Output Shape              Param #   \n",
      "=================================================================\n",
      " dense (Dense)               (None, 32, 32, 10)        40        \n",
      "                                                                 \n",
      " dense_1 (Dense)             (None, 32, 32, 128)       1408      \n",
      "                                                                 \n",
      " dropout (Dropout)           (None, 32, 32, 128)       0         \n",
      "                                                                 \n",
      " flatten (Flatten)           (None, 131072)            0         \n",
      "                                                                 \n",
      " dense_2 (Dense)             (None, 10)                1310730   \n",
      "                                                                 \n",
      "=================================================================\n",
      "Total params: 1,312,178\n",
      "Trainable params: 1,312,178\n",
      "Non-trainable params: 0\n",
      "_________________________________________________________________\n"
     ]
    }
   ],
   "source": [
    "model.summary()"
   ]
  },
  {
   "cell_type": "code",
   "execution_count": 25,
   "metadata": {
    "ExecuteTime": {
     "end_time": "2023-02-14T04:43:25.637894Z",
     "start_time": "2023-02-14T04:43:25.631737Z"
    },
    "id": "Q8XIjkagPACl"
   },
   "outputs": [],
   "source": [
    "from tensorflow.keras.utils import to_categorical as one_hot\n",
    "\n",
    "y_train_hot = one_hot(y_train)\n",
    "# y_test_hot  = one_hot(y_test)"
   ]
  },
  {
   "cell_type": "code",
   "execution_count": 26,
   "metadata": {
    "ExecuteTime": {
     "end_time": "2023-02-14T04:47:45.099289Z",
     "start_time": "2023-02-14T04:43:26.274980Z"
    },
    "colab": {
     "base_uri": "https://localhost:8080/"
    },
    "id": "cfFq-1oYPACl",
    "outputId": "8de05c97-2f62-4e77-fcb8-1f100ab30a34"
   },
   "outputs": [
    {
     "name": "stdout",
     "output_type": "stream",
     "text": [
      "Epoch 1/10\n",
      "320/320 [==============================] - 149s 463ms/step - loss: 1.7195 - accuracy: 0.4054 - val_loss: 1.5702 - val_accuracy: 0.4510\n",
      "Epoch 2/10\n",
      "320/320 [==============================] - 158s 495ms/step - loss: 1.4855 - accuracy: 0.4850 - val_loss: 1.5073 - val_accuracy: 0.4742\n",
      "Epoch 3/10\n",
      "320/320 [==============================] - 148s 463ms/step - loss: 1.4222 - accuracy: 0.5077 - val_loss: 1.4784 - val_accuracy: 0.4823\n",
      "Epoch 4/10\n",
      "320/320 [==============================] - 149s 466ms/step - loss: 1.3686 - accuracy: 0.5305 - val_loss: 1.5004 - val_accuracy: 0.4719\n",
      "Epoch 5/10\n",
      "320/320 [==============================] - 151s 473ms/step - loss: 1.3316 - accuracy: 0.5396 - val_loss: 1.4654 - val_accuracy: 0.4855\n",
      "Epoch 6/10\n",
      "320/320 [==============================] - 162s 505ms/step - loss: 1.2856 - accuracy: 0.5580 - val_loss: 1.5039 - val_accuracy: 0.4801\n",
      "Epoch 7/10\n",
      "320/320 [==============================] - 148s 462ms/step - loss: 1.2576 - accuracy: 0.5673 - val_loss: 1.4935 - val_accuracy: 0.4874\n",
      "Epoch 8/10\n",
      "320/320 [==============================] - 155s 484ms/step - loss: 1.2214 - accuracy: 0.5795 - val_loss: 1.5116 - val_accuracy: 0.4734\n",
      "Epoch 9/10\n",
      "320/320 [==============================] - 150s 469ms/step - loss: 1.1958 - accuracy: 0.5897 - val_loss: 1.5054 - val_accuracy: 0.4820\n",
      "Epoch 10/10\n",
      "320/320 [==============================] - 155s 486ms/step - loss: 1.1614 - accuracy: 0.6022 - val_loss: 1.5149 - val_accuracy: 0.4821\n"
     ]
    }
   ],
   "source": [
    "history=model.fit(X_train, y_train_hot,\n",
    "          validation_split=0.2,\n",
    "          epochs=10,\n",
    "          batch_size=100)"
   ]
  },
  {
   "cell_type": "markdown",
   "metadata": {
    "id": "UnEgeYJwB8zp"
   },
   "source": [
    "As you can notice there isn't much difference in the accuracy after adding one hidden layer!"
   ]
  },
  {
   "cell_type": "markdown",
   "metadata": {
    "id": "FAR84GDwPACm"
   },
   "source": [
    "## Convolutional neural network"
   ]
  },
  {
   "cell_type": "markdown",
   "metadata": {
    "id": "x5trZzdPPACm"
   },
   "source": [
    "Now let's build our most anticipated and historically successful CNN\n"
   ]
  },
  {
   "cell_type": "code",
   "execution_count": 27,
   "metadata": {
    "ExecuteTime": {
     "end_time": "2023-02-14T05:55:55.638935Z",
     "start_time": "2023-02-14T05:55:55.035618Z"
    },
    "id": "XMKXF-CUPACm"
   },
   "outputs": [],
   "source": [
    "train_images_normalized = X_train.astype('float32')\n",
    "validation_images_normalized = X_test.astype('float32')\n",
    "\n",
    "# normalize to range 0-1\n",
    "train_images_normalized = train_images_normalized / 255.0\n",
    "validation_images_normalized = validation_images_normalized / 255.0"
   ]
  },
  {
   "cell_type": "code",
   "execution_count": 28,
   "metadata": {
    "ExecuteTime": {
     "end_time": "2023-02-14T05:55:59.164853Z",
     "start_time": "2023-02-14T05:55:59.052276Z"
    },
    "colab": {
     "base_uri": "https://localhost:8080/"
    },
    "id": "4GQaEkdfPACm",
    "outputId": "79cf7d4c-646f-48e9-b2ac-b7e3a29c0cdd"
   },
   "outputs": [
    {
     "name": "stdout",
     "output_type": "stream",
     "text": [
      "Model: \"sequential\"\n",
      "_________________________________________________________________\n",
      " Layer (type)                Output Shape              Param #   \n",
      "=================================================================\n",
      " conv2d (Conv2D)             (None, 32, 32, 32)        896       \n",
      "                                                                 \n",
      " max_pooling2d (MaxPooling2D  (None, 16, 16, 32)       0         \n",
      " )                                                               \n",
      "                                                                 \n",
      " batch_normalization (BatchN  (None, 16, 16, 32)       128       \n",
      " ormalization)                                                   \n",
      "                                                                 \n",
      " conv2d_1 (Conv2D)           (None, 16, 16, 64)        18496     \n",
      "                                                                 \n",
      " max_pooling2d_1 (MaxPooling  (None, 8, 8, 64)         0         \n",
      " 2D)                                                             \n",
      "                                                                 \n",
      " batch_normalization_1 (Batc  (None, 8, 8, 64)         256       \n",
      " hNormalization)                                                 \n",
      "                                                                 \n",
      " flatten (Flatten)           (None, 4096)              0         \n",
      "                                                                 \n",
      " dense (Dense)               (None, 128)               524416    \n",
      "                                                                 \n",
      " dropout (Dropout)           (None, 128)               0         \n",
      "                                                                 \n",
      " dense_1 (Dense)             (None, 64)                8256      \n",
      "                                                                 \n",
      " batch_normalization_2 (Batc  (None, 64)               256       \n",
      " hNormalization)                                                 \n",
      "                                                                 \n",
      " dense_2 (Dense)             (None, 10)                650       \n",
      "                                                                 \n",
      "=================================================================\n",
      "Total params: 553,354\n",
      "Trainable params: 553,034\n",
      "Non-trainable params: 320\n",
      "_________________________________________________________________\n"
     ]
    }
   ],
   "source": [
    "from tensorflow.keras.layers import Conv2D, MaxPooling2D, Dropout\n",
    "\n",
    "callback = tf.keras.callbacks.EarlyStopping(monitor='loss', patience=3)\n",
    "\n",
    "backend.clear_session()\n",
    "\n",
    "model = keras.models.Sequential()\n",
    "model.add(Conv2D(32, (3, 3), activation='relu', padding=\"same\", input_shape=(32, 32, 3)))\n",
    "# Adding max pooling to reduce the size of output of first conv layer\n",
    "model.add(MaxPooling2D((2, 2), padding = 'same'))\n",
    "model.add(BatchNormalization())\n",
    "\n",
    "model.add(Conv2D(64, (3, 3), activation='relu', padding=\"same\"))\n",
    "model.add(MaxPooling2D((2, 2), padding = 'same'))\n",
    "model.add(BatchNormalization())\n",
    "\n",
    "# flattening the output of the conv layer after max pooling to make it ready for creating dense connections\n",
    "model.add(Flatten())\n",
    "\n",
    "# Adding a fully connected dense layer\n",
    "model.add(Dense(128, activation='relu'))\n",
    "model.add(Dropout(0.3))\n",
    "model.add(Dense(64, activation='relu'))\n",
    "model.add(BatchNormalization())\n",
    "# Adding the output layer with 10 neurons and activation functions as softmax since this is a multi-class classification problem\n",
    "model.add(Dense(10, activation='softmax'))\n",
    "\n",
    "opt=optimizers.Adam(learning_rate=0.001)\n",
    "# Compile model\n",
    "model.compile(optimizer=opt, loss='categorical_crossentropy', metrics=['accuracy'])\n",
    "\n",
    "# Generating the summary of the model\n",
    "model.summary()"
   ]
  },
  {
   "cell_type": "code",
   "execution_count": 29,
   "metadata": {
    "ExecuteTime": {
     "end_time": "2023-02-14T05:56:02.801462Z",
     "start_time": "2023-02-14T05:56:02.796806Z"
    },
    "id": "KfgIOuwWPACn"
   },
   "outputs": [],
   "source": [
    "from tensorflow.keras.utils import to_categorical as one_hot\n",
    "y_train_hot = one_hot(y_train)"
   ]
  },
  {
   "cell_type": "code",
   "execution_count": 30,
   "metadata": {
    "ExecuteTime": {
     "end_time": "2023-02-14T05:58:47.754349Z",
     "start_time": "2023-02-14T05:56:05.374296Z"
    },
    "colab": {
     "base_uri": "https://localhost:8080/"
    },
    "id": "ClL55GUCPACn",
    "outputId": "5a4dfeed-bead-4cd2-f434-bf3bdd8f5c5d"
   },
   "outputs": [
    {
     "name": "stdout",
     "output_type": "stream",
     "text": [
      "Epoch 1/50\n",
      "250/250 [==============================] - 80s 310ms/step - loss: 1.5038 - accuracy: 0.4680 - val_loss: 4.6375 - val_accuracy: 0.1645\n",
      "Epoch 2/50\n",
      "250/250 [==============================] - 74s 297ms/step - loss: 1.0702 - accuracy: 0.6193 - val_loss: 2.4589 - val_accuracy: 0.3458\n",
      "Epoch 3/50\n",
      "250/250 [==============================] - 80s 321ms/step - loss: 0.8977 - accuracy: 0.6836 - val_loss: 1.0228 - val_accuracy: 0.6389\n",
      "Epoch 4/50\n",
      "250/250 [==============================] - 76s 306ms/step - loss: 0.7681 - accuracy: 0.7301 - val_loss: 0.9280 - val_accuracy: 0.6749\n",
      "Epoch 5/50\n",
      "250/250 [==============================] - 75s 302ms/step - loss: 0.6560 - accuracy: 0.7726 - val_loss: 1.1222 - val_accuracy: 0.6385\n",
      "Epoch 6/50\n",
      "250/250 [==============================] - 76s 303ms/step - loss: 0.5509 - accuracy: 0.8087 - val_loss: 1.0110 - val_accuracy: 0.6639\n",
      "Epoch 7/50\n",
      "250/250 [==============================] - 75s 299ms/step - loss: 0.4705 - accuracy: 0.8387 - val_loss: 1.1203 - val_accuracy: 0.6500\n",
      "Epoch 8/50\n",
      "250/250 [==============================] - 78s 313ms/step - loss: 0.3968 - accuracy: 0.8608 - val_loss: 1.1991 - val_accuracy: 0.6604\n",
      "Epoch 9/50\n",
      "250/250 [==============================] - 79s 318ms/step - loss: 0.3308 - accuracy: 0.8850 - val_loss: 1.0900 - val_accuracy: 0.6804\n",
      "Epoch 10/50\n",
      "250/250 [==============================] - 75s 298ms/step - loss: 0.2805 - accuracy: 0.9045 - val_loss: 1.0115 - val_accuracy: 0.7160\n",
      "Epoch 11/50\n",
      "250/250 [==============================] - 73s 292ms/step - loss: 0.2558 - accuracy: 0.9101 - val_loss: 1.0441 - val_accuracy: 0.6988\n",
      "Epoch 12/50\n",
      "250/250 [==============================] - 78s 311ms/step - loss: 0.2226 - accuracy: 0.9241 - val_loss: 1.2294 - val_accuracy: 0.6756\n",
      "Epoch 13/50\n",
      "250/250 [==============================] - 72s 288ms/step - loss: 0.2051 - accuracy: 0.9284 - val_loss: 1.4554 - val_accuracy: 0.6470\n",
      "Epoch 14/50\n",
      "250/250 [==============================] - 75s 300ms/step - loss: 0.1814 - accuracy: 0.9379 - val_loss: 1.3096 - val_accuracy: 0.6689\n",
      "Epoch 15/50\n",
      "250/250 [==============================] - 77s 307ms/step - loss: 0.1688 - accuracy: 0.9420 - val_loss: 1.2773 - val_accuracy: 0.6926\n",
      "Epoch 16/50\n",
      "250/250 [==============================] - 84s 335ms/step - loss: 0.1611 - accuracy: 0.9456 - val_loss: 1.4480 - val_accuracy: 0.6716\n",
      "Epoch 17/50\n",
      "250/250 [==============================] - 76s 304ms/step - loss: 0.1564 - accuracy: 0.9462 - val_loss: 1.2787 - val_accuracy: 0.6942\n",
      "Epoch 18/50\n",
      "250/250 [==============================] - 78s 314ms/step - loss: 0.1469 - accuracy: 0.9505 - val_loss: 1.2804 - val_accuracy: 0.6895\n",
      "Epoch 19/50\n",
      "250/250 [==============================] - 75s 299ms/step - loss: 0.1269 - accuracy: 0.9565 - val_loss: 1.2583 - val_accuracy: 0.6974\n",
      "Epoch 20/50\n",
      "250/250 [==============================] - 75s 299ms/step - loss: 0.1282 - accuracy: 0.9557 - val_loss: 1.6322 - val_accuracy: 0.6324\n",
      "Epoch 21/50\n",
      "250/250 [==============================] - 78s 313ms/step - loss: 0.1319 - accuracy: 0.9537 - val_loss: 1.4246 - val_accuracy: 0.6911\n",
      "Epoch 22/50\n",
      "250/250 [==============================] - 76s 303ms/step - loss: 0.1131 - accuracy: 0.9616 - val_loss: 1.5724 - val_accuracy: 0.6800\n",
      "Epoch 23/50\n",
      "250/250 [==============================] - 77s 306ms/step - loss: 0.1110 - accuracy: 0.9621 - val_loss: 1.5073 - val_accuracy: 0.6917\n",
      "Epoch 24/50\n",
      "250/250 [==============================] - 78s 314ms/step - loss: 0.1120 - accuracy: 0.9617 - val_loss: 1.6884 - val_accuracy: 0.6411\n",
      "Epoch 25/50\n",
      "250/250 [==============================] - 74s 296ms/step - loss: 0.0973 - accuracy: 0.9662 - val_loss: 1.4523 - val_accuracy: 0.7036\n",
      "Epoch 26/50\n",
      "250/250 [==============================] - 73s 290ms/step - loss: 0.0989 - accuracy: 0.9657 - val_loss: 1.6952 - val_accuracy: 0.6991\n",
      "Epoch 27/50\n",
      "250/250 [==============================] - 78s 311ms/step - loss: 0.0984 - accuracy: 0.9644 - val_loss: 1.5115 - val_accuracy: 0.6840\n",
      "Epoch 28/50\n",
      "250/250 [==============================] - 74s 297ms/step - loss: 0.1026 - accuracy: 0.9639 - val_loss: 1.5041 - val_accuracy: 0.7036\n"
     ]
    }
   ],
   "source": [
    "history=model.fit(X_train, y_train_hot,\n",
    "          validation_split=0.2,\n",
    "          epochs=50,\n",
    "          batch_size=128,\n",
    "          callbacks=[callback],\n",
    "          shuffle=True)"
   ]
  },
  {
   "cell_type": "code",
   "execution_count": 31,
   "metadata": {
    "ExecuteTime": {
     "end_time": "2023-02-14T05:58:54.146941Z",
     "start_time": "2023-02-14T05:58:52.332928Z"
    },
    "colab": {
     "base_uri": "https://localhost:8080/"
    },
    "id": "MM1fGdN8PACn",
    "outputId": "e19c1fbd-4756-4f32-bef5-409664bc5ca9"
   },
   "outputs": [
    {
     "name": "stdout",
     "output_type": "stream",
     "text": [
      "313/313 [==============================] - 7s 21ms/step\n"
     ]
    }
   ],
   "source": [
    "y_pred = model.predict(validation_images_normalized)\n",
    "predicted_classes=np.argmax(y_pred,axis=1)"
   ]
  },
  {
   "cell_type": "code",
   "execution_count": 32,
   "metadata": {
    "colab": {
     "base_uri": "https://localhost:8080/"
    },
    "id": "TTbeCxR7Mscv",
    "outputId": "3d90d0b7-5520-4018-c43c-a37922fbf034"
   },
   "outputs": [
    {
     "name": "stdout",
     "output_type": "stream",
     "text": [
      "313/313 - 7s - loss: 1.4606 - accuracy: 0.7087 - 7s/epoch - 24ms/step\n"
     ]
    }
   ],
   "source": [
    "y_test_hot  = one_hot(y_test)\n",
    "accuracy = model.evaluate(X_test, y_test_hot, verbose=2)"
   ]
  },
  {
   "cell_type": "code",
   "execution_count": 33,
   "metadata": {
    "colab": {
     "base_uri": "https://localhost:8080/",
     "height": 472
    },
    "id": "JpM2B7fEDyAJ",
    "outputId": "7953ab25-5b6b-44cd-e5b8-6ff7d91a15ed"
   },
   "outputs": [
    {
     "data": {
      "image/png": "[encoded data removed]",
      "text/plain": [
       "<Figure size 640x480 with 1 Axes>"
      ]
     },
     "metadata": {},
     "output_type": "display_data"
    }
   ],
   "source": [
    "# Plot training & validation accuracy values\n",
    "plt.plot(history.history['accuracy'])\n",
    "plt.plot(history.history['val_accuracy'])\n",
    "\n",
    "plt.title('Model accuracy')\n",
    "plt.ylabel('Accuracy')\n",
    "plt.xlabel('Epoch')\n",
    "plt.legend(['Train', 'Test'], loc='upper left')\n",
    "plt.show()"
   ]
  },
  {
   "cell_type": "markdown",
   "metadata": {
    "id": "4Ska0jk7Ui7I"
   },
   "source": [
    "We obtain 70% accuracy here as compared to 40% in our previous simple neural networks.\n",
    "There is significant increase in accuracy with CNN :-) 🥲"
   ]
  },
  {
   "cell_type": "markdown",
   "metadata": {
    "id": "m0RSsoe9PACn"
   },
   "source": [
    "## Transfer learning with Xception"
   ]
  },
  {
   "cell_type": "markdown",
   "metadata": {
    "id": "xkT2QKi5PACo"
   },
   "source": [
    "Xception is the extreme version of the Inception model with depthwise separable convolutions and has been created by Google ( [Xception reference](https://https://towardsdatascience.com/review-xception-with-depthwise-separable-convolution-better-than-inception-v3-image-dc967dd42568) ) and a combination of depthwise and pointwise convolutions. This model has outperformed VGG, Inception and Resnet in training the Imagenet dataset."
   ]
  },
  {
   "cell_type": "code",
   "execution_count": 34,
   "metadata": {
    "colab": {
     "base_uri": "https://localhost:8080/"
    },
    "id": "1JwhGoq0N2Fp",
    "outputId": "5c5ddca8-69c4-463b-8e99-8b237e9a7146"
   },
   "outputs": [
    {
     "name": "stdout",
     "output_type": "stream",
     "text": [
      "Downloading data from https://storage.googleapis.com/tensorflow/keras-applications/xception/xception_weights_tf_dim_ordering_tf_kernels_notop.h5\n",
      "83683744/83683744 [==============================] - 1s 0us/step\n",
      "Model: \"xception\"\n",
      "__________________________________________________________________________________________________\n",
      " Layer (type)                   Output Shape         Param #     Connected to                     \n",
      "==================================================================================================\n",
      " input_1 (InputLayer)           [(None, 128, 128, 3  0           []                               \n",
      "                                )]                                                                \n",
      "                                                                                                  \n",
      " block1_conv1 (Conv2D)          (None, 63, 63, 32)   864         ['input_1[0][0]']                \n",
      "                                                                                                  \n",
      " block1_conv1_bn (BatchNormaliz  (None, 63, 63, 32)  128         ['block1_conv1[0][0]']           \n",
      " ation)                                                                                           \n",
      "                                                                                                  \n",
      " block1_conv1_act (Activation)  (None, 63, 63, 32)   0           ['block1_conv1_bn[0][0]']        \n",
      "                                                                                                  \n",
      " block1_conv2 (Conv2D)          (None, 61, 61, 64)   18432       ['block1_conv1_act[0][0]']       \n",
      "                                                                                                  \n",
      " block1_conv2_bn (BatchNormaliz  (None, 61, 61, 64)  256         ['block1_conv2[0][0]']           \n",
      " ation)                                                                                           \n",
      "                                                                                                  \n",
      " block1_conv2_act (Activation)  (None, 61, 61, 64)   0           ['block1_conv2_bn[0][0]']        \n",
      "                                                                                                  \n",
      " block2_sepconv1 (SeparableConv  (None, 61, 61, 128)  8768       ['block1_conv2_act[0][0]']       \n",
      " 2D)                                                                                              \n",
      "                                                                                                  \n",
      " block2_sepconv1_bn (BatchNorma  (None, 61, 61, 128)  512        ['block2_sepconv1[0][0]']        \n",
      " lization)                                                                                        \n",
      "                                                                                                  \n",
      " block2_sepconv2_act (Activatio  (None, 61, 61, 128)  0          ['block2_sepconv1_bn[0][0]']     \n",
      " n)                                                                                               \n",
      "                                                                                                  \n",
      " block2_sepconv2 (SeparableConv  (None, 61, 61, 128)  17536      ['block2_sepconv2_act[0][0]']    \n",
      " 2D)                                                                                              \n",
      "                                                                                                  \n",
      " block2_sepconv2_bn (BatchNorma  (None, 61, 61, 128)  512        ['block2_sepconv2[0][0]']        \n",
      " lization)                                                                                        \n",
      "                                                                                                  \n",
      " conv2d (Conv2D)                (None, 31, 31, 128)  8192        ['block1_conv2_act[0][0]']       \n",
      "                                                                                                  \n",
      " block2_pool (MaxPooling2D)     (None, 31, 31, 128)  0           ['block2_sepconv2_bn[0][0]']     \n",
      "                                                                                                  \n",
      " batch_normalization (BatchNorm  (None, 31, 31, 128)  512        ['conv2d[0][0]']                 \n",
      " alization)                                                                                       \n",
      "                                                                                                  \n",
      " add (Add)                      (None, 31, 31, 128)  0           ['block2_pool[0][0]',            \n",
      "                                                                  'batch_normalization[0][0]']    \n",
      "                                                                                                  \n",
      " block3_sepconv1_act (Activatio  (None, 31, 31, 128)  0          ['add[0][0]']                    \n",
      " n)                                                                                               \n",
      "                                                                                                  \n",
      " block3_sepconv1 (SeparableConv  (None, 31, 31, 256)  33920      ['block3_sepconv1_act[0][0]']    \n",
      " 2D)                                                                                              \n",
      "                                                                                                  \n",
      " block3_sepconv1_bn (BatchNorma  (None, 31, 31, 256)  1024       ['block3_sepconv1[0][0]']        \n",
      " lization)                                                                                        \n",
      "                                                                                                  \n",
      " block3_sepconv2_act (Activatio  (None, 31, 31, 256)  0          ['block3_sepconv1_bn[0][0]']     \n",
      " n)                                                                                               \n",
      "                                                                                                  \n",
      " block3_sepconv2 (SeparableConv  (None, 31, 31, 256)  67840      ['block3_sepconv2_act[0][0]']    \n",
      " 2D)                                                                                              \n",
      "                                                                                                  \n",
      " block3_sepconv2_bn (BatchNorma  (None, 31, 31, 256)  1024       ['block3_sepconv2[0][0]']        \n",
      " lization)                                                                                        \n",
      "                                                                                                  \n",
      " conv2d_1 (Conv2D)              (None, 16, 16, 256)  32768       ['add[0][0]']                    \n",
      "                                                                                                  \n",
      " block3_pool (MaxPooling2D)     (None, 16, 16, 256)  0           ['block3_sepconv2_bn[0][0]']     \n",
      "                                                                                                  \n",
      " batch_normalization_1 (BatchNo  (None, 16, 16, 256)  1024       ['conv2d_1[0][0]']               \n",
      " rmalization)                                                                                     \n",
      "                                                                                                  \n",
      " add_1 (Add)                    (None, 16, 16, 256)  0           ['block3_pool[0][0]',            \n",
      "                                                                  'batch_normalization_1[0][0]']  \n",
      "                                                                                                  \n",
      " block4_sepconv1_act (Activatio  (None, 16, 16, 256)  0          ['add_1[0][0]']                  \n",
      " n)                                                                                               \n",
      "                                                                                                  \n",
      " block4_sepconv1 (SeparableConv  (None, 16, 16, 728)  188672     ['block4_sepconv1_act[0][0]']    \n",
      " 2D)                                                                                              \n",
      "                                                                                                  \n",
      " block4_sepconv1_bn (BatchNorma  (None, 16, 16, 728)  2912       ['block4_sepconv1[0][0]']        \n",
      " lization)                                                                                        \n",
      "                                                                                                  \n",
      " block4_sepconv2_act (Activatio  (None, 16, 16, 728)  0          ['block4_sepconv1_bn[0][0]']     \n",
      " n)                                                                                               \n",
      "                                                                                                  \n",
      " block4_sepconv2 (SeparableConv  (None, 16, 16, 728)  536536     ['block4_sepconv2_act[0][0]']    \n",
      " 2D)                                                                                              \n",
      "                                                                                                  \n",
      " block4_sepconv2_bn (BatchNorma  (None, 16, 16, 728)  2912       ['block4_sepconv2[0][0]']        \n",
      " lization)                                                                                        \n",
      "                                                                                                  \n",
      " conv2d_2 (Conv2D)              (None, 8, 8, 728)    186368      ['add_1[0][0]']                  \n",
      "                                                                                                  \n",
      " block4_pool (MaxPooling2D)     (None, 8, 8, 728)    0           ['block4_sepconv2_bn[0][0]']     \n",
      "                                                                                                  \n",
      " batch_normalization_2 (BatchNo  (None, 8, 8, 728)   2912        ['conv2d_2[0][0]']               \n",
      " rmalization)                                                                                     \n",
      "                                                                                                  \n",
      " add_2 (Add)                    (None, 8, 8, 728)    0           ['block4_pool[0][0]',            \n",
      "                                                                  'batch_normalization_2[0][0]']  \n",
      "                                                                                                  \n",
      " block5_sepconv1_act (Activatio  (None, 8, 8, 728)   0           ['add_2[0][0]']                  \n",
      " n)                                                                                               \n",
      "                                                                                                  \n",
      " block5_sepconv1 (SeparableConv  (None, 8, 8, 728)   536536      ['block5_sepconv1_act[0][0]']    \n",
      " 2D)                                                                                              \n",
      "                                                                                                  \n",
      " block5_sepconv1_bn (BatchNorma  (None, 8, 8, 728)   2912        ['block5_sepconv1[0][0]']        \n",
      " lization)                                                                                        \n",
      "                                                                                                  \n",
      " block5_sepconv2_act (Activatio  (None, 8, 8, 728)   0           ['block5_sepconv1_bn[0][0]']     \n",
      " n)                                                                                               \n",
      "                                                                                                  \n",
      " block5_sepconv2 (SeparableConv  (None, 8, 8, 728)   536536      ['block5_sepconv2_act[0][0]']    \n",
      " 2D)                                                                                              \n",
      "                                                                                                  \n",
      " block5_sepconv2_bn (BatchNorma  (None, 8, 8, 728)   2912        ['block5_sepconv2[0][0]']        \n",
      " lization)                                                                                        \n",
      "                                                                                                  \n",
      " block5_sepconv3_act (Activatio  (None, 8, 8, 728)   0           ['block5_sepconv2_bn[0][0]']     \n",
      " n)                                                                                               \n",
      "                                                                                                  \n",
      " block5_sepconv3 (SeparableConv  (None, 8, 8, 728)   536536      ['block5_sepconv3_act[0][0]']    \n",
      " 2D)                                                                                              \n",
      "                                                                                                  \n",
      " block5_sepconv3_bn (BatchNorma  (None, 8, 8, 728)   2912        ['block5_sepconv3[0][0]']        \n",
      " lization)                                                                                        \n",
      "                                                                                                  \n",
      " add_3 (Add)                    (None, 8, 8, 728)    0           ['block5_sepconv3_bn[0][0]',     \n",
      "                                                                  'add_2[0][0]']                  \n",
      "                                                                                                  \n",
      " block6_sepconv1_act (Activatio  (None, 8, 8, 728)   0           ['add_3[0][0]']                  \n",
      " n)                                                                                               \n",
      "                                                                                                  \n",
      " block6_sepconv1 (SeparableConv  (None, 8, 8, 728)   536536      ['block6_sepconv1_act[0][0]']    \n",
      " 2D)                                                                                              \n",
      "                                                                                                  \n",
      " block6_sepconv1_bn (BatchNorma  (None, 8, 8, 728)   2912        ['block6_sepconv1[0][0]']        \n",
      " lization)                                                                                        \n",
      "                                                                                                  \n",
      " block6_sepconv2_act (Activatio  (None, 8, 8, 728)   0           ['block6_sepconv1_bn[0][0]']     \n",
      " n)                                                                                               \n",
      "                                                                                                  \n",
      " block6_sepconv2 (SeparableConv  (None, 8, 8, 728)   536536      ['block6_sepconv2_act[0][0]']    \n",
      " 2D)                                                                                              \n",
      "                                                                                                  \n",
      " block6_sepconv2_bn (BatchNorma  (None, 8, 8, 728)   2912        ['block6_sepconv2[0][0]']        \n",
      " lization)                                                                                        \n",
      "                                                                                                  \n",
      " block6_sepconv3_act (Activatio  (None, 8, 8, 728)   0           ['block6_sepconv2_bn[0][0]']     \n",
      " n)                                                                                               \n",
      "                                                                                                  \n",
      " block6_sepconv3 (SeparableConv  (None, 8, 8, 728)   536536      ['block6_sepconv3_act[0][0]']    \n",
      " 2D)                                                                                              \n",
      "                                                                                                  \n",
      " block6_sepconv3_bn (BatchNorma  (None, 8, 8, 728)   2912        ['block6_sepconv3[0][0]']        \n",
      " lization)                                                                                        \n",
      "                                                                                                  \n",
      " add_4 (Add)                    (None, 8, 8, 728)    0           ['block6_sepconv3_bn[0][0]',     \n",
      "                                                                  'add_3[0][0]']                  \n",
      "                                                                                                  \n",
      " block7_sepconv1_act (Activatio  (None, 8, 8, 728)   0           ['add_4[0][0]']                  \n",
      " n)                                                                                               \n",
      "                                                                                                  \n",
      " block7_sepconv1 (SeparableConv  (None, 8, 8, 728)   536536      ['block7_sepconv1_act[0][0]']    \n",
      " 2D)                                                                                              \n",
      "                                                                                                  \n",
      " block7_sepconv1_bn (BatchNorma  (None, 8, 8, 728)   2912        ['block7_sepconv1[0][0]']        \n",
      " lization)                                                                                        \n",
      "                                                                                                  \n",
      " block7_sepconv2_act (Activatio  (None, 8, 8, 728)   0           ['block7_sepconv1_bn[0][0]']     \n",
      " n)                                                                                               \n",
      "                                                                                                  \n",
      " block7_sepconv2 (SeparableConv  (None, 8, 8, 728)   536536      ['block7_sepconv2_act[0][0]']    \n",
      " 2D)                                                                                              \n",
      "                                                                                                  \n",
      " block7_sepconv2_bn (BatchNorma  (None, 8, 8, 728)   2912        ['block7_sepconv2[0][0]']        \n",
      " lization)                                                                                        \n",
      "                                                                                                  \n",
      " block7_sepconv3_act (Activatio  (None, 8, 8, 728)   0           ['block7_sepconv2_bn[0][0]']     \n",
      " n)                                                                                               \n",
      "                                                                                                  \n",
      " block7_sepconv3 (SeparableConv  (None, 8, 8, 728)   536536      ['block7_sepconv3_act[0][0]']    \n",
      " 2D)                                                                                              \n",
      "                                                                                                  \n",
      " block7_sepconv3_bn (BatchNorma  (None, 8, 8, 728)   2912        ['block7_sepconv3[0][0]']        \n",
      " lization)                                                                                        \n",
      "                                                                                                  \n",
      " add_5 (Add)                    (None, 8, 8, 728)    0           ['block7_sepconv3_bn[0][0]',     \n",
      "                                                                  'add_4[0][0]']                  \n",
      "                                                                                                  \n",
      " block8_sepconv1_act (Activatio  (None, 8, 8, 728)   0           ['add_5[0][0]']                  \n",
      " n)                                                                                               \n",
      "                                                                                                  \n",
      " block8_sepconv1 (SeparableConv  (None, 8, 8, 728)   536536      ['block8_sepconv1_act[0][0]']    \n",
      " 2D)                                                                                              \n",
      "                                                                                                  \n",
      " block8_sepconv1_bn (BatchNorma  (None, 8, 8, 728)   2912        ['block8_sepconv1[0][0]']        \n",
      " lization)                                                                                        \n",
      "                                                                                                  \n",
      " block8_sepconv2_act (Activatio  (None, 8, 8, 728)   0           ['block8_sepconv1_bn[0][0]']     \n",
      " n)                                                                                               \n",
      "                                                                                                  \n",
      " block8_sepconv2 (SeparableConv  (None, 8, 8, 728)   536536      ['block8_sepconv2_act[0][0]']    \n",
      " 2D)                                                                                              \n",
      "                                                                                                  \n",
      " block8_sepconv2_bn (BatchNorma  (None, 8, 8, 728)   2912        ['block8_sepconv2[0][0]']        \n",
      " lization)                                                                                        \n",
      "                                                                                                  \n",
      " block8_sepconv3_act (Activatio  (None, 8, 8, 728)   0           ['block8_sepconv2_bn[0][0]']     \n",
      " n)                                                                                               \n",
      "                                                                                                  \n",
      " block8_sepconv3 (SeparableConv  (None, 8, 8, 728)   536536      ['block8_sepconv3_act[0][0]']    \n",
      " 2D)                                                                                              \n",
      "                                                                                                  \n",
      " block8_sepconv3_bn (BatchNorma  (None, 8, 8, 728)   2912        ['block8_sepconv3[0][0]']        \n",
      " lization)                                                                                        \n",
      "                                                                                                  \n",
      " add_6 (Add)                    (None, 8, 8, 728)    0           ['block8_sepconv3_bn[0][0]',     \n",
      "                                                                  'add_5[0][0]']                  \n",
      "                                                                                                  \n",
      " block9_sepconv1_act (Activatio  (None, 8, 8, 728)   0           ['add_6[0][0]']                  \n",
      " n)                                                                                               \n",
      "                                                                                                  \n",
      " block9_sepconv1 (SeparableConv  (None, 8, 8, 728)   536536      ['block9_sepconv1_act[0][0]']    \n",
      " 2D)                                                                                              \n",
      "                                                                                                  \n",
      " block9_sepconv1_bn (BatchNorma  (None, 8, 8, 728)   2912        ['block9_sepconv1[0][0]']        \n",
      " lization)                                                                                        \n",
      "                                                                                                  \n",
      " block9_sepconv2_act (Activatio  (None, 8, 8, 728)   0           ['block9_sepconv1_bn[0][0]']     \n",
      " n)                                                                                               \n",
      "                                                                                                  \n",
      " block9_sepconv2 (SeparableConv  (None, 8, 8, 728)   536536      ['block9_sepconv2_act[0][0]']    \n",
      " 2D)                                                                                              \n",
      "                                                                                                  \n",
      " block9_sepconv2_bn (BatchNorma  (None, 8, 8, 728)   2912        ['block9_sepconv2[0][0]']        \n",
      " lization)                                                                                        \n",
      "                                                                                                  \n",
      " block9_sepconv3_act (Activatio  (None, 8, 8, 728)   0           ['block9_sepconv2_bn[0][0]']     \n",
      " n)                                                                                               \n",
      "                                                                                                  \n",
      " block9_sepconv3 (SeparableConv  (None, 8, 8, 728)   536536      ['block9_sepconv3_act[0][0]']    \n",
      " 2D)                                                                                              \n",
      "                                                                                                  \n",
      " block9_sepconv3_bn (BatchNorma  (None, 8, 8, 728)   2912        ['block9_sepconv3[0][0]']        \n",
      " lization)                                                                                        \n",
      "                                                                                                  \n",
      " add_7 (Add)                    (None, 8, 8, 728)    0           ['block9_sepconv3_bn[0][0]',     \n",
      "                                                                  'add_6[0][0]']                  \n",
      "                                                                                                  \n",
      " block10_sepconv1_act (Activati  (None, 8, 8, 728)   0           ['add_7[0][0]']                  \n",
      " on)                                                                                              \n",
      "                                                                                                  \n",
      " block10_sepconv1 (SeparableCon  (None, 8, 8, 728)   536536      ['block10_sepconv1_act[0][0]']   \n",
      " v2D)                                                                                             \n",
      "                                                                                                  \n",
      " block10_sepconv1_bn (BatchNorm  (None, 8, 8, 728)   2912        ['block10_sepconv1[0][0]']       \n",
      " alization)                                                                                       \n",
      "                                                                                                  \n",
      " block10_sepconv2_act (Activati  (None, 8, 8, 728)   0           ['block10_sepconv1_bn[0][0]']    \n",
      " on)                                                                                              \n",
      "                                                                                                  \n",
      " block10_sepconv2 (SeparableCon  (None, 8, 8, 728)   536536      ['block10_sepconv2_act[0][0]']   \n",
      " v2D)                                                                                             \n",
      "                                                                                                  \n",
      " block10_sepconv2_bn (BatchNorm  (None, 8, 8, 728)   2912        ['block10_sepconv2[0][0]']       \n",
      " alization)                                                                                       \n",
      "                                                                                                  \n",
      " block10_sepconv3_act (Activati  (None, 8, 8, 728)   0           ['block10_sepconv2_bn[0][0]']    \n",
      " on)                                                                                              \n",
      "                                                                                                  \n",
      " block10_sepconv3 (SeparableCon  (None, 8, 8, 728)   536536      ['block10_sepconv3_act[0][0]']   \n",
      " v2D)                                                                                             \n",
      "                                                                                                  \n",
      " block10_sepconv3_bn (BatchNorm  (None, 8, 8, 728)   2912        ['block10_sepconv3[0][0]']       \n",
      " alization)                                                                                       \n",
      "                                                                                                  \n",
      " add_8 (Add)                    (None, 8, 8, 728)    0           ['block10_sepconv3_bn[0][0]',    \n",
      "                                                                  'add_7[0][0]']                  \n",
      "                                                                                                  \n",
      " block11_sepconv1_act (Activati  (None, 8, 8, 728)   0           ['add_8[0][0]']                  \n",
      " on)                                                                                              \n",
      "                                                                                                  \n",
      " block11_sepconv1 (SeparableCon  (None, 8, 8, 728)   536536      ['block11_sepconv1_act[0][0]']   \n",
      " v2D)                                                                                             \n",
      "                                                                                                  \n",
      " block11_sepconv1_bn (BatchNorm  (None, 8, 8, 728)   2912        ['block11_sepconv1[0][0]']       \n",
      " alization)                                                                                       \n",
      "                                                                                                  \n",
      " block11_sepconv2_act (Activati  (None, 8, 8, 728)   0           ['block11_sepconv1_bn[0][0]']    \n",
      " on)                                                                                              \n",
      "                                                                                                  \n",
      " block11_sepconv2 (SeparableCon  (None, 8, 8, 728)   536536      ['block11_sepconv2_act[0][0]']   \n",
      " v2D)                                                                                             \n",
      "                                                                                                  \n",
      " block11_sepconv2_bn (BatchNorm  (None, 8, 8, 728)   2912        ['block11_sepconv2[0][0]']       \n",
      " alization)                                                                                       \n",
      "                                                                                                  \n",
      " block11_sepconv3_act (Activati  (None, 8, 8, 728)   0           ['block11_sepconv2_bn[0][0]']    \n",
      " on)                                                                                              \n",
      "                                                                                                  \n",
      " block11_sepconv3 (SeparableCon  (None, 8, 8, 728)   536536      ['block11_sepconv3_act[0][0]']   \n",
      " v2D)                                                                                             \n",
      "                                                                                                  \n",
      " block11_sepconv3_bn (BatchNorm  (None, 8, 8, 728)   2912        ['block11_sepconv3[0][0]']       \n",
      " alization)                                                                                       \n",
      "                                                                                                  \n",
      " add_9 (Add)                    (None, 8, 8, 728)    0           ['block11_sepconv3_bn[0][0]',    \n",
      "                                                                  'add_8[0][0]']                  \n",
      "                                                                                                  \n",
      " block12_sepconv1_act (Activati  (None, 8, 8, 728)   0           ['add_9[0][0]']                  \n",
      " on)                                                                                              \n",
      "                                                                                                  \n",
      " block12_sepconv1 (SeparableCon  (None, 8, 8, 728)   536536      ['block12_sepconv1_act[0][0]']   \n",
      " v2D)                                                                                             \n",
      "                                                                                                  \n",
      " block12_sepconv1_bn (BatchNorm  (None, 8, 8, 728)   2912        ['block12_sepconv1[0][0]']       \n",
      " alization)                                                                                       \n",
      "                                                                                                  \n",
      " block12_sepconv2_act (Activati  (None, 8, 8, 728)   0           ['block12_sepconv1_bn[0][0]']    \n",
      " on)                                                                                              \n",
      "                                                                                                  \n",
      " block12_sepconv2 (SeparableCon  (None, 8, 8, 728)   536536      ['block12_sepconv2_act[0][0]']   \n",
      " v2D)                                                                                             \n",
      "                                                                                                  \n",
      " block12_sepconv2_bn (BatchNorm  (None, 8, 8, 728)   2912        ['block12_sepconv2[0][0]']       \n",
      " alization)                                                                                       \n",
      "                                                                                                  \n",
      " block12_sepconv3_act (Activati  (None, 8, 8, 728)   0           ['block12_sepconv2_bn[0][0]']    \n",
      " on)                                                                                              \n",
      "                                                                                                  \n",
      " block12_sepconv3 (SeparableCon  (None, 8, 8, 728)   536536      ['block12_sepconv3_act[0][0]']   \n",
      " v2D)                                                                                             \n",
      "                                                                                                  \n",
      " block12_sepconv3_bn (BatchNorm  (None, 8, 8, 728)   2912        ['block12_sepconv3[0][0]']       \n",
      " alization)                                                                                       \n",
      "                                                                                                  \n",
      " add_10 (Add)                   (None, 8, 8, 728)    0           ['block12_sepconv3_bn[0][0]',    \n",
      "                                                                  'add_9[0][0]']                  \n",
      "                                                                                                  \n",
      " block13_sepconv1_act (Activati  (None, 8, 8, 728)   0           ['add_10[0][0]']                 \n",
      " on)                                                                                              \n",
      "                                                                                                  \n",
      " block13_sepconv1 (SeparableCon  (None, 8, 8, 728)   536536      ['block13_sepconv1_act[0][0]']   \n",
      " v2D)                                                                                             \n",
      "                                                                                                  \n",
      " block13_sepconv1_bn (BatchNorm  (None, 8, 8, 728)   2912        ['block13_sepconv1[0][0]']       \n",
      " alization)                                                                                       \n",
      "                                                                                                  \n",
      " block13_sepconv2_act (Activati  (None, 8, 8, 728)   0           ['block13_sepconv1_bn[0][0]']    \n",
      " on)                                                                                              \n",
      "                                                                                                  \n",
      " block13_sepconv2 (SeparableCon  (None, 8, 8, 1024)  752024      ['block13_sepconv2_act[0][0]']   \n",
      " v2D)                                                                                             \n",
      "                                                                                                  \n",
      " block13_sepconv2_bn (BatchNorm  (None, 8, 8, 1024)  4096        ['block13_sepconv2[0][0]']       \n",
      " alization)                                                                                       \n",
      "                                                                                                  \n",
      " conv2d_3 (Conv2D)              (None, 4, 4, 1024)   745472      ['add_10[0][0]']                 \n",
      "                                                                                                  \n",
      " block13_pool (MaxPooling2D)    (None, 4, 4, 1024)   0           ['block13_sepconv2_bn[0][0]']    \n",
      "                                                                                                  \n",
      " batch_normalization_3 (BatchNo  (None, 4, 4, 1024)  4096        ['conv2d_3[0][0]']               \n",
      " rmalization)                                                                                     \n",
      "                                                                                                  \n",
      " add_11 (Add)                   (None, 4, 4, 1024)   0           ['block13_pool[0][0]',           \n",
      "                                                                  'batch_normalization_3[0][0]']  \n",
      "                                                                                                  \n",
      " block14_sepconv1 (SeparableCon  (None, 4, 4, 1536)  1582080     ['add_11[0][0]']                 \n",
      " v2D)                                                                                             \n",
      "                                                                                                  \n",
      " block14_sepconv1_bn (BatchNorm  (None, 4, 4, 1536)  6144        ['block14_sepconv1[0][0]']       \n",
      " alization)                                                                                       \n",
      "                                                                                                  \n",
      " block14_sepconv1_act (Activati  (None, 4, 4, 1536)  0           ['block14_sepconv1_bn[0][0]']    \n",
      " on)                                                                                              \n",
      "                                                                                                  \n",
      " block14_sepconv2 (SeparableCon  (None, 4, 4, 2048)  3159552     ['block14_sepconv1_act[0][0]']   \n",
      " v2D)                                                                                             \n",
      "                                                                                                  \n",
      " block14_sepconv2_bn (BatchNorm  (None, 4, 4, 2048)  8192        ['block14_sepconv2[0][0]']       \n",
      " alization)                                                                                       \n",
      "                                                                                                  \n",
      " block14_sepconv2_act (Activati  (None, 4, 4, 2048)  0           ['block14_sepconv2_bn[0][0]']    \n",
      " on)                                                                                              \n",
      "                                                                                                  \n",
      "==================================================================================================\n",
      "Total params: 20,861,480\n",
      "Trainable params: 20,806,952\n",
      "Non-trainable params: 54,528\n",
      "__________________________________________________________________________________________________\n"
     ]
    }
   ],
   "source": [
    "# Clearing backend\n",
    "from tensorflow.keras import backend\n",
    "backend.clear_session()\n",
    "\n",
    "# Fixing the seed for random number generators\n",
    "import random\n",
    "np.random.seed(42)\n",
    "random.seed(42)\n",
    "tf.random.set_seed(42)\n",
    "\n",
    "from tensorflow.keras.models import Model\n",
    "from keras.applications.xception import Xception\n",
    "\n",
    "#xception_model = Xception(weights='imagenet', include_top = False, input_shape = (128,128,3))\n",
    "xception_model = Xception(weights='imagenet', include_top = False, input_shape = (128,128,3))\n",
    "xception_model.summary()\n"
   ]
  },
  {
   "cell_type": "code",
   "execution_count": 35,
   "metadata": {
    "id": "a9vudIvnJG8f"
   },
   "outputs": [],
   "source": [
    "# Making all the layers of the VGG model non-trainable. i.e. freezing them\n",
    "for layer in xception_model.layers:\n",
    "    layer.trainable = False"
   ]
  },
  {
   "cell_type": "code",
   "execution_count": 36,
   "metadata": {
    "id": "Kpz8DAemSKRy"
   },
   "outputs": [],
   "source": [
    "from tensorflow.keras.layers import Conv2D, MaxPooling2D,Dropout,Resizing\n",
    "from tensorflow.keras import backend\n",
    "from tensorflow.keras.layers import Dense, Input, Dropout,BatchNormalization,Flatten\n",
    "from tensorflow.keras import optimizers\n",
    "from tensorflow.keras import losses\n",
    "backend.clear_session()\n",
    "import gc\n",
    "\n",
    "callback = tf.keras.callbacks.EarlyStopping(monitor='loss', patience=3)"
   ]
  },
  {
   "cell_type": "code",
   "execution_count": 37,
   "metadata": {
    "id": "P-WbImOUOH20"
   },
   "outputs": [],
   "source": [
    "from tensorflow.keras.layers import Conv2D, MaxPooling2D,Dropout,Resizing\n",
    "\n",
    "backend.clear_session()\n",
    "transfer_learning_model = keras.models.Sequential()\n",
    "\n",
    "transfer_learning_model.add(Resizing(128, 128, interpolation=\"bilinear\", crop_to_aspect_ratio=False))\n",
    "\n",
    "# Adding the convolutional part of the VGG16 model from above\n",
    "transfer_learning_model.add(xception_model)\n",
    "# Flattening the output of the VGG16 model because it is from a convolutional layer\n",
    "transfer_learning_model.add(Flatten())\n",
    "\n",
    "# Adding a dense output layer\n",
    "transfer_learning_model.add(Dense(128, activation='relu'))\n",
    "transfer_learning_model.add(BatchNormalization())\n",
    "transfer_learning_model.add(Dense(32, activation='relu'))\n",
    "# transfer_learning_model.add(Dropout(0.2))\n",
    "transfer_learning_model.add(Dense(10, activation='softmax'))\n",
    "\n",
    "# Compile model\n",
    "transfer_learning_model.compile(optimizer='adam', loss='categorical_crossentropy', metrics=['accuracy'])\n"
   ]
  },
  {
   "cell_type": "code",
   "execution_count": 38,
   "metadata": {
    "colab": {
     "base_uri": "https://localhost:8080/"
    },
    "id": "wfTIEIO_RNgq",
    "outputId": "6c1f565b-9f4c-48d6-d26f-e456dd38841b"
   },
   "outputs": [
    {
     "name": "stdout",
     "output_type": "stream",
     "text": [
      "Model: \"sequential\"\n",
      "_________________________________________________________________\n",
      " Layer (type)                Output Shape              Param #   \n",
      "=================================================================\n",
      " resizing (Resizing)         (None, 128, 128, 3)       0         \n",
      "                                                                 \n",
      " xception (Functional)       (None, 4, 4, 2048)        20861480  \n",
      "                                                                 \n",
      " flatten (Flatten)           (None, 32768)             0         \n",
      "                                                                 \n",
      " dense (Dense)               (None, 128)               4194432   \n",
      "                                                                 \n",
      " batch_normalization (BatchN  (None, 128)              512       \n",
      " ormalization)                                                   \n",
      "                                                                 \n",
      " dense_1 (Dense)             (None, 32)                4128      \n",
      "                                                                 \n",
      " dense_2 (Dense)             (None, 10)                330       \n",
      "                                                                 \n",
      "=================================================================\n",
      "Total params: 25,060,882\n",
      "Trainable params: 4,199,146\n",
      "Non-trainable params: 20,861,736\n",
      "_________________________________________________________________\n"
     ]
    }
   ],
   "source": [
    "transfer_learning_model.build((None,32,32,3))\n",
    "transfer_learning_model.summary()"
   ]
  },
  {
   "cell_type": "code",
   "execution_count": 39,
   "metadata": {
    "id": "jcV3lv9PQiX9"
   },
   "outputs": [],
   "source": [
    "from tensorflow.keras.utils import to_categorical as one_hot\n",
    "\n",
    "train_images_normalized = X_train.astype('float32')\n",
    "validation_images_normalized = X_test.astype('float32')\n",
    "\n",
    "# normalize to range 0-1\n",
    "train_images_normalized = train_images_normalized / 255.0\n",
    "validation_images_normalized = validation_images_normalized / 255.0\n",
    "\n",
    "y_train_hot = one_hot(y_train)\n",
    "# y_test_hot  = one_hot(y_test)"
   ]
  },
  {
   "cell_type": "code",
   "execution_count": null,
   "metadata": {
    "colab": {
     "base_uri": "https://localhost:8080/"
    },
    "id": "Hwa-AXnEQzgg",
    "outputId": "eddf5d7d-284c-431d-8476-0b2284c41c7e"
   },
   "outputs": [
    {
     "name": "stdout",
     "output_type": "stream",
     "text": [
      "Epoch 1/30\n",
      "1067/1067 [==============================] - 3075s 3s/step - loss: 0.7484 - accuracy: 0.7489 - val_loss: 0.6493 - val_accuracy: 0.7780\n",
      "Epoch 2/30\n",
      "1067/1067 [==============================] - 3180s 3s/step - loss: 0.5564 - accuracy: 0.8107 - val_loss: 0.5988 - val_accuracy: 0.7920\n",
      "Epoch 3/30\n",
      "1067/1067 [==============================] - 3097s 3s/step - loss: 0.4661 - accuracy: 0.8384 - val_loss: 0.6091 - val_accuracy: 0.7959\n",
      "Epoch 4/30\n",
      "1067/1067 [==============================] - 3096s 3s/step - loss: 0.4008 - accuracy: 0.8615 - val_loss: 0.6397 - val_accuracy: 0.7899\n",
      "Epoch 5/30\n",
      "1067/1067 [==============================] - 3100s 3s/step - loss: 0.3421 - accuracy: 0.8818 - val_loss: 0.6494 - val_accuracy: 0.7930\n",
      "Epoch 6/30\n",
      "1067/1067 [==============================] - 3099s 3s/step - loss: 0.2830 - accuracy: 0.9018 - val_loss: 0.7188 - val_accuracy: 0.7849\n",
      "Epoch 7/30\n",
      " 746/1067 [===================>..........] - ETA: 12:12 - loss: 0.2255 - accuracy: 0.9208"
     ]
    }
   ],
   "source": [
    "history = transfer_learning_model.fit(X_train, y_train_hot,\n",
    "          validation_split = 0.2,\n",
    "          epochs = 30,\n",
    "          batch_size = 30,\n",
    "          callbacks = [callback])"
   ]
  },
  {
   "cell_type": "markdown",
   "metadata": {},
   "source": [
    "Xception emerged as the clear winner with exceptional accuracy—forgive the pun, we couldn't resist! 😄"
   ]
  },
  {
   "cell_type": "markdown",
   "metadata": {},
   "source": [
    "The journey allowed us to gain a comprehensive understanding of the strengths and weaknesses of each model. While KNN provided a straightforward and interpretable approach, its limitations became evident as the complexity of the task increased. The single-hidden-layer neural network showed promise but lacked the ability to capture the intricate patterns present in the images. The CNN, with its convolutional layers and feature extraction prowess, demonstrated considerable improvements over the previous models.\n",
    "\n",
    "However, it was the Xception model, leveraging transfer learning and pretrained weights from a vast dataset, that truly set a new benchmark. Its ability to extract complex hierarchical features and generalize well to our specific classification task was the key to its exceptional accuracy."
   ]
  }
 ],
 "metadata": {
  "colab": {
   "gpuType": "T4",
   "provenance": [],
   "toc_visible": true
  },
  "kernelspec": {
   "display_name": "Python 3 (ipykernel)",
   "language": "python",
   "name": "python3"
  },
  "language_info": {
   "codemirror_mode": {
    "name": "ipython",
    "version": 3
   },
   "file_extension": ".py",
   "mimetype": "text/x-python",
   "name": "python",
   "nbconvert_exporter": "python",
   "pygments_lexer": "ipython3",
   "version": "3.8.17"
  },
  "nbclean": true
 },
 "nbformat": 4,
 "nbformat_minor": 1
}
