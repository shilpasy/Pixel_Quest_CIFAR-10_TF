{
  "cells": [
    {
      "cell_type": "markdown",
      "metadata": {
        "id": "view-in-github",
        "colab_type": "text"
      },
      "source": [
        "<a href=\"https://colab.research.google.com/github/shilpasy/Pixel_Quest_CIFAR-10_TensorFlow/blob/main/Pixel_Quest_CIFAR_10_TF.ipynb\" target=\"_parent\"><img src=\"https://colab.research.google.com/assets/colab-badge.svg\" alt=\"Open In Colab\"/></a>"
      ]
    },
    {
      "cell_type": "code",
      "execution_count": 1,
      "metadata": {
        "ExecuteTime": {
          "end_time": "2023-02-18T18:43:08.021181Z",
          "start_time": "2023-02-18T18:43:02.242395Z"
        },
        "id": "le1xXXyHPACR"
      },
      "outputs": [],
      "source": [
        "import numpy as np\n",
        "import tensorflow as tf\n",
        "from tensorflow import keras\n",
        "import matplotlib.pyplot as plt\n"
      ]
    },
    {
      "cell_type": "markdown",
      "metadata": {
        "id": "HBlh-3jiPACR"
      },
      "source": [
        "# Pixel Quest: CIFAR-10 Image Classification with TensorFlow"
      ]
    },
    {
      "cell_type": "markdown",
      "metadata": {
        "id": "pZeczELLPACS"
      },
      "source": [
        "In the world of image classification here we encounter a fascinating task of distinguishing between various objects and creatures captured in the CIFAR-10 dataset.\n",
        "\n",
        "In the past, scientists have utilized clever filters to unveil the essence of these images. However, modern techniques have evolved, and now the finest algorithms employ the magic of linear algebra to accomplish this feat.\n",
        "\n",
        "Lets build a few of models with increasing complexity to classify these images into one of ten classes. For simplicity and speed, these images are pretty small ($32\\times32\\times3$).  This can make classification a bit tricky. I do not have reference but I have read that human performance is only about 94% on this dataset.\n",
        "\n",
        "In this project, we start with the classic K-Nearest Neighbors (KNN) algorithm and gradually advance to more sophisticated models, including a neural network with a single hidden layer, a Convolutional Neural Network (CNN), and finally, the power of transfer learning using Xception.\n",
        "\n",
        "\n"
      ]
    },
    {
      "cell_type": "markdown",
      "metadata": {
        "id": "E40fxK7JPACU"
      },
      "source": [
        "## Getting the input data"
      ]
    },
    {
      "cell_type": "markdown",
      "metadata": {
        "id": "Dw6BLb2-PACU"
      },
      "source": [
        "We will be using the `CIFAR-10` data set.  It consists of 60,000 images, each $32\\times32$ color pixels, each belonging to one of ten classes. This is quite popular dataset and we can get it from [various links](https://www.cs.toronto.edu/~kriz/cifar.html) [online](https://www.kaggle.com/datasets/emadtolba/cifar10-comp)."
      ]
    },
    {
      "cell_type": "code",
      "source": [
        "from google.colab import drive\n",
        "drive.mount('/content/drive')"
      ],
      "metadata": {
        "id": "RMZ-gv7seQlI",
        "colab": {
          "base_uri": "https://localhost:8080/"
        },
        "outputId": "ed146883-24dc-45a1-eba9-78b3146c1b69"
      },
      "execution_count": 2,
      "outputs": [
        {
          "output_type": "stream",
          "name": "stdout",
          "text": [
            "Mounted at /content/drive\n"
          ]
        }
      ]
    },
    {
      "cell_type": "code",
      "execution_count": 3,
      "metadata": {
        "ExecuteTime": {
          "end_time": "2023-02-18T18:43:12.179438Z",
          "start_time": "2023-02-18T18:43:08.025400Z"
        },
        "id": "xHlDJOKFPACV"
      },
      "outputs": [],
      "source": [
        "import numpy as np\n",
        "import gzip\n",
        "\n",
        "#train_images = np.load(gzip.open('train_images.npy.gz', 'rb'))\n",
        "#X = np.load(gzip.open('train_labels.npy.gz', 'rb'))\n",
        "#validation_images = np.load(gzip.open('validation_images.npy.gz', 'rb'))\n",
        "\n",
        "train_images = np.load(gzip.open('/content/drive/My Drive/TheDataIncubator/datacourse/tensorflow/miniprojects/train_images.npy.gz', 'rb'))\n",
        "train_labels = np.load(gzip.open('/content/drive/My Drive/TheDataIncubator/datacourse/tensorflow/miniprojects/train_labels.npy.gz', 'rb'))\n",
        "validation_images = np.load(gzip.open('/content/drive/My Drive/TheDataIncubator/datacourse/tensorflow/miniprojects/validation_images.npy.gz', 'rb'))\n"
      ]
    },
    {
      "cell_type": "markdown",
      "source": [
        ".npy format is the standard binary file format in NumPy for persisting a single arbitrary NumPy array"
      ],
      "metadata": {
        "id": "EHmntVvY3W0J"
      }
    },
    {
      "cell_type": "markdown",
      "metadata": {
        "id": "LisZNPmLPACW"
      },
      "source": [
        "The images are stored as four-dimensional arrays.  The first index indicates the image number, the second and third the $x$ and $y$ positions, and the fourth index the color channel.  Each pixel color is a floating point number between 0 and 1.  This convention allows us to view the images with matplotlib:"
      ]
    },
    {
      "cell_type": "code",
      "source": [
        "train_images[0:1]"
      ],
      "metadata": {
        "id": "qGH7Fq6P0Aij",
        "colab": {
          "base_uri": "https://localhost:8080/"
        },
        "outputId": "243f6799-ff89-4537-8c62-34ab68ade8c0"
      },
      "execution_count": null,
      "outputs": [
        {
          "output_type": "execute_result",
          "data": {
            "text/plain": [
              "array([[[[0.23137255, 0.24313726, 0.24705882],\n",
              "         [0.16862746, 0.18039216, 0.1764706 ],\n",
              "         [0.19607843, 0.1882353 , 0.16862746],\n",
              "         ...,\n",
              "         [0.61960787, 0.5176471 , 0.42352942],\n",
              "         [0.59607846, 0.49019608, 0.4       ],\n",
              "         [0.5803922 , 0.4862745 , 0.40392157]],\n",
              "\n",
              "        [[0.0627451 , 0.07843138, 0.07843138],\n",
              "         [0.        , 0.        , 0.        ],\n",
              "         [0.07058824, 0.03137255, 0.        ],\n",
              "         ...,\n",
              "         [0.48235294, 0.34509805, 0.21568628],\n",
              "         [0.46666667, 0.3254902 , 0.19607843],\n",
              "         [0.47843137, 0.34117648, 0.22352941]],\n",
              "\n",
              "        [[0.09803922, 0.09411765, 0.08235294],\n",
              "         [0.0627451 , 0.02745098, 0.        ],\n",
              "         [0.19215687, 0.10588235, 0.03137255],\n",
              "         ...,\n",
              "         [0.4627451 , 0.32941177, 0.19607843],\n",
              "         [0.47058824, 0.32941177, 0.19607843],\n",
              "         [0.42745098, 0.28627452, 0.16470589]],\n",
              "\n",
              "        ...,\n",
              "\n",
              "        [[0.8156863 , 0.6666667 , 0.3764706 ],\n",
              "         [0.7882353 , 0.6       , 0.13333334],\n",
              "         [0.7764706 , 0.6313726 , 0.10196079],\n",
              "         ...,\n",
              "         [0.627451  , 0.52156866, 0.27450982],\n",
              "         [0.21960784, 0.12156863, 0.02745098],\n",
              "         [0.20784314, 0.13333334, 0.07843138]],\n",
              "\n",
              "        [[0.7058824 , 0.54509807, 0.3764706 ],\n",
              "         [0.6784314 , 0.48235294, 0.16470589],\n",
              "         [0.7294118 , 0.5647059 , 0.11764706],\n",
              "         ...,\n",
              "         [0.72156864, 0.5803922 , 0.36862746],\n",
              "         [0.38039216, 0.24313726, 0.13333334],\n",
              "         [0.3254902 , 0.20784314, 0.13333334]],\n",
              "\n",
              "        [[0.69411767, 0.5647059 , 0.45490196],\n",
              "         [0.65882355, 0.5058824 , 0.36862746],\n",
              "         [0.7019608 , 0.5568628 , 0.34117648],\n",
              "         ...,\n",
              "         [0.84705883, 0.72156864, 0.54901963],\n",
              "         [0.5921569 , 0.4627451 , 0.32941177],\n",
              "         [0.48235294, 0.36078432, 0.28235295]]]], dtype=float32)"
            ]
          },
          "metadata": {},
          "execution_count": 4
        }
      ]
    },
    {
      "cell_type": "code",
      "execution_count": null,
      "metadata": {
        "ExecuteTime": {
          "end_time": "2023-02-14T21:42:14.478239Z",
          "start_time": "2023-02-14T21:42:14.151997Z"
        },
        "id": "1kcVEfIwPACW",
        "colab": {
          "base_uri": "https://localhost:8080/",
          "height": 430
        },
        "outputId": "c42aa9e7-1fda-46c6-f5f5-f1dcd7adda84"
      },
      "outputs": [
        {
          "output_type": "display_data",
          "data": {
            "text/plain": [
              "<Figure size 640x480 with 1 Axes>"
            ],
            "image/png": "[encoded data removed]"
          },
          "metadata": {}
        }
      ],
      "source": [
        "import matplotlib.pyplot\n",
        "matplotlib.pyplot.rcParams[\"axes.grid\"] = False  #  Remove the grid lines from the image.\n",
        "matplotlib.pyplot.imshow(train_images[12])\n",
        "plt.show()"
      ]
    },
    {
      "cell_type": "markdown",
      "source": [
        "let's savor the sight of a noble horse in a slightly blurry image, appreciating its mystique"
      ],
      "metadata": {
        "id": "t6pqqaXuyFgF"
      }
    },
    {
      "cell_type": "code",
      "execution_count": null,
      "metadata": {
        "ExecuteTime": {
          "end_time": "2023-02-14T21:42:14.590685Z",
          "start_time": "2023-02-14T21:42:14.480919Z"
        },
        "id": "6Oxy5QUtPACX",
        "colab": {
          "base_uri": "https://localhost:8080/",
          "height": 147
        },
        "outputId": "5ec2edba-ce8f-47b4-e50d-9ce633364536"
      },
      "outputs": [
        {
          "output_type": "display_data",
          "data": {
            "text/plain": [
              "<Figure size 110x110 with 1 Axes>"
            ],
            "image/png": "[encoded data removed]"
          },
          "metadata": {}
        }
      ],
      "source": [
        "#if you want to see those images smaller for better clarity you can do the following\n",
        "fig, axes = plt.subplots(figsize = (1.1,1.1))\n",
        "axes.imshow(train_images[12,1:])\n",
        "plt.show()"
      ]
    },
    {
      "cell_type": "markdown",
      "source": [
        "The human-readable names associated with this classes are :"
      ],
      "metadata": {
        "id": "-DmkRuMJzqGn"
      }
    },
    {
      "cell_type": "code",
      "execution_count": null,
      "metadata": {
        "ExecuteTime": {
          "end_time": "2023-02-14T21:42:14.760266Z",
          "start_time": "2023-02-14T21:42:14.593258Z"
        },
        "id": "mg2eQ8XaPACX",
        "colab": {
          "base_uri": "https://localhost:8080/",
          "height": 469
        },
        "outputId": "802aa5b6-c89b-465a-ef4c-8214ffd9aa78"
      },
      "outputs": [
        {
          "output_type": "execute_result",
          "data": {
            "text/plain": [
              "Text(0.5, 1.0, 'Class distribution in training set')"
            ]
          },
          "metadata": {},
          "execution_count": 7
        },
        {
          "output_type": "display_data",
          "data": {
            "text/plain": [
              "<Figure size 640x480 with 1 Axes>"
            ],
            "image/png": "[encoded data removed]"
          },
          "metadata": {}
        }
      ],
      "source": [
        "classes_name = ['Airplane', 'Automobile', 'Bird', 'Cat', 'Deer', 'Dog', 'Frog', 'Horse', 'Ship', 'Truck']\n",
        "classes, counts = np.unique(train_labels, return_counts=True)\n",
        "plt.barh(classes_name, counts)\n",
        "plt.title('Class distribution in training set')"
      ]
    },
    {
      "cell_type": "markdown",
      "source": [
        "From 'airplanes' soaring through the skies to 'automobiles' speeding on the ground, from 'birds' singing melodies to 'cats' prowling gracefully, and from 'dogs' loyal as friends to 'ships' sailing the vast seas - we shall encounter a multitude of wonders!"
      ],
      "metadata": {
        "id": "iYa9zpLLyQ1J"
      }
    },
    {
      "cell_type": "markdown",
      "metadata": {
        "id": "nGQVCZdAPACX"
      },
      "source": [
        "The classes have already been numbered 0-9 for us; those numbers are stored in the vector `train_labels`."
      ]
    },
    {
      "cell_type": "markdown",
      "metadata": {
        "id": "iSbVl8j3PACY"
      },
      "source": [
        "## k-nearest neighbors algorithm"
      ]
    },
    {
      "cell_type": "markdown",
      "metadata": {
        "id": "ykcEl_7aPACY"
      },
      "source": [
        "Our initial model is based on a simple algorithm of KNN. We shall measure the differences between colors of the corresponding pixels between two images and use this information to find the nearest companions among these images. Let's calculate a simple euclidean distance for this purpose.\n",
        "\n",
        "$$dist = \\sqrt{\\Delta R^2 + \\Delta G^2 + \\Delta B^2} $$\n"
      ]
    },
    {
      "cell_type": "code",
      "execution_count": null,
      "metadata": {
        "ExecuteTime": {
          "end_time": "2023-02-11T06:01:01.142063Z",
          "start_time": "2023-02-11T06:01:01.136900Z"
        },
        "scrolled": true,
        "id": "6Z1wAKIAPACZ",
        "colab": {
          "base_uri": "https://localhost:8080/"
        },
        "outputId": "35a03012-abd2-4ec9-c67d-c465717b3ce0"
      },
      "outputs": [
        {
          "output_type": "stream",
          "name": "stdout",
          "text": [
            "shape of R1 is (32, 32) and shape of train_images[0] is (32, 32, 3)\n",
            "shape of Rall is (50000, 32, 32)\n",
            "\n"
          ]
        }
      ],
      "source": [
        "R1 = train_images[0, :, :, 0]\n",
        "#this is how you access Red\n",
        "G1 = train_images[0, :, :, 1]\n",
        "#this is how you access Green\n",
        "\n",
        "B1 = train_images[0, :, :, 2]\n",
        "#this is how you access Blue\n",
        "\n",
        "print(f\"shape of R1 is {R1.shape} and shape of train_images[0] is {train_images[0].shape}\")\n",
        "\n",
        "Rall = train_images[:,:,:,0]\n",
        "print(f\"shape of Rall is {Rall.shape}\" )\n",
        "# print(train_images[0])\n",
        "# print(R1)\n",
        "print()\n",
        "#print(train_images)"
      ]
    },
    {
      "cell_type": "code",
      "execution_count": null,
      "metadata": {
        "ExecuteTime": {
          "end_time": "2023-02-18T18:52:41.464426Z",
          "start_time": "2023-02-18T18:52:41.457695Z"
        },
        "id": "3LiTNIWSPACZ"
      },
      "outputs": [],
      "source": [
        "import tensorflow as tf\n",
        "\n",
        "@tf.function\n",
        "def pixel_diff(images, base):\n",
        "\n",
        "#   delta_R = tf.math.subtract(images[:,:,:,0], base[:,:,:,0]) #Red\n",
        "#   delta_G = tf.math.subtract(images[:,:,:,1], base[:,:,:,1]) #Green\n",
        "#   delta_B = tf.math.subtract(images[:,:,:,2], base[:,:,:,2]) #Blue\n",
        "#   Alternate way to do this: Split the images and base into separate RGB color channels\n",
        "    images_r, images_g, images_b = tf.split(images, 3, axis=-1)\n",
        "    base_r, base_g, base_b = tf.split(base, 3, axis=-1)\n",
        "\n",
        "#   Calculate the differences between the corresponding pixels in images and base for each color channel\n",
        "    delta_r = images_r - base_r\n",
        "    delta_g = images_g - base_g\n",
        "    delta_b = images_b - base_b\n",
        "\n",
        "    # Calculate R_mean\n",
        "    #R_mean = 0.5 * (images[:,:,:,0] + base[:,:,:,0])\n",
        "    R_mean = 0.5 * (images_r + base_r)\n",
        "\n",
        "    #calculate delC for each pixel\n",
        "    dist = tf.sqrt(delta_r**2 + delta_g**2 + delta_b**2 )\n",
        "    avg_dist = tf.math.reduce_sum(dist, axis=(1, 2, 3))/ 1024 #32*32 is 1024\n",
        "\n",
        "    return avg_dist"
      ]
    },
    {
      "cell_type": "code",
      "execution_count": null,
      "metadata": {
        "ExecuteTime": {
          "end_time": "2023-02-18T18:52:43.547424Z",
          "start_time": "2023-02-18T18:52:42.129983Z"
        },
        "id": "w821BOZJPACZ"
      },
      "outputs": [],
      "source": [
        "base = validation_images[12] # SELECTING THE BASE IMAGE AS THE HORSE\n",
        "dist_all_training_img = pixel_diff(train_images, base)\n",
        "indices_closest_5 = np.argsort(dist_all_training_img)[:5]"
      ]
    },
    {
      "cell_type": "code",
      "execution_count": null,
      "metadata": {
        "ExecuteTime": {
          "end_time": "2023-02-18T18:52:49.527171Z",
          "start_time": "2023-02-18T18:52:49.523102Z"
        },
        "id": "7kmFsRCPPACZ",
        "colab": {
          "base_uri": "https://localhost:8080/"
        },
        "outputId": "815f24b9-5e29-4410-ff6d-09e410532c09"
      },
      "outputs": [
        {
          "output_type": "execute_result",
          "data": {
            "text/plain": [
              "TensorShape([50000])"
            ]
          },
          "metadata": {},
          "execution_count": 11
        }
      ],
      "source": [
        "dist_all_training_img.shape"
      ]
    },
    {
      "cell_type": "code",
      "execution_count": null,
      "metadata": {
        "ExecuteTime": {
          "end_time": "2023-02-18T18:52:54.506620Z",
          "start_time": "2023-02-18T18:52:54.499141Z"
        },
        "id": "DXXqg35MPACa",
        "colab": {
          "base_uri": "https://localhost:8080/"
        },
        "outputId": "4d01a0c1-b41d-4d88-a8a3-fca761f95434"
      },
      "outputs": [
        {
          "output_type": "execute_result",
          "data": {
            "text/plain": [
              "array([ 7565, 19064,  2977, 27189, 19417])"
            ]
          },
          "metadata": {},
          "execution_count": 11
        }
      ],
      "source": [
        "indices_closest_5"
      ]
    },
    {
      "cell_type": "markdown",
      "source": [
        "Let's have a look at these 5 images which match closest with the above hourse."
      ],
      "metadata": {
        "id": "4GVIr8jJHmQN"
      }
    },
    {
      "cell_type": "code",
      "source": [
        "ax1 = plt.subplot(555)\n",
        "# equivalent but more general\n",
        "ax1 = plt.subplot(551)\n",
        "ax1.imshow(train_images[7565,1:])\n",
        "\n",
        "# add a subplot with no frame\n",
        "ax2 = plt.subplot(552)\n",
        "ax2.imshow(train_images[19064,1:])\n",
        "\n",
        "# add a polar subplot\n",
        "ax3 = plt.subplot(553)\n",
        "ax3.imshow(train_images[2977,1:])\n",
        "\n",
        "# add a red subplot that shares the x-axis with ax1\n",
        "ax4 = plt.subplot(554)\n",
        "ax4.imshow(train_images[27189,1:])\n",
        "\n",
        "ax5 = plt.subplot(555)\n",
        "ax5.imshow(train_images[19417,1:])\n"
      ],
      "metadata": {
        "id": "gyocLnMR-IfC",
        "colab": {
          "base_uri": "https://localhost:8080/",
          "height": 145
        },
        "outputId": "b63c61f4-7176-47ac-c026-c5559ef242f7"
      },
      "execution_count": null,
      "outputs": [
        {
          "output_type": "execute_result",
          "data": {
            "text/plain": [
              "<matplotlib.image.AxesImage at 0x7f1fb43a0160>"
            ]
          },
          "metadata": {},
          "execution_count": 12
        },
        {
          "output_type": "display_data",
          "data": {
            "text/plain": [
              "<Figure size 640x480 with 5 Axes>"
            ],
            "image/png": "[encoded data removed]"
          },
          "metadata": {}
        }
      ]
    },
    {
      "cell_type": "markdown",
      "source": [
        "Behold! The Magic of Simplicity: Identifying an image of a horse without Deep Neural Networks.... This model does work pretty good but on larger dataset and for higher accuracy, we will move to deep neural networks.\n"
      ],
      "metadata": {
        "id": "VnZzDuf1BGBg"
      }
    },
    {
      "cell_type": "markdown",
      "metadata": {
        "id": "vW5uPQ8KPACa"
      },
      "source": [
        "## Softmax model"
      ]
    },
    {
      "cell_type": "markdown",
      "metadata": {
        "id": "BHzecLarPACj"
      },
      "source": [
        "We'll start with a basic neural network called a softmax classifier. This network has just one dense layer that takes 32×32×3 inputs and produces 10 outputs, each representing a class. It will be using an activation function called softmax and a `CategoricalCrossentropy` loss function."
      ]
    },
    {
      "cell_type": "code",
      "source": [
        "#Split the train dataset\n",
        "from sklearn.model_selection import train_test_split\n",
        "X_train,X_test,y_train,y_test = train_test_split(train_images,train_labels,test_size=0.2,random_state=120422)\n",
        "print(X_train.shape,X_test.shape)\n",
        "print(y_train.shape,y_test.shape)"
      ],
      "metadata": {
        "id": "o5amCj8H6FtG",
        "colab": {
          "base_uri": "https://localhost:8080/"
        },
        "outputId": "eeb9851e-5c03-44ac-9273-fed690fec78b"
      },
      "execution_count": 4,
      "outputs": [
        {
          "output_type": "stream",
          "name": "stdout",
          "text": [
            "(40000, 32, 32, 3) (10000, 32, 32, 3)\n",
            "(40000,) (10000,)\n"
          ]
        }
      ]
    },
    {
      "cell_type": "code",
      "execution_count": null,
      "metadata": {
        "ExecuteTime": {
          "end_time": "2023-02-14T04:31:26.826163Z",
          "start_time": "2023-02-14T04:31:26.787722Z"
        },
        "id": "z8Ux0fJlPACj"
      },
      "outputs": [],
      "source": [
        "from tensorflow.keras.layers import Dense, Input, Dropout,BatchNormalization,Flatten\n",
        "from tensorflow.keras import backend\n",
        "from tensorflow.keras import optimizers\n",
        "from tensorflow.keras import losses\n",
        "backend.clear_session()\n",
        "\n",
        "model = keras.models.Sequential()\n",
        "\n",
        "model.add(Dense(input_shape = (32,32,3), activation='relu',units = 10))\n",
        "model.add(Flatten())\n",
        "model.add(Dense(10,activation = 'softmax'))\n",
        "\n",
        "adam = optimizers.Adam(learning_rate=1e-3)\n",
        "model.compile(loss=losses.categorical_crossentropy, optimizer=adam, metrics=['accuracy'])"
      ]
    },
    {
      "cell_type": "code",
      "execution_count": null,
      "metadata": {
        "ExecuteTime": {
          "end_time": "2023-02-14T04:31:27.490010Z",
          "start_time": "2023-02-14T04:31:27.486342Z"
        },
        "scrolled": true,
        "id": "SyS5haAKPACj",
        "colab": {
          "base_uri": "https://localhost:8080/"
        },
        "outputId": "dd72262e-a2b4-478b-8c56-45f7f62318c6"
      },
      "outputs": [
        {
          "output_type": "stream",
          "name": "stdout",
          "text": [
            "Model: \"sequential\"\n",
            "_________________________________________________________________\n",
            " Layer (type)                Output Shape              Param #   \n",
            "=================================================================\n",
            " dense (Dense)               (None, 32, 32, 10)        40        \n",
            "                                                                 \n",
            " flatten (Flatten)           (None, 10240)             0         \n",
            "                                                                 \n",
            " dense_1 (Dense)             (None, 10)                102410    \n",
            "                                                                 \n",
            "=================================================================\n",
            "Total params: 102,450\n",
            "Trainable params: 102,450\n",
            "Non-trainable params: 0\n",
            "_________________________________________________________________\n"
          ]
        }
      ],
      "source": [
        "model.summary()"
      ]
    },
    {
      "cell_type": "code",
      "source": [
        "#Visualization of CNN architecture\n",
        "from IPython.display import SVG\n",
        "from keras.utils.vis_utils import model_to_dot\n",
        "SVG(model_to_dot(model,show_shapes=True,show_layer_names=True,rankdir='TB').create(prog='dot',format='svg'))\n"
      ],
      "metadata": {
        "id": "nyckVtXs599B",
        "colab": {
          "base_uri": "https://localhost:8080/",
          "height": 561
        },
        "outputId": "c308ae3a-76ae-4dae-d17f-8eb750e688d5"
      },
      "execution_count": null,
      "outputs": [
        {
          "output_type": "execute_result",
          "data": {
            "text/plain": [
              "<IPython.core.display.SVG object>"
            ],
            "image/svg+xml": "<svg xmlns=\"http://www.w3.org/2000/svg\" xmlns:xlink=\"http://www.w3.org/1999/xlink\" width=\"353pt\" height=\"405pt\" viewBox=\"0.00 0.00 265.00 304.00\">\n<g id=\"graph0\" class=\"graph\" transform=\"scale(0.75 0.75) rotate(0) translate(4 300)\">\n<title>G</title>\n<polygon fill=\"white\" stroke=\"transparent\" points=\"-4,4 -4,-300 261,-300 261,4 -4,4\"/>\n<!-- 139453671606832 -->\n<g id=\"node1\" class=\"node\">\n<title>139453671606832</title>\n<polygon fill=\"none\" stroke=\"black\" points=\"0,-249.5 0,-295.5 257,-295.5 257,-249.5 0,-249.5\"/>\n<text text-anchor=\"middle\" x=\"41\" y=\"-280.3\" font-family=\"Times,serif\" font-size=\"14.00\">dense_input</text>\n<polyline fill=\"none\" stroke=\"black\" points=\"0,-272.5 82,-272.5 \"/>\n<text text-anchor=\"middle\" x=\"41\" y=\"-257.3\" font-family=\"Times,serif\" font-size=\"14.00\">InputLayer</text>\n<polyline fill=\"none\" stroke=\"black\" points=\"82,-249.5 82,-295.5 \"/>\n<text text-anchor=\"middle\" x=\"109.5\" y=\"-280.3\" font-family=\"Times,serif\" font-size=\"14.00\">input:</text>\n<polyline fill=\"none\" stroke=\"black\" points=\"82,-272.5 137,-272.5 \"/>\n<text text-anchor=\"middle\" x=\"109.5\" y=\"-257.3\" font-family=\"Times,serif\" font-size=\"14.00\">output:</text>\n<polyline fill=\"none\" stroke=\"black\" points=\"137,-249.5 137,-295.5 \"/>\n<text text-anchor=\"middle\" x=\"197\" y=\"-280.3\" font-family=\"Times,serif\" font-size=\"14.00\">[(None, 32, 32, 3)]</text>\n<polyline fill=\"none\" stroke=\"black\" points=\"137,-272.5 257,-272.5 \"/>\n<text text-anchor=\"middle\" x=\"197\" y=\"-257.3\" font-family=\"Times,serif\" font-size=\"14.00\">[(None, 32, 32, 3)]</text>\n</g>\n<!-- 139450345868016 -->\n<g id=\"node2\" class=\"node\">\n<title>139450345868016</title>\n<polygon fill=\"none\" stroke=\"black\" points=\"17,-166.5 17,-212.5 240,-212.5 240,-166.5 17,-166.5\"/>\n<text text-anchor=\"middle\" x=\"42\" y=\"-197.3\" font-family=\"Times,serif\" font-size=\"14.00\">dense</text>\n<polyline fill=\"none\" stroke=\"black\" points=\"17,-189.5 67,-189.5 \"/>\n<text text-anchor=\"middle\" x=\"42\" y=\"-174.3\" font-family=\"Times,serif\" font-size=\"14.00\">Dense</text>\n<polyline fill=\"none\" stroke=\"black\" points=\"67,-166.5 67,-212.5 \"/>\n<text text-anchor=\"middle\" x=\"94.5\" y=\"-197.3\" font-family=\"Times,serif\" font-size=\"14.00\">input:</text>\n<polyline fill=\"none\" stroke=\"black\" points=\"67,-189.5 122,-189.5 \"/>\n<text text-anchor=\"middle\" x=\"94.5\" y=\"-174.3\" font-family=\"Times,serif\" font-size=\"14.00\">output:</text>\n<polyline fill=\"none\" stroke=\"black\" points=\"122,-166.5 122,-212.5 \"/>\n<text text-anchor=\"middle\" x=\"181\" y=\"-197.3\" font-family=\"Times,serif\" font-size=\"14.00\">(None, 32, 32, 3)</text>\n<polyline fill=\"none\" stroke=\"black\" points=\"122,-189.5 240,-189.5 \"/>\n<text text-anchor=\"middle\" x=\"181\" y=\"-174.3\" font-family=\"Times,serif\" font-size=\"14.00\">(None, 32, 32, 10)</text>\n</g>\n<!-- 139453671606832&#45;&gt;139450345868016 -->\n<g id=\"edge1\" class=\"edge\">\n<title>139453671606832-&gt;139450345868016</title>\n<path fill=\"none\" stroke=\"black\" d=\"M128.5,-249.37C128.5,-241.15 128.5,-231.66 128.5,-222.73\"/>\n<polygon fill=\"black\" stroke=\"black\" points=\"132,-222.61 128.5,-212.61 125,-222.61 132,-222.61\"/>\n</g>\n<!-- 139450345870416 -->\n<g id=\"node3\" class=\"node\">\n<title>139450345870416</title>\n<polygon fill=\"none\" stroke=\"black\" points=\"15,-83.5 15,-129.5 242,-129.5 242,-83.5 15,-83.5\"/>\n<text text-anchor=\"middle\" x=\"42\" y=\"-114.3\" font-family=\"Times,serif\" font-size=\"14.00\">flatten</text>\n<polyline fill=\"none\" stroke=\"black\" points=\"15,-106.5 69,-106.5 \"/>\n<text text-anchor=\"middle\" x=\"42\" y=\"-91.3\" font-family=\"Times,serif\" font-size=\"14.00\">Flatten</text>\n<polyline fill=\"none\" stroke=\"black\" points=\"69,-83.5 69,-129.5 \"/>\n<text text-anchor=\"middle\" x=\"96.5\" y=\"-114.3\" font-family=\"Times,serif\" font-size=\"14.00\">input:</text>\n<polyline fill=\"none\" stroke=\"black\" points=\"69,-106.5 124,-106.5 \"/>\n<text text-anchor=\"middle\" x=\"96.5\" y=\"-91.3\" font-family=\"Times,serif\" font-size=\"14.00\">output:</text>\n<polyline fill=\"none\" stroke=\"black\" points=\"124,-83.5 124,-129.5 \"/>\n<text text-anchor=\"middle\" x=\"183\" y=\"-114.3\" font-family=\"Times,serif\" font-size=\"14.00\">(None, 32, 32, 10)</text>\n<polyline fill=\"none\" stroke=\"black\" points=\"124,-106.5 242,-106.5 \"/>\n<text text-anchor=\"middle\" x=\"183\" y=\"-91.3\" font-family=\"Times,serif\" font-size=\"14.00\">(None, 10240)</text>\n</g>\n<!-- 139450345868016&#45;&gt;139450345870416 -->\n<g id=\"edge2\" class=\"edge\">\n<title>139450345868016-&gt;139450345870416</title>\n<path fill=\"none\" stroke=\"black\" d=\"M128.5,-166.37C128.5,-158.15 128.5,-148.66 128.5,-139.73\"/>\n<polygon fill=\"black\" stroke=\"black\" points=\"132,-139.61 128.5,-129.61 125,-139.61 132,-139.61\"/>\n</g>\n<!-- 139450345878864 -->\n<g id=\"node4\" class=\"node\">\n<title>139450345878864</title>\n<polygon fill=\"none\" stroke=\"black\" points=\"22.5,-0.5 22.5,-46.5 234.5,-46.5 234.5,-0.5 22.5,-0.5\"/>\n<text text-anchor=\"middle\" x=\"53\" y=\"-31.3\" font-family=\"Times,serif\" font-size=\"14.00\">dense_1</text>\n<polyline fill=\"none\" stroke=\"black\" points=\"22.5,-23.5 83.5,-23.5 \"/>\n<text text-anchor=\"middle\" x=\"53\" y=\"-8.3\" font-family=\"Times,serif\" font-size=\"14.00\">Dense</text>\n<polyline fill=\"none\" stroke=\"black\" points=\"83.5,-0.5 83.5,-46.5 \"/>\n<text text-anchor=\"middle\" x=\"111\" y=\"-31.3\" font-family=\"Times,serif\" font-size=\"14.00\">input:</text>\n<polyline fill=\"none\" stroke=\"black\" points=\"83.5,-23.5 138.5,-23.5 \"/>\n<text text-anchor=\"middle\" x=\"111\" y=\"-8.3\" font-family=\"Times,serif\" font-size=\"14.00\">output:</text>\n<polyline fill=\"none\" stroke=\"black\" points=\"138.5,-0.5 138.5,-46.5 \"/>\n<text text-anchor=\"middle\" x=\"186.5\" y=\"-31.3\" font-family=\"Times,serif\" font-size=\"14.00\">(None, 10240)</text>\n<polyline fill=\"none\" stroke=\"black\" points=\"138.5,-23.5 234.5,-23.5 \"/>\n<text text-anchor=\"middle\" x=\"186.5\" y=\"-8.3\" font-family=\"Times,serif\" font-size=\"14.00\">(None, 10)</text>\n</g>\n<!-- 139450345870416&#45;&gt;139450345878864 -->\n<g id=\"edge3\" class=\"edge\">\n<title>139450345870416-&gt;139450345878864</title>\n<path fill=\"none\" stroke=\"black\" d=\"M128.5,-83.37C128.5,-75.15 128.5,-65.66 128.5,-56.73\"/>\n<polygon fill=\"black\" stroke=\"black\" points=\"132,-56.61 128.5,-46.61 125,-56.61 132,-56.61\"/>\n</g>\n</g>\n</svg>"
          },
          "metadata": {},
          "execution_count": 15
        }
      ]
    },
    {
      "cell_type": "code",
      "execution_count": null,
      "metadata": {
        "ExecuteTime": {
          "end_time": "2023-02-14T04:31:41.057386Z",
          "start_time": "2023-02-14T04:31:41.052760Z"
        },
        "id": "cyWWMQTwPACj"
      },
      "outputs": [],
      "source": [
        "from tensorflow.keras.utils import to_categorical as one_hot\n",
        "\n",
        "y_train_hot = one_hot(y_train)\n",
        "# y_test_hot  = one_hot(y_test)"
      ]
    },
    {
      "cell_type": "code",
      "execution_count": null,
      "metadata": {
        "ExecuteTime": {
          "end_time": "2023-02-14T04:33:04.432039Z",
          "start_time": "2023-02-14T04:31:41.704941Z"
        },
        "id": "287mSJAEPACk",
        "colab": {
          "base_uri": "https://localhost:8080/"
        },
        "outputId": "b552a1a9-c20a-4bbe-fbc3-04ac706bff6e"
      },
      "outputs": [
        {
          "output_type": "stream",
          "name": "stdout",
          "text": [
            "Epoch 1/6\n",
            "3200/3200 [==============================] - 26s 8ms/step - loss: 1.8079 - accuracy: 0.3651 - val_loss: 1.7099 - val_accuracy: 0.4013\n",
            "Epoch 2/6\n",
            "3200/3200 [==============================] - 21s 7ms/step - loss: 1.6746 - accuracy: 0.4161 - val_loss: 1.6619 - val_accuracy: 0.4148\n",
            "Epoch 3/6\n",
            "3200/3200 [==============================] - 27s 8ms/step - loss: 1.6100 - accuracy: 0.4417 - val_loss: 1.6423 - val_accuracy: 0.4281\n",
            "Epoch 4/6\n",
            "3200/3200 [==============================] - 22s 7ms/step - loss: 1.5628 - accuracy: 0.4590 - val_loss: 1.6263 - val_accuracy: 0.4374\n",
            "Epoch 5/6\n",
            "3200/3200 [==============================] - 22s 7ms/step - loss: 1.5328 - accuracy: 0.4716 - val_loss: 1.6078 - val_accuracy: 0.4390\n",
            "Epoch 6/6\n",
            "3200/3200 [==============================] - 22s 7ms/step - loss: 1.5087 - accuracy: 0.4823 - val_loss: 1.5995 - val_accuracy: 0.4446\n"
          ]
        }
      ],
      "source": [
        "history=model.fit(X_train, y_train_hot,\n",
        "          validation_split=0.2,\n",
        "          epochs=10,\n",
        "          batch_size=10)"
      ]
    },
    {
      "cell_type": "code",
      "execution_count": null,
      "metadata": {
        "ExecuteTime": {
          "end_time": "2023-02-14T04:35:12.315645Z",
          "start_time": "2023-02-14T04:35:11.687396Z"
        },
        "id": "2gZ-3MUYPACk",
        "colab": {
          "base_uri": "https://localhost:8080/"
        },
        "outputId": "8f4f52d6-7213-4a3c-ce36-2017fc54090a"
      },
      "outputs": [
        {
          "output_type": "stream",
          "name": "stdout",
          "text": [
            "313/313 [==============================] - 1s 3ms/step\n"
          ]
        }
      ],
      "source": [
        "y_pred = model.predict(X_test)"
      ]
    },
    {
      "cell_type": "code",
      "execution_count": null,
      "metadata": {
        "ExecuteTime": {
          "end_time": "2023-02-14T04:35:12.323282Z",
          "start_time": "2023-02-14T04:35:12.319528Z"
        },
        "id": "t3xj7p4GPACk"
      },
      "outputs": [],
      "source": [
        "predicted_classes=np.argmax(y_pred,axis=1)"
      ]
    },
    {
      "cell_type": "markdown",
      "metadata": {
        "id": "FushYP0pPACk"
      },
      "source": [
        "## Fully-connected model"
      ]
    },
    {
      "cell_type": "markdown",
      "metadata": {
        "id": "H6Vsgg3NPACk"
      },
      "source": [
        "Now, let's introduce a hidden layer in the hope that it will enhance our image classification capabilities."
      ]
    },
    {
      "cell_type": "code",
      "execution_count": null,
      "metadata": {
        "ExecuteTime": {
          "end_time": "2023-02-14T21:04:39.616648Z",
          "start_time": "2023-02-14T21:04:39.592754Z"
        },
        "id": "1RikKFTUPACl"
      },
      "outputs": [],
      "source": [
        "from tensorflow.keras import backend\n",
        "from tensorflow.keras.layers import Dense, Input, Dropout,BatchNormalization,Flatten\n",
        "from tensorflow.keras import optimizers\n",
        "from tensorflow.keras import losses\n",
        "backend.clear_session()"
      ]
    },
    {
      "cell_type": "code",
      "execution_count": null,
      "metadata": {
        "ExecuteTime": {
          "end_time": "2023-02-14T04:42:42.409552Z",
          "start_time": "2023-02-14T04:42:42.329863Z"
        },
        "id": "5oFAzn9MPACl"
      },
      "outputs": [],
      "source": [
        "model = keras.models.Sequential()\n",
        "\n",
        "model.add(Dense(input_shape = (32,32,3), activation='relu',units = 10))\n",
        "model.add(Dense(128,activation = 'relu'))\n",
        "model.add(Dropout(0.3)) #######this time adding dropout\n",
        "model.add(Flatten())\n",
        "model.add(Dense(10,activation = 'softmax'))\n",
        "\n",
        "adam = optimizers.Adam(learning_rate=1e-3)\n",
        "model.compile(loss=losses.categorical_crossentropy, optimizer=adam, metrics=['accuracy'])"
      ]
    },
    {
      "cell_type": "code",
      "execution_count": null,
      "metadata": {
        "ExecuteTime": {
          "end_time": "2023-02-14T04:42:43.555705Z",
          "start_time": "2023-02-14T04:42:43.551292Z"
        },
        "id": "utxJ0nSpPACl",
        "colab": {
          "base_uri": "https://localhost:8080/"
        },
        "outputId": "c7c000cf-4729-440e-b037-5b8109099884"
      },
      "outputs": [
        {
          "output_type": "stream",
          "name": "stdout",
          "text": [
            "Model: \"sequential\"\n",
            "_________________________________________________________________\n",
            " Layer (type)                Output Shape              Param #   \n",
            "=================================================================\n",
            " dense (Dense)               (None, 32, 32, 10)        40        \n",
            "                                                                 \n",
            " dense_1 (Dense)             (None, 32, 32, 128)       1408      \n",
            "                                                                 \n",
            " dropout (Dropout)           (None, 32, 32, 128)       0         \n",
            "                                                                 \n",
            " flatten (Flatten)           (None, 131072)            0         \n",
            "                                                                 \n",
            " dense_2 (Dense)             (None, 10)                1310730   \n",
            "                                                                 \n",
            "=================================================================\n",
            "Total params: 1,312,178\n",
            "Trainable params: 1,312,178\n",
            "Non-trainable params: 0\n",
            "_________________________________________________________________\n"
          ]
        }
      ],
      "source": [
        "model.summary()"
      ]
    },
    {
      "cell_type": "code",
      "execution_count": null,
      "metadata": {
        "ExecuteTime": {
          "end_time": "2023-02-14T04:43:25.637894Z",
          "start_time": "2023-02-14T04:43:25.631737Z"
        },
        "id": "Q8XIjkagPACl"
      },
      "outputs": [],
      "source": [
        "from tensorflow.keras.utils import to_categorical as one_hot\n",
        "\n",
        "y_train_hot = one_hot(y_train)\n",
        "# y_test_hot  = one_hot(y_test)"
      ]
    },
    {
      "cell_type": "code",
      "execution_count": null,
      "metadata": {
        "ExecuteTime": {
          "end_time": "2023-02-14T04:47:45.099289Z",
          "start_time": "2023-02-14T04:43:26.274980Z"
        },
        "id": "cfFq-1oYPACl",
        "colab": {
          "base_uri": "https://localhost:8080/"
        },
        "outputId": "db0557e9-0e4c-445b-9ab4-84d5cf35caec"
      },
      "outputs": [
        {
          "output_type": "stream",
          "name": "stdout",
          "text": [
            "Epoch 1/30\n",
            "247/247 [==============================] - 4s 17ms/step - loss: 1.2652 - accuracy: 0.5641 - val_loss: 1.4823 - val_accuracy: 0.4846\n",
            "Epoch 2/30\n",
            "247/247 [==============================] - 4s 17ms/step - loss: 1.2432 - accuracy: 0.5717 - val_loss: 1.5055 - val_accuracy: 0.4720\n",
            "Epoch 3/30\n",
            "247/247 [==============================] - 4s 15ms/step - loss: 1.2203 - accuracy: 0.5798 - val_loss: 1.4922 - val_accuracy: 0.4900\n",
            "Epoch 4/30\n",
            "247/247 [==============================] - 4s 16ms/step - loss: 1.1980 - accuracy: 0.5884 - val_loss: 1.5210 - val_accuracy: 0.4774\n",
            "Epoch 5/30\n",
            "247/247 [==============================] - 4s 16ms/step - loss: 1.1760 - accuracy: 0.5967 - val_loss: 1.5334 - val_accuracy: 0.4800\n",
            "Epoch 6/30\n",
            "247/247 [==============================] - 5s 20ms/step - loss: 1.1476 - accuracy: 0.6057 - val_loss: 1.5365 - val_accuracy: 0.4733\n",
            "Epoch 7/30\n",
            "247/247 [==============================] - 5s 20ms/step - loss: 1.1223 - accuracy: 0.6169 - val_loss: 1.5408 - val_accuracy: 0.4755\n",
            "Epoch 8/30\n",
            "247/247 [==============================] - 5s 22ms/step - loss: 1.1063 - accuracy: 0.6217 - val_loss: 1.5723 - val_accuracy: 0.4686\n",
            "Epoch 9/30\n",
            "247/247 [==============================] - 4s 16ms/step - loss: 1.0868 - accuracy: 0.6290 - val_loss: 1.5849 - val_accuracy: 0.4776\n",
            "Epoch 10/30\n",
            "247/247 [==============================] - 4s 15ms/step - loss: 1.0628 - accuracy: 0.6361 - val_loss: 1.5925 - val_accuracy: 0.4715\n",
            "Epoch 11/30\n",
            "247/247 [==============================] - 4s 15ms/step - loss: 1.0419 - accuracy: 0.6435 - val_loss: 1.6062 - val_accuracy: 0.4746\n",
            "Epoch 12/30\n",
            "247/247 [==============================] - 4s 17ms/step - loss: 1.0162 - accuracy: 0.6520 - val_loss: 1.6215 - val_accuracy: 0.4726\n",
            "Epoch 13/30\n",
            "247/247 [==============================] - 4s 16ms/step - loss: 1.0041 - accuracy: 0.6562 - val_loss: 1.6640 - val_accuracy: 0.4683\n",
            "Epoch 14/30\n",
            "247/247 [==============================] - 5s 19ms/step - loss: 0.9767 - accuracy: 0.6660 - val_loss: 1.6559 - val_accuracy: 0.4595\n",
            "Epoch 15/30\n",
            "247/247 [==============================] - 5s 21ms/step - loss: 0.9604 - accuracy: 0.6732 - val_loss: 1.6461 - val_accuracy: 0.4684\n",
            "Epoch 16/30\n",
            "247/247 [==============================] - 5s 19ms/step - loss: 0.9386 - accuracy: 0.6812 - val_loss: 1.6497 - val_accuracy: 0.4708\n",
            "Epoch 17/30\n",
            "247/247 [==============================] - 4s 16ms/step - loss: 0.9242 - accuracy: 0.6835 - val_loss: 1.7154 - val_accuracy: 0.4611\n",
            "Epoch 18/30\n",
            "247/247 [==============================] - 4s 16ms/step - loss: 0.9075 - accuracy: 0.6926 - val_loss: 1.7344 - val_accuracy: 0.4600\n",
            "Epoch 19/30\n",
            "247/247 [==============================] - 4s 16ms/step - loss: 0.8933 - accuracy: 0.6968 - val_loss: 1.7174 - val_accuracy: 0.4658\n",
            "Epoch 20/30\n",
            "247/247 [==============================] - 4s 16ms/step - loss: 0.8663 - accuracy: 0.7049 - val_loss: 1.7621 - val_accuracy: 0.4684\n",
            "Epoch 21/30\n",
            "247/247 [==============================] - 4s 15ms/step - loss: 0.8601 - accuracy: 0.7092 - val_loss: 1.7620 - val_accuracy: 0.4610\n",
            "Epoch 22/30\n",
            "247/247 [==============================] - 4s 17ms/step - loss: 0.8378 - accuracy: 0.7157 - val_loss: 1.7862 - val_accuracy: 0.4530\n",
            "Epoch 23/30\n",
            "247/247 [==============================] - 4s 16ms/step - loss: 0.8228 - accuracy: 0.7193 - val_loss: 1.8451 - val_accuracy: 0.4530\n",
            "Epoch 24/30\n",
            "247/247 [==============================] - 4s 16ms/step - loss: 0.8066 - accuracy: 0.7304 - val_loss: 1.8252 - val_accuracy: 0.4544\n",
            "Epoch 25/30\n",
            "247/247 [==============================] - 4s 16ms/step - loss: 0.7976 - accuracy: 0.7310 - val_loss: 1.8713 - val_accuracy: 0.4501\n",
            "Epoch 26/30\n",
            "247/247 [==============================] - 5s 18ms/step - loss: 0.7815 - accuracy: 0.7341 - val_loss: 1.8493 - val_accuracy: 0.4575\n",
            "Epoch 27/30\n",
            "247/247 [==============================] - 4s 16ms/step - loss: 0.7627 - accuracy: 0.7411 - val_loss: 1.8504 - val_accuracy: 0.4647\n",
            "Epoch 28/30\n",
            "247/247 [==============================] - 4s 16ms/step - loss: 0.7549 - accuracy: 0.7448 - val_loss: 1.8971 - val_accuracy: 0.4566\n",
            "Epoch 29/30\n",
            "247/247 [==============================] - 4s 17ms/step - loss: 0.7357 - accuracy: 0.7508 - val_loss: 1.9283 - val_accuracy: 0.4466\n",
            "Epoch 30/30\n",
            "247/247 [==============================] - 4s 15ms/step - loss: 0.7176 - accuracy: 0.7576 - val_loss: 1.9458 - val_accuracy: 0.4469\n"
          ]
        }
      ],
      "source": [
        "history=model.fit(X_train, y_train_hot,\n",
        "          validation_split=0.2,\n",
        "          epochs=30,\n",
        "          batch_size=130)"
      ]
    },
    {
      "cell_type": "markdown",
      "source": [
        "As you can notice there isn't much difference in the accuracy of this and the previous model!"
      ],
      "metadata": {
        "id": "UnEgeYJwB8zp"
      }
    },
    {
      "cell_type": "markdown",
      "metadata": {
        "id": "FAR84GDwPACm"
      },
      "source": [
        "## Convolutional neural network"
      ]
    },
    {
      "cell_type": "markdown",
      "metadata": {
        "id": "x5trZzdPPACm"
      },
      "source": [
        "Now let's build our most anticipated and historically successful CNN\n"
      ]
    },
    {
      "cell_type": "code",
      "execution_count": null,
      "metadata": {
        "ExecuteTime": {
          "end_time": "2023-02-14T05:55:55.638935Z",
          "start_time": "2023-02-14T05:55:55.035618Z"
        },
        "id": "XMKXF-CUPACm"
      },
      "outputs": [],
      "source": [
        "train_images_normalized = X_train.astype('float32')\n",
        "validation_images_normalized = X_test.astype('float32')\n",
        "\n",
        "# normalize to range 0-1\n",
        "train_images_normalized = train_images_normalized / 255.0\n",
        "validation_images_normalized = validation_images_normalized / 255.0"
      ]
    },
    {
      "cell_type": "code",
      "execution_count": null,
      "metadata": {
        "ExecuteTime": {
          "end_time": "2023-02-14T05:55:59.164853Z",
          "start_time": "2023-02-14T05:55:59.052276Z"
        },
        "id": "4GQaEkdfPACm",
        "colab": {
          "base_uri": "https://localhost:8080/"
        },
        "outputId": "f47d9926-62ba-4744-9c2e-a2310e3cfa66"
      },
      "outputs": [
        {
          "output_type": "stream",
          "name": "stdout",
          "text": [
            "Model: \"sequential\"\n",
            "_________________________________________________________________\n",
            " Layer (type)                Output Shape              Param #   \n",
            "=================================================================\n",
            " conv2d (Conv2D)             (None, 32, 32, 32)        896       \n",
            "                                                                 \n",
            " max_pooling2d (MaxPooling2D  (None, 16, 16, 32)       0         \n",
            " )                                                               \n",
            "                                                                 \n",
            " batch_normalization (BatchN  (None, 16, 16, 32)       128       \n",
            " ormalization)                                                   \n",
            "                                                                 \n",
            " conv2d_1 (Conv2D)           (None, 16, 16, 64)        18496     \n",
            "                                                                 \n",
            " max_pooling2d_1 (MaxPooling  (None, 8, 8, 64)         0         \n",
            " 2D)                                                             \n",
            "                                                                 \n",
            " batch_normalization_1 (Batc  (None, 8, 8, 64)         256       \n",
            " hNormalization)                                                 \n",
            "                                                                 \n",
            " flatten (Flatten)           (None, 4096)              0         \n",
            "                                                                 \n",
            " dense (Dense)               (None, 128)               524416    \n",
            "                                                                 \n",
            " dropout (Dropout)           (None, 128)               0         \n",
            "                                                                 \n",
            " dense_1 (Dense)             (None, 64)                8256      \n",
            "                                                                 \n",
            " batch_normalization_2 (Batc  (None, 64)               256       \n",
            " hNormalization)                                                 \n",
            "                                                                 \n",
            " dense_2 (Dense)             (None, 10)                650       \n",
            "                                                                 \n",
            "=================================================================\n",
            "Total params: 553,354\n",
            "Trainable params: 553,034\n",
            "Non-trainable params: 320\n",
            "_________________________________________________________________\n"
          ]
        }
      ],
      "source": [
        "from tensorflow.keras.layers import Conv2D, MaxPooling2D, Dropout\n",
        "\n",
        "callback = tf.keras.callbacks.EarlyStopping(monitor='loss', patience=3)\n",
        "\n",
        "backend.clear_session()\n",
        "\n",
        "model = keras.models.Sequential()\n",
        "model.add(Conv2D(32, (3, 3), activation='relu', padding=\"same\", input_shape=(32, 32, 3)))\n",
        "# Adding max pooling to reduce the size of output of first conv layer\n",
        "model.add(MaxPooling2D((2, 2), padding = 'same'))\n",
        "model.add(BatchNormalization())\n",
        "\n",
        "model.add(Conv2D(64, (3, 3), activation='relu', padding=\"same\"))\n",
        "model.add(MaxPooling2D((2, 2), padding = 'same'))\n",
        "model.add(BatchNormalization())\n",
        "\n",
        "# flattening the output of the conv layer after max pooling to make it ready for creating dense connections\n",
        "model.add(Flatten())\n",
        "\n",
        "# Adding a fully connected dense layer\n",
        "model.add(Dense(128, activation='relu'))\n",
        "model.add(Dropout(0.3))\n",
        "model.add(Dense(64, activation='relu'))\n",
        "model.add(BatchNormalization())\n",
        "# Adding the output layer with 10 neurons and activation functions as softmax since this is a multi-class classification problem\n",
        "model.add(Dense(10, activation='softmax'))\n",
        "\n",
        "opt=optimizers.Adam(learning_rate=0.001)\n",
        "# Compile model\n",
        "model.compile(optimizer=opt, loss='categorical_crossentropy', metrics=['accuracy'])\n",
        "\n",
        "# Generating the summary of the model\n",
        "model.summary()"
      ]
    },
    {
      "cell_type": "code",
      "execution_count": null,
      "metadata": {
        "ExecuteTime": {
          "end_time": "2023-02-14T05:56:02.801462Z",
          "start_time": "2023-02-14T05:56:02.796806Z"
        },
        "id": "KfgIOuwWPACn"
      },
      "outputs": [],
      "source": [
        "from tensorflow.keras.utils import to_categorical as one_hot\n",
        "y_train_hot = one_hot(y_train)"
      ]
    },
    {
      "cell_type": "code",
      "execution_count": null,
      "metadata": {
        "ExecuteTime": {
          "end_time": "2023-02-14T05:58:47.754349Z",
          "start_time": "2023-02-14T05:56:05.374296Z"
        },
        "id": "ClL55GUCPACn",
        "colab": {
          "base_uri": "https://localhost:8080/"
        },
        "outputId": "aad6f468-d2f7-4551-e4fa-a8aefe54ca5e"
      },
      "outputs": [
        {
          "output_type": "stream",
          "name": "stdout",
          "text": [
            "Epoch 1/40\n",
            "250/250 [==============================] - 13s 10ms/step - loss: 1.5270 - accuracy: 0.4551 - val_loss: 4.8429 - val_accuracy: 0.1029\n",
            "Epoch 2/40\n",
            "250/250 [==============================] - 2s 8ms/step - loss: 1.0958 - accuracy: 0.6103 - val_loss: 4.2353 - val_accuracy: 0.1566\n",
            "Epoch 3/40\n",
            "250/250 [==============================] - 2s 8ms/step - loss: 0.8992 - accuracy: 0.6847 - val_loss: 1.0082 - val_accuracy: 0.6424\n",
            "Epoch 4/40\n",
            "250/250 [==============================] - 2s 8ms/step - loss: 0.7765 - accuracy: 0.7274 - val_loss: 1.3069 - val_accuracy: 0.5715\n",
            "Epoch 5/40\n",
            "250/250 [==============================] - 2s 10ms/step - loss: 0.6563 - accuracy: 0.7706 - val_loss: 1.1037 - val_accuracy: 0.6349\n",
            "Epoch 6/40\n",
            "250/250 [==============================] - 2s 9ms/step - loss: 0.5609 - accuracy: 0.8039 - val_loss: 1.3450 - val_accuracy: 0.6084\n",
            "Epoch 7/40\n",
            "250/250 [==============================] - 2s 8ms/step - loss: 0.4730 - accuracy: 0.8372 - val_loss: 1.0020 - val_accuracy: 0.6775\n",
            "Epoch 8/40\n",
            "250/250 [==============================] - 2s 8ms/step - loss: 0.3879 - accuracy: 0.8660 - val_loss: 1.1817 - val_accuracy: 0.6593\n",
            "Epoch 9/40\n",
            "250/250 [==============================] - 2s 8ms/step - loss: 0.3365 - accuracy: 0.8822 - val_loss: 1.1573 - val_accuracy: 0.6635\n",
            "Epoch 10/40\n",
            "250/250 [==============================] - 2s 8ms/step - loss: 0.2989 - accuracy: 0.8968 - val_loss: 1.0650 - val_accuracy: 0.6891\n",
            "Epoch 11/40\n",
            "250/250 [==============================] - 2s 7ms/step - loss: 0.2596 - accuracy: 0.9109 - val_loss: 1.2138 - val_accuracy: 0.6745\n",
            "Epoch 12/40\n",
            "250/250 [==============================] - 2s 9ms/step - loss: 0.2230 - accuracy: 0.9216 - val_loss: 1.2538 - val_accuracy: 0.6696\n",
            "Epoch 13/40\n",
            "250/250 [==============================] - 2s 9ms/step - loss: 0.2044 - accuracy: 0.9289 - val_loss: 1.2644 - val_accuracy: 0.6864\n",
            "Epoch 14/40\n",
            "250/250 [==============================] - 2s 7ms/step - loss: 0.1969 - accuracy: 0.9323 - val_loss: 1.2589 - val_accuracy: 0.6806\n",
            "Epoch 15/40\n",
            "250/250 [==============================] - 2s 7ms/step - loss: 0.1716 - accuracy: 0.9419 - val_loss: 1.3724 - val_accuracy: 0.6827\n",
            "Epoch 16/40\n",
            "250/250 [==============================] - 2s 8ms/step - loss: 0.1582 - accuracy: 0.9450 - val_loss: 1.3460 - val_accuracy: 0.6950\n",
            "Epoch 17/40\n",
            "250/250 [==============================] - 2s 8ms/step - loss: 0.1541 - accuracy: 0.9456 - val_loss: 1.3243 - val_accuracy: 0.6862\n",
            "Epoch 18/40\n",
            "250/250 [==============================] - 2s 8ms/step - loss: 0.1433 - accuracy: 0.9505 - val_loss: 1.4578 - val_accuracy: 0.6819\n",
            "Epoch 19/40\n",
            "250/250 [==============================] - 2s 10ms/step - loss: 0.1350 - accuracy: 0.9536 - val_loss: 1.4081 - val_accuracy: 0.6925\n",
            "Epoch 20/40\n",
            "250/250 [==============================] - 2s 8ms/step - loss: 0.1287 - accuracy: 0.9559 - val_loss: 1.7109 - val_accuracy: 0.6571\n",
            "Epoch 21/40\n",
            "250/250 [==============================] - 2s 8ms/step - loss: 0.1189 - accuracy: 0.9591 - val_loss: 1.5494 - val_accuracy: 0.6877\n",
            "Epoch 22/40\n",
            "250/250 [==============================] - 2s 8ms/step - loss: 0.1162 - accuracy: 0.9599 - val_loss: 1.8826 - val_accuracy: 0.6327\n",
            "Epoch 23/40\n",
            "250/250 [==============================] - 2s 8ms/step - loss: 0.1271 - accuracy: 0.9563 - val_loss: 1.6766 - val_accuracy: 0.6768\n",
            "Epoch 24/40\n",
            "250/250 [==============================] - 2s 8ms/step - loss: 0.1087 - accuracy: 0.9621 - val_loss: 1.7817 - val_accuracy: 0.6593\n",
            "Epoch 25/40\n",
            "250/250 [==============================] - 2s 9ms/step - loss: 0.1099 - accuracy: 0.9618 - val_loss: 1.5679 - val_accuracy: 0.7011\n",
            "Epoch 26/40\n",
            "250/250 [==============================] - 2s 9ms/step - loss: 0.1008 - accuracy: 0.9652 - val_loss: 1.5028 - val_accuracy: 0.6656\n",
            "Epoch 27/40\n",
            "250/250 [==============================] - 2s 8ms/step - loss: 0.1022 - accuracy: 0.9655 - val_loss: 1.6813 - val_accuracy: 0.6885\n",
            "Epoch 28/40\n",
            "250/250 [==============================] - 2s 8ms/step - loss: 0.1021 - accuracy: 0.9658 - val_loss: 1.6412 - val_accuracy: 0.6814\n",
            "Epoch 29/40\n",
            "250/250 [==============================] - 2s 8ms/step - loss: 0.0968 - accuracy: 0.9657 - val_loss: 1.6271 - val_accuracy: 0.6845\n",
            "Epoch 30/40\n",
            "250/250 [==============================] - 2s 8ms/step - loss: 0.0909 - accuracy: 0.9687 - val_loss: 1.8086 - val_accuracy: 0.6751\n",
            "Epoch 31/40\n",
            "250/250 [==============================] - 2s 8ms/step - loss: 0.0930 - accuracy: 0.9669 - val_loss: 1.9218 - val_accuracy: 0.6672\n",
            "Epoch 32/40\n",
            "250/250 [==============================] - 2s 9ms/step - loss: 0.0934 - accuracy: 0.9683 - val_loss: 1.8628 - val_accuracy: 0.6758\n",
            "Epoch 33/40\n",
            "250/250 [==============================] - 3s 10ms/step - loss: 0.0817 - accuracy: 0.9721 - val_loss: 1.7162 - val_accuracy: 0.6805\n",
            "Epoch 34/40\n",
            "250/250 [==============================] - 3s 11ms/step - loss: 0.0852 - accuracy: 0.9703 - val_loss: 1.6800 - val_accuracy: 0.6837\n",
            "Epoch 35/40\n",
            "250/250 [==============================] - 2s 8ms/step - loss: 0.0828 - accuracy: 0.9703 - val_loss: 1.7217 - val_accuracy: 0.6812\n",
            "Epoch 36/40\n",
            "250/250 [==============================] - 2s 8ms/step - loss: 0.0781 - accuracy: 0.9731 - val_loss: 1.8476 - val_accuracy: 0.6664\n",
            "Epoch 37/40\n",
            "250/250 [==============================] - 2s 8ms/step - loss: 0.0810 - accuracy: 0.9723 - val_loss: 1.8368 - val_accuracy: 0.6672\n",
            "Epoch 38/40\n",
            "250/250 [==============================] - 2s 9ms/step - loss: 0.0773 - accuracy: 0.9728 - val_loss: 1.7121 - val_accuracy: 0.6779\n",
            "Epoch 39/40\n",
            "250/250 [==============================] - 2s 9ms/step - loss: 0.0763 - accuracy: 0.9737 - val_loss: 1.6949 - val_accuracy: 0.6837\n",
            "Epoch 40/40\n",
            "250/250 [==============================] - 2s 8ms/step - loss: 0.0708 - accuracy: 0.9763 - val_loss: 1.6934 - val_accuracy: 0.6956\n"
          ]
        }
      ],
      "source": [
        "history=model.fit(X_train, y_train_hot,\n",
        "          validation_split=0.2,\n",
        "          epochs=40,\n",
        "          batch_size=128,\n",
        "          callbacks=[callback],\n",
        "          shuffle=True)"
      ]
    },
    {
      "cell_type": "code",
      "execution_count": null,
      "metadata": {
        "ExecuteTime": {
          "end_time": "2023-02-14T05:58:54.146941Z",
          "start_time": "2023-02-14T05:58:52.332928Z"
        },
        "id": "MM1fGdN8PACn",
        "colab": {
          "base_uri": "https://localhost:8080/"
        },
        "outputId": "421860fd-65a4-4d3b-eb1d-595831a036ac"
      },
      "outputs": [
        {
          "output_type": "stream",
          "name": "stdout",
          "text": [
            "313/313 [==============================] - 1s 2ms/step\n"
          ]
        }
      ],
      "source": [
        "y_pred = model.predict(validation_images_normalized)\n",
        "predicted_classes=np.argmax(y_pred,axis=1)"
      ]
    },
    {
      "cell_type": "code",
      "source": [
        "y_test_hot  = one_hot(y_test)\n",
        "accuracy = model.evaluate(X_test, y_test_hot, verbose=2)"
      ],
      "metadata": {
        "id": "TTbeCxR7Mscv",
        "colab": {
          "base_uri": "https://localhost:8080/"
        },
        "outputId": "26336aee-4fd0-462c-ed44-3ab39ef9ea2c"
      },
      "execution_count": null,
      "outputs": [
        {
          "output_type": "stream",
          "name": "stdout",
          "text": [
            "313/313 - 1s - loss: 1.6122 - accuracy: 0.7039 - 779ms/epoch - 2ms/step\n"
          ]
        }
      ]
    },
    {
      "cell_type": "code",
      "source": [
        "# Plot training & validation accuracy values\n",
        "plt.plot(history.history['accuracy'])\n",
        "plt.plot(history.history['val_accuracy'])\n",
        "\n",
        "plt.title('Model accuracy')\n",
        "plt.ylabel('Accuracy')\n",
        "plt.xlabel('Epoch')\n",
        "plt.legend(['Train', 'Test'], loc='upper left')\n",
        "plt.show()"
      ],
      "metadata": {
        "id": "JpM2B7fEDyAJ",
        "colab": {
          "base_uri": "https://localhost:8080/",
          "height": 472
        },
        "outputId": "8542c4e5-790e-4217-836f-a82b09c141e4"
      },
      "execution_count": null,
      "outputs": [
        {
          "output_type": "display_data",
          "data": {
            "text/plain": [
              "<Figure size 640x480 with 1 Axes>"
            ],
            "image/png": "[encoded data removed]"
          },
          "metadata": {}
        }
      ]
    },
    {
      "cell_type": "markdown",
      "source": [
        "There is significant increase in accuracy with CNN :-) 🥲\n",
        "\n",
        "---\n",
        "\n"
      ],
      "metadata": {
        "id": "4Ska0jk7Ui7I"
      }
    },
    {
      "cell_type": "markdown",
      "metadata": {
        "id": "m0RSsoe9PACn"
      },
      "source": [
        "## Transfer learning with Xception"
      ]
    },
    {
      "cell_type": "markdown",
      "metadata": {
        "id": "xkT2QKi5PACo"
      },
      "source": [
        "Xception is the extreme version of the Inception model with depthwise separable convolutions and has been created by Google ( [Xception reference](https://https://towardsdatascience.com/review-xception-with-depthwise-separable-convolution-better-than-inception-v3-image-dc967dd42568) ) and a combination of depthwise and pointwise convolutions. This model has outperformed VGG, Inception and Resnet in training the Imagenet dataset."
      ]
    },
    {
      "cell_type": "code",
      "source": [
        "# Clearing backend\n",
        "from tensorflow.keras import backend\n",
        "backend.clear_session()\n",
        "\n",
        "# Fixing the seed for random number generators\n",
        "import random\n",
        "np.random.seed(42)\n",
        "random.seed(42)\n",
        "tf.random.set_seed(42)\n",
        "\n",
        "from tensorflow.keras.models import Model\n",
        "from keras.applications.xception import Xception\n",
        "\n",
        "#xception_model = Xception(weights='imagenet', include_top = False, input_shape = (128,128,3))\n",
        "xception_model = Xception(weights='imagenet', include_top = False, input_shape = (128,128,3))\n",
        "xception_model.summary()\n"
      ],
      "metadata": {
        "id": "1JwhGoq0N2Fp",
        "colab": {
          "base_uri": "https://localhost:8080/"
        },
        "outputId": "32a9d63c-ebb2-4c7c-b432-19443bec78fa"
      },
      "execution_count": 7,
      "outputs": [
        {
          "output_type": "stream",
          "name": "stdout",
          "text": [
            "Downloading data from https://storage.googleapis.com/tensorflow/keras-applications/xception/xception_weights_tf_dim_ordering_tf_kernels_notop.h5\n",
            "83683744/83683744 [==============================] - 5s 0us/step\n",
            "Model: \"xception\"\n",
            "__________________________________________________________________________________________________\n",
            " Layer (type)                   Output Shape         Param #     Connected to                     \n",
            "==================================================================================================\n",
            " input_1 (InputLayer)           [(None, 128, 128, 3  0           []                               \n",
            "                                )]                                                                \n",
            "                                                                                                  \n",
            " block1_conv1 (Conv2D)          (None, 63, 63, 32)   864         ['input_1[0][0]']                \n",
            "                                                                                                  \n",
            " block1_conv1_bn (BatchNormaliz  (None, 63, 63, 32)  128         ['block1_conv1[0][0]']           \n",
            " ation)                                                                                           \n",
            "                                                                                                  \n",
            " block1_conv1_act (Activation)  (None, 63, 63, 32)   0           ['block1_conv1_bn[0][0]']        \n",
            "                                                                                                  \n",
            " block1_conv2 (Conv2D)          (None, 61, 61, 64)   18432       ['block1_conv1_act[0][0]']       \n",
            "                                                                                                  \n",
            " block1_conv2_bn (BatchNormaliz  (None, 61, 61, 64)  256         ['block1_conv2[0][0]']           \n",
            " ation)                                                                                           \n",
            "                                                                                                  \n",
            " block1_conv2_act (Activation)  (None, 61, 61, 64)   0           ['block1_conv2_bn[0][0]']        \n",
            "                                                                                                  \n",
            " block2_sepconv1 (SeparableConv  (None, 61, 61, 128)  8768       ['block1_conv2_act[0][0]']       \n",
            " 2D)                                                                                              \n",
            "                                                                                                  \n",
            " block2_sepconv1_bn (BatchNorma  (None, 61, 61, 128)  512        ['block2_sepconv1[0][0]']        \n",
            " lization)                                                                                        \n",
            "                                                                                                  \n",
            " block2_sepconv2_act (Activatio  (None, 61, 61, 128)  0          ['block2_sepconv1_bn[0][0]']     \n",
            " n)                                                                                               \n",
            "                                                                                                  \n",
            " block2_sepconv2 (SeparableConv  (None, 61, 61, 128)  17536      ['block2_sepconv2_act[0][0]']    \n",
            " 2D)                                                                                              \n",
            "                                                                                                  \n",
            " block2_sepconv2_bn (BatchNorma  (None, 61, 61, 128)  512        ['block2_sepconv2[0][0]']        \n",
            " lization)                                                                                        \n",
            "                                                                                                  \n",
            " conv2d (Conv2D)                (None, 31, 31, 128)  8192        ['block1_conv2_act[0][0]']       \n",
            "                                                                                                  \n",
            " block2_pool (MaxPooling2D)     (None, 31, 31, 128)  0           ['block2_sepconv2_bn[0][0]']     \n",
            "                                                                                                  \n",
            " batch_normalization (BatchNorm  (None, 31, 31, 128)  512        ['conv2d[0][0]']                 \n",
            " alization)                                                                                       \n",
            "                                                                                                  \n",
            " add (Add)                      (None, 31, 31, 128)  0           ['block2_pool[0][0]',            \n",
            "                                                                  'batch_normalization[0][0]']    \n",
            "                                                                                                  \n",
            " block3_sepconv1_act (Activatio  (None, 31, 31, 128)  0          ['add[0][0]']                    \n",
            " n)                                                                                               \n",
            "                                                                                                  \n",
            " block3_sepconv1 (SeparableConv  (None, 31, 31, 256)  33920      ['block3_sepconv1_act[0][0]']    \n",
            " 2D)                                                                                              \n",
            "                                                                                                  \n",
            " block3_sepconv1_bn (BatchNorma  (None, 31, 31, 256)  1024       ['block3_sepconv1[0][0]']        \n",
            " lization)                                                                                        \n",
            "                                                                                                  \n",
            " block3_sepconv2_act (Activatio  (None, 31, 31, 256)  0          ['block3_sepconv1_bn[0][0]']     \n",
            " n)                                                                                               \n",
            "                                                                                                  \n",
            " block3_sepconv2 (SeparableConv  (None, 31, 31, 256)  67840      ['block3_sepconv2_act[0][0]']    \n",
            " 2D)                                                                                              \n",
            "                                                                                                  \n",
            " block3_sepconv2_bn (BatchNorma  (None, 31, 31, 256)  1024       ['block3_sepconv2[0][0]']        \n",
            " lization)                                                                                        \n",
            "                                                                                                  \n",
            " conv2d_1 (Conv2D)              (None, 16, 16, 256)  32768       ['add[0][0]']                    \n",
            "                                                                                                  \n",
            " block3_pool (MaxPooling2D)     (None, 16, 16, 256)  0           ['block3_sepconv2_bn[0][0]']     \n",
            "                                                                                                  \n",
            " batch_normalization_1 (BatchNo  (None, 16, 16, 256)  1024       ['conv2d_1[0][0]']               \n",
            " rmalization)                                                                                     \n",
            "                                                                                                  \n",
            " add_1 (Add)                    (None, 16, 16, 256)  0           ['block3_pool[0][0]',            \n",
            "                                                                  'batch_normalization_1[0][0]']  \n",
            "                                                                                                  \n",
            " block4_sepconv1_act (Activatio  (None, 16, 16, 256)  0          ['add_1[0][0]']                  \n",
            " n)                                                                                               \n",
            "                                                                                                  \n",
            " block4_sepconv1 (SeparableConv  (None, 16, 16, 728)  188672     ['block4_sepconv1_act[0][0]']    \n",
            " 2D)                                                                                              \n",
            "                                                                                                  \n",
            " block4_sepconv1_bn (BatchNorma  (None, 16, 16, 728)  2912       ['block4_sepconv1[0][0]']        \n",
            " lization)                                                                                        \n",
            "                                                                                                  \n",
            " block4_sepconv2_act (Activatio  (None, 16, 16, 728)  0          ['block4_sepconv1_bn[0][0]']     \n",
            " n)                                                                                               \n",
            "                                                                                                  \n",
            " block4_sepconv2 (SeparableConv  (None, 16, 16, 728)  536536     ['block4_sepconv2_act[0][0]']    \n",
            " 2D)                                                                                              \n",
            "                                                                                                  \n",
            " block4_sepconv2_bn (BatchNorma  (None, 16, 16, 728)  2912       ['block4_sepconv2[0][0]']        \n",
            " lization)                                                                                        \n",
            "                                                                                                  \n",
            " conv2d_2 (Conv2D)              (None, 8, 8, 728)    186368      ['add_1[0][0]']                  \n",
            "                                                                                                  \n",
            " block4_pool (MaxPooling2D)     (None, 8, 8, 728)    0           ['block4_sepconv2_bn[0][0]']     \n",
            "                                                                                                  \n",
            " batch_normalization_2 (BatchNo  (None, 8, 8, 728)   2912        ['conv2d_2[0][0]']               \n",
            " rmalization)                                                                                     \n",
            "                                                                                                  \n",
            " add_2 (Add)                    (None, 8, 8, 728)    0           ['block4_pool[0][0]',            \n",
            "                                                                  'batch_normalization_2[0][0]']  \n",
            "                                                                                                  \n",
            " block5_sepconv1_act (Activatio  (None, 8, 8, 728)   0           ['add_2[0][0]']                  \n",
            " n)                                                                                               \n",
            "                                                                                                  \n",
            " block5_sepconv1 (SeparableConv  (None, 8, 8, 728)   536536      ['block5_sepconv1_act[0][0]']    \n",
            " 2D)                                                                                              \n",
            "                                                                                                  \n",
            " block5_sepconv1_bn (BatchNorma  (None, 8, 8, 728)   2912        ['block5_sepconv1[0][0]']        \n",
            " lization)                                                                                        \n",
            "                                                                                                  \n",
            " block5_sepconv2_act (Activatio  (None, 8, 8, 728)   0           ['block5_sepconv1_bn[0][0]']     \n",
            " n)                                                                                               \n",
            "                                                                                                  \n",
            " block5_sepconv2 (SeparableConv  (None, 8, 8, 728)   536536      ['block5_sepconv2_act[0][0]']    \n",
            " 2D)                                                                                              \n",
            "                                                                                                  \n",
            " block5_sepconv2_bn (BatchNorma  (None, 8, 8, 728)   2912        ['block5_sepconv2[0][0]']        \n",
            " lization)                                                                                        \n",
            "                                                                                                  \n",
            " block5_sepconv3_act (Activatio  (None, 8, 8, 728)   0           ['block5_sepconv2_bn[0][0]']     \n",
            " n)                                                                                               \n",
            "                                                                                                  \n",
            " block5_sepconv3 (SeparableConv  (None, 8, 8, 728)   536536      ['block5_sepconv3_act[0][0]']    \n",
            " 2D)                                                                                              \n",
            "                                                                                                  \n",
            " block5_sepconv3_bn (BatchNorma  (None, 8, 8, 728)   2912        ['block5_sepconv3[0][0]']        \n",
            " lization)                                                                                        \n",
            "                                                                                                  \n",
            " add_3 (Add)                    (None, 8, 8, 728)    0           ['block5_sepconv3_bn[0][0]',     \n",
            "                                                                  'add_2[0][0]']                  \n",
            "                                                                                                  \n",
            " block6_sepconv1_act (Activatio  (None, 8, 8, 728)   0           ['add_3[0][0]']                  \n",
            " n)                                                                                               \n",
            "                                                                                                  \n",
            " block6_sepconv1 (SeparableConv  (None, 8, 8, 728)   536536      ['block6_sepconv1_act[0][0]']    \n",
            " 2D)                                                                                              \n",
            "                                                                                                  \n",
            " block6_sepconv1_bn (BatchNorma  (None, 8, 8, 728)   2912        ['block6_sepconv1[0][0]']        \n",
            " lization)                                                                                        \n",
            "                                                                                                  \n",
            " block6_sepconv2_act (Activatio  (None, 8, 8, 728)   0           ['block6_sepconv1_bn[0][0]']     \n",
            " n)                                                                                               \n",
            "                                                                                                  \n",
            " block6_sepconv2 (SeparableConv  (None, 8, 8, 728)   536536      ['block6_sepconv2_act[0][0]']    \n",
            " 2D)                                                                                              \n",
            "                                                                                                  \n",
            " block6_sepconv2_bn (BatchNorma  (None, 8, 8, 728)   2912        ['block6_sepconv2[0][0]']        \n",
            " lization)                                                                                        \n",
            "                                                                                                  \n",
            " block6_sepconv3_act (Activatio  (None, 8, 8, 728)   0           ['block6_sepconv2_bn[0][0]']     \n",
            " n)                                                                                               \n",
            "                                                                                                  \n",
            " block6_sepconv3 (SeparableConv  (None, 8, 8, 728)   536536      ['block6_sepconv3_act[0][0]']    \n",
            " 2D)                                                                                              \n",
            "                                                                                                  \n",
            " block6_sepconv3_bn (BatchNorma  (None, 8, 8, 728)   2912        ['block6_sepconv3[0][0]']        \n",
            " lization)                                                                                        \n",
            "                                                                                                  \n",
            " add_4 (Add)                    (None, 8, 8, 728)    0           ['block6_sepconv3_bn[0][0]',     \n",
            "                                                                  'add_3[0][0]']                  \n",
            "                                                                                                  \n",
            " block7_sepconv1_act (Activatio  (None, 8, 8, 728)   0           ['add_4[0][0]']                  \n",
            " n)                                                                                               \n",
            "                                                                                                  \n",
            " block7_sepconv1 (SeparableConv  (None, 8, 8, 728)   536536      ['block7_sepconv1_act[0][0]']    \n",
            " 2D)                                                                                              \n",
            "                                                                                                  \n",
            " block7_sepconv1_bn (BatchNorma  (None, 8, 8, 728)   2912        ['block7_sepconv1[0][0]']        \n",
            " lization)                                                                                        \n",
            "                                                                                                  \n",
            " block7_sepconv2_act (Activatio  (None, 8, 8, 728)   0           ['block7_sepconv1_bn[0][0]']     \n",
            " n)                                                                                               \n",
            "                                                                                                  \n",
            " block7_sepconv2 (SeparableConv  (None, 8, 8, 728)   536536      ['block7_sepconv2_act[0][0]']    \n",
            " 2D)                                                                                              \n",
            "                                                                                                  \n",
            " block7_sepconv2_bn (BatchNorma  (None, 8, 8, 728)   2912        ['block7_sepconv2[0][0]']        \n",
            " lization)                                                                                        \n",
            "                                                                                                  \n",
            " block7_sepconv3_act (Activatio  (None, 8, 8, 728)   0           ['block7_sepconv2_bn[0][0]']     \n",
            " n)                                                                                               \n",
            "                                                                                                  \n",
            " block7_sepconv3 (SeparableConv  (None, 8, 8, 728)   536536      ['block7_sepconv3_act[0][0]']    \n",
            " 2D)                                                                                              \n",
            "                                                                                                  \n",
            " block7_sepconv3_bn (BatchNorma  (None, 8, 8, 728)   2912        ['block7_sepconv3[0][0]']        \n",
            " lization)                                                                                        \n",
            "                                                                                                  \n",
            " add_5 (Add)                    (None, 8, 8, 728)    0           ['block7_sepconv3_bn[0][0]',     \n",
            "                                                                  'add_4[0][0]']                  \n",
            "                                                                                                  \n",
            " block8_sepconv1_act (Activatio  (None, 8, 8, 728)   0           ['add_5[0][0]']                  \n",
            " n)                                                                                               \n",
            "                                                                                                  \n",
            " block8_sepconv1 (SeparableConv  (None, 8, 8, 728)   536536      ['block8_sepconv1_act[0][0]']    \n",
            " 2D)                                                                                              \n",
            "                                                                                                  \n",
            " block8_sepconv1_bn (BatchNorma  (None, 8, 8, 728)   2912        ['block8_sepconv1[0][0]']        \n",
            " lization)                                                                                        \n",
            "                                                                                                  \n",
            " block8_sepconv2_act (Activatio  (None, 8, 8, 728)   0           ['block8_sepconv1_bn[0][0]']     \n",
            " n)                                                                                               \n",
            "                                                                                                  \n",
            " block8_sepconv2 (SeparableConv  (None, 8, 8, 728)   536536      ['block8_sepconv2_act[0][0]']    \n",
            " 2D)                                                                                              \n",
            "                                                                                                  \n",
            " block8_sepconv2_bn (BatchNorma  (None, 8, 8, 728)   2912        ['block8_sepconv2[0][0]']        \n",
            " lization)                                                                                        \n",
            "                                                                                                  \n",
            " block8_sepconv3_act (Activatio  (None, 8, 8, 728)   0           ['block8_sepconv2_bn[0][0]']     \n",
            " n)                                                                                               \n",
            "                                                                                                  \n",
            " block8_sepconv3 (SeparableConv  (None, 8, 8, 728)   536536      ['block8_sepconv3_act[0][0]']    \n",
            " 2D)                                                                                              \n",
            "                                                                                                  \n",
            " block8_sepconv3_bn (BatchNorma  (None, 8, 8, 728)   2912        ['block8_sepconv3[0][0]']        \n",
            " lization)                                                                                        \n",
            "                                                                                                  \n",
            " add_6 (Add)                    (None, 8, 8, 728)    0           ['block8_sepconv3_bn[0][0]',     \n",
            "                                                                  'add_5[0][0]']                  \n",
            "                                                                                                  \n",
            " block9_sepconv1_act (Activatio  (None, 8, 8, 728)   0           ['add_6[0][0]']                  \n",
            " n)                                                                                               \n",
            "                                                                                                  \n",
            " block9_sepconv1 (SeparableConv  (None, 8, 8, 728)   536536      ['block9_sepconv1_act[0][0]']    \n",
            " 2D)                                                                                              \n",
            "                                                                                                  \n",
            " block9_sepconv1_bn (BatchNorma  (None, 8, 8, 728)   2912        ['block9_sepconv1[0][0]']        \n",
            " lization)                                                                                        \n",
            "                                                                                                  \n",
            " block9_sepconv2_act (Activatio  (None, 8, 8, 728)   0           ['block9_sepconv1_bn[0][0]']     \n",
            " n)                                                                                               \n",
            "                                                                                                  \n",
            " block9_sepconv2 (SeparableConv  (None, 8, 8, 728)   536536      ['block9_sepconv2_act[0][0]']    \n",
            " 2D)                                                                                              \n",
            "                                                                                                  \n",
            " block9_sepconv2_bn (BatchNorma  (None, 8, 8, 728)   2912        ['block9_sepconv2[0][0]']        \n",
            " lization)                                                                                        \n",
            "                                                                                                  \n",
            " block9_sepconv3_act (Activatio  (None, 8, 8, 728)   0           ['block9_sepconv2_bn[0][0]']     \n",
            " n)                                                                                               \n",
            "                                                                                                  \n",
            " block9_sepconv3 (SeparableConv  (None, 8, 8, 728)   536536      ['block9_sepconv3_act[0][0]']    \n",
            " 2D)                                                                                              \n",
            "                                                                                                  \n",
            " block9_sepconv3_bn (BatchNorma  (None, 8, 8, 728)   2912        ['block9_sepconv3[0][0]']        \n",
            " lization)                                                                                        \n",
            "                                                                                                  \n",
            " add_7 (Add)                    (None, 8, 8, 728)    0           ['block9_sepconv3_bn[0][0]',     \n",
            "                                                                  'add_6[0][0]']                  \n",
            "                                                                                                  \n",
            " block10_sepconv1_act (Activati  (None, 8, 8, 728)   0           ['add_7[0][0]']                  \n",
            " on)                                                                                              \n",
            "                                                                                                  \n",
            " block10_sepconv1 (SeparableCon  (None, 8, 8, 728)   536536      ['block10_sepconv1_act[0][0]']   \n",
            " v2D)                                                                                             \n",
            "                                                                                                  \n",
            " block10_sepconv1_bn (BatchNorm  (None, 8, 8, 728)   2912        ['block10_sepconv1[0][0]']       \n",
            " alization)                                                                                       \n",
            "                                                                                                  \n",
            " block10_sepconv2_act (Activati  (None, 8, 8, 728)   0           ['block10_sepconv1_bn[0][0]']    \n",
            " on)                                                                                              \n",
            "                                                                                                  \n",
            " block10_sepconv2 (SeparableCon  (None, 8, 8, 728)   536536      ['block10_sepconv2_act[0][0]']   \n",
            " v2D)                                                                                             \n",
            "                                                                                                  \n",
            " block10_sepconv2_bn (BatchNorm  (None, 8, 8, 728)   2912        ['block10_sepconv2[0][0]']       \n",
            " alization)                                                                                       \n",
            "                                                                                                  \n",
            " block10_sepconv3_act (Activati  (None, 8, 8, 728)   0           ['block10_sepconv2_bn[0][0]']    \n",
            " on)                                                                                              \n",
            "                                                                                                  \n",
            " block10_sepconv3 (SeparableCon  (None, 8, 8, 728)   536536      ['block10_sepconv3_act[0][0]']   \n",
            " v2D)                                                                                             \n",
            "                                                                                                  \n",
            " block10_sepconv3_bn (BatchNorm  (None, 8, 8, 728)   2912        ['block10_sepconv3[0][0]']       \n",
            " alization)                                                                                       \n",
            "                                                                                                  \n",
            " add_8 (Add)                    (None, 8, 8, 728)    0           ['block10_sepconv3_bn[0][0]',    \n",
            "                                                                  'add_7[0][0]']                  \n",
            "                                                                                                  \n",
            " block11_sepconv1_act (Activati  (None, 8, 8, 728)   0           ['add_8[0][0]']                  \n",
            " on)                                                                                              \n",
            "                                                                                                  \n",
            " block11_sepconv1 (SeparableCon  (None, 8, 8, 728)   536536      ['block11_sepconv1_act[0][0]']   \n",
            " v2D)                                                                                             \n",
            "                                                                                                  \n",
            " block11_sepconv1_bn (BatchNorm  (None, 8, 8, 728)   2912        ['block11_sepconv1[0][0]']       \n",
            " alization)                                                                                       \n",
            "                                                                                                  \n",
            " block11_sepconv2_act (Activati  (None, 8, 8, 728)   0           ['block11_sepconv1_bn[0][0]']    \n",
            " on)                                                                                              \n",
            "                                                                                                  \n",
            " block11_sepconv2 (SeparableCon  (None, 8, 8, 728)   536536      ['block11_sepconv2_act[0][0]']   \n",
            " v2D)                                                                                             \n",
            "                                                                                                  \n",
            " block11_sepconv2_bn (BatchNorm  (None, 8, 8, 728)   2912        ['block11_sepconv2[0][0]']       \n",
            " alization)                                                                                       \n",
            "                                                                                                  \n",
            " block11_sepconv3_act (Activati  (None, 8, 8, 728)   0           ['block11_sepconv2_bn[0][0]']    \n",
            " on)                                                                                              \n",
            "                                                                                                  \n",
            " block11_sepconv3 (SeparableCon  (None, 8, 8, 728)   536536      ['block11_sepconv3_act[0][0]']   \n",
            " v2D)                                                                                             \n",
            "                                                                                                  \n",
            " block11_sepconv3_bn (BatchNorm  (None, 8, 8, 728)   2912        ['block11_sepconv3[0][0]']       \n",
            " alization)                                                                                       \n",
            "                                                                                                  \n",
            " add_9 (Add)                    (None, 8, 8, 728)    0           ['block11_sepconv3_bn[0][0]',    \n",
            "                                                                  'add_8[0][0]']                  \n",
            "                                                                                                  \n",
            " block12_sepconv1_act (Activati  (None, 8, 8, 728)   0           ['add_9[0][0]']                  \n",
            " on)                                                                                              \n",
            "                                                                                                  \n",
            " block12_sepconv1 (SeparableCon  (None, 8, 8, 728)   536536      ['block12_sepconv1_act[0][0]']   \n",
            " v2D)                                                                                             \n",
            "                                                                                                  \n",
            " block12_sepconv1_bn (BatchNorm  (None, 8, 8, 728)   2912        ['block12_sepconv1[0][0]']       \n",
            " alization)                                                                                       \n",
            "                                                                                                  \n",
            " block12_sepconv2_act (Activati  (None, 8, 8, 728)   0           ['block12_sepconv1_bn[0][0]']    \n",
            " on)                                                                                              \n",
            "                                                                                                  \n",
            " block12_sepconv2 (SeparableCon  (None, 8, 8, 728)   536536      ['block12_sepconv2_act[0][0]']   \n",
            " v2D)                                                                                             \n",
            "                                                                                                  \n",
            " block12_sepconv2_bn (BatchNorm  (None, 8, 8, 728)   2912        ['block12_sepconv2[0][0]']       \n",
            " alization)                                                                                       \n",
            "                                                                                                  \n",
            " block12_sepconv3_act (Activati  (None, 8, 8, 728)   0           ['block12_sepconv2_bn[0][0]']    \n",
            " on)                                                                                              \n",
            "                                                                                                  \n",
            " block12_sepconv3 (SeparableCon  (None, 8, 8, 728)   536536      ['block12_sepconv3_act[0][0]']   \n",
            " v2D)                                                                                             \n",
            "                                                                                                  \n",
            " block12_sepconv3_bn (BatchNorm  (None, 8, 8, 728)   2912        ['block12_sepconv3[0][0]']       \n",
            " alization)                                                                                       \n",
            "                                                                                                  \n",
            " add_10 (Add)                   (None, 8, 8, 728)    0           ['block12_sepconv3_bn[0][0]',    \n",
            "                                                                  'add_9[0][0]']                  \n",
            "                                                                                                  \n",
            " block13_sepconv1_act (Activati  (None, 8, 8, 728)   0           ['add_10[0][0]']                 \n",
            " on)                                                                                              \n",
            "                                                                                                  \n",
            " block13_sepconv1 (SeparableCon  (None, 8, 8, 728)   536536      ['block13_sepconv1_act[0][0]']   \n",
            " v2D)                                                                                             \n",
            "                                                                                                  \n",
            " block13_sepconv1_bn (BatchNorm  (None, 8, 8, 728)   2912        ['block13_sepconv1[0][0]']       \n",
            " alization)                                                                                       \n",
            "                                                                                                  \n",
            " block13_sepconv2_act (Activati  (None, 8, 8, 728)   0           ['block13_sepconv1_bn[0][0]']    \n",
            " on)                                                                                              \n",
            "                                                                                                  \n",
            " block13_sepconv2 (SeparableCon  (None, 8, 8, 1024)  752024      ['block13_sepconv2_act[0][0]']   \n",
            " v2D)                                                                                             \n",
            "                                                                                                  \n",
            " block13_sepconv2_bn (BatchNorm  (None, 8, 8, 1024)  4096        ['block13_sepconv2[0][0]']       \n",
            " alization)                                                                                       \n",
            "                                                                                                  \n",
            " conv2d_3 (Conv2D)              (None, 4, 4, 1024)   745472      ['add_10[0][0]']                 \n",
            "                                                                                                  \n",
            " block13_pool (MaxPooling2D)    (None, 4, 4, 1024)   0           ['block13_sepconv2_bn[0][0]']    \n",
            "                                                                                                  \n",
            " batch_normalization_3 (BatchNo  (None, 4, 4, 1024)  4096        ['conv2d_3[0][0]']               \n",
            " rmalization)                                                                                     \n",
            "                                                                                                  \n",
            " add_11 (Add)                   (None, 4, 4, 1024)   0           ['block13_pool[0][0]',           \n",
            "                                                                  'batch_normalization_3[0][0]']  \n",
            "                                                                                                  \n",
            " block14_sepconv1 (SeparableCon  (None, 4, 4, 1536)  1582080     ['add_11[0][0]']                 \n",
            " v2D)                                                                                             \n",
            "                                                                                                  \n",
            " block14_sepconv1_bn (BatchNorm  (None, 4, 4, 1536)  6144        ['block14_sepconv1[0][0]']       \n",
            " alization)                                                                                       \n",
            "                                                                                                  \n",
            " block14_sepconv1_act (Activati  (None, 4, 4, 1536)  0           ['block14_sepconv1_bn[0][0]']    \n",
            " on)                                                                                              \n",
            "                                                                                                  \n",
            " block14_sepconv2 (SeparableCon  (None, 4, 4, 2048)  3159552     ['block14_sepconv1_act[0][0]']   \n",
            " v2D)                                                                                             \n",
            "                                                                                                  \n",
            " block14_sepconv2_bn (BatchNorm  (None, 4, 4, 2048)  8192        ['block14_sepconv2[0][0]']       \n",
            " alization)                                                                                       \n",
            "                                                                                                  \n",
            " block14_sepconv2_act (Activati  (None, 4, 4, 2048)  0           ['block14_sepconv2_bn[0][0]']    \n",
            " on)                                                                                              \n",
            "                                                                                                  \n",
            "==================================================================================================\n",
            "Total params: 20,861,480\n",
            "Trainable params: 20,806,952\n",
            "Non-trainable params: 54,528\n",
            "__________________________________________________________________________________________________\n"
          ]
        }
      ]
    },
    {
      "cell_type": "code",
      "source": [
        "# Making all the layers of the VGG model non-trainable. i.e. freezing them\n",
        "for layer in xception_model.layers:\n",
        "    layer.trainable = False"
      ],
      "metadata": {
        "id": "a9vudIvnJG8f"
      },
      "execution_count": 8,
      "outputs": []
    },
    {
      "cell_type": "code",
      "source": [
        "from tensorflow.keras.layers import Conv2D, MaxPooling2D,Dropout,Resizing\n",
        "from tensorflow.keras import backend\n",
        "from tensorflow.keras.layers import Dense, Input, Dropout,BatchNormalization,Flatten\n",
        "from tensorflow.keras import optimizers\n",
        "from tensorflow.keras import losses\n",
        "backend.clear_session()\n",
        "import gc\n",
        "\n",
        "callback = tf.keras.callbacks.EarlyStopping(monitor='loss', patience=3)"
      ],
      "metadata": {
        "id": "Kpz8DAemSKRy"
      },
      "execution_count": 9,
      "outputs": []
    },
    {
      "cell_type": "code",
      "source": [
        "from tensorflow.keras.layers import Conv2D, MaxPooling2D,Dropout,Resizing\n",
        "\n",
        "backend.clear_session()\n",
        "transfer_learning_model = keras.models.Sequential()\n",
        "\n",
        "transfer_learning_model.add(Resizing(128, 128, interpolation=\"bilinear\", crop_to_aspect_ratio=False))\n",
        "\n",
        "# Adding the convolutional part of the VGG16 model from above\n",
        "transfer_learning_model.add(xception_model)\n",
        "# Flattening the output of the VGG16 model because it is from a convolutional layer\n",
        "transfer_learning_model.add(Flatten())\n",
        "\n",
        "# Adding a dense output layer\n",
        "transfer_learning_model.add(Dense(128, activation='relu'))\n",
        "transfer_learning_model.add(BatchNormalization())\n",
        "transfer_learning_model.add(Dense(32, activation='relu'))\n",
        "# transfer_learning_model.add(Dropout(0.2))\n",
        "transfer_learning_model.add(Dense(10, activation='softmax'))\n",
        "\n",
        "# Compile model\n",
        "transfer_learning_model.compile(optimizer='adam', loss='categorical_crossentropy', metrics=['accuracy'])\n"
      ],
      "metadata": {
        "id": "P-WbImOUOH20"
      },
      "execution_count": 10,
      "outputs": []
    },
    {
      "cell_type": "code",
      "source": [
        "transfer_learning_model.build((None,32,32,3))\n",
        "transfer_learning_model.summary()"
      ],
      "metadata": {
        "id": "wfTIEIO_RNgq",
        "colab": {
          "base_uri": "https://localhost:8080/"
        },
        "outputId": "d1da2cb0-139e-4d74-a3b2-2819faf725cc"
      },
      "execution_count": 11,
      "outputs": [
        {
          "output_type": "stream",
          "name": "stdout",
          "text": [
            "Model: \"sequential\"\n",
            "_________________________________________________________________\n",
            " Layer (type)                Output Shape              Param #   \n",
            "=================================================================\n",
            " resizing (Resizing)         (None, 128, 128, 3)       0         \n",
            "                                                                 \n",
            " xception (Functional)       (None, 4, 4, 2048)        20861480  \n",
            "                                                                 \n",
            " flatten (Flatten)           (None, 32768)             0         \n",
            "                                                                 \n",
            " dense (Dense)               (None, 128)               4194432   \n",
            "                                                                 \n",
            " batch_normalization (BatchN  (None, 128)              512       \n",
            " ormalization)                                                   \n",
            "                                                                 \n",
            " dense_1 (Dense)             (None, 32)                4128      \n",
            "                                                                 \n",
            " dense_2 (Dense)             (None, 10)                330       \n",
            "                                                                 \n",
            "=================================================================\n",
            "Total params: 25,060,882\n",
            "Trainable params: 4,199,146\n",
            "Non-trainable params: 20,861,736\n",
            "_________________________________________________________________\n"
          ]
        }
      ]
    },
    {
      "cell_type": "code",
      "source": [
        "from tensorflow.keras.utils import to_categorical as one_hot\n",
        "\n",
        "train_images_normalized = X_train.astype('float32')\n",
        "validation_images_normalized = X_test.astype('float32')\n",
        "\n",
        "# normalize to range 0-1\n",
        "train_images_normalized = train_images_normalized / 255.0\n",
        "validation_images_normalized = validation_images_normalized / 255.0\n",
        "\n",
        "y_train_hot = one_hot(y_train)\n",
        "# y_test_hot  = one_hot(y_test)"
      ],
      "metadata": {
        "id": "jcV3lv9PQiX9"
      },
      "execution_count": 12,
      "outputs": []
    },
    {
      "cell_type": "code",
      "source": [
        "history = transfer_learning_model.fit(X_train, y_train_hot,\n",
        "          validation_split = 0.2,\n",
        "          epochs = 20,\n",
        "          batch_size = 128,\n",
        "          callbacks = [callback])"
      ],
      "metadata": {
        "colab": {
          "base_uri": "https://localhost:8080/"
        },
        "id": "Hwa-AXnEQzgg",
        "outputId": "7d1c87f3-52f6-48c6-fc51-efe8af492b9c"
      },
      "execution_count": 13,
      "outputs": [
        {
          "output_type": "stream",
          "name": "stdout",
          "text": [
            "Epoch 1/20\n",
            "250/250 [==============================] - 64s 190ms/step - loss: 0.7393 - accuracy: 0.7570 - val_loss: 0.6095 - val_accuracy: 0.7910\n",
            "Epoch 2/20\n",
            "250/250 [==============================] - 48s 192ms/step - loss: 0.5010 - accuracy: 0.8292 - val_loss: 0.5976 - val_accuracy: 0.7946\n",
            "Epoch 3/20\n",
            "250/250 [==============================] - 48s 190ms/step - loss: 0.3927 - accuracy: 0.8656 - val_loss: 0.6238 - val_accuracy: 0.7966\n",
            "Epoch 4/20\n",
            "250/250 [==============================] - 48s 191ms/step - loss: 0.3038 - accuracy: 0.8954 - val_loss: 0.6510 - val_accuracy: 0.7900\n",
            "Epoch 5/20\n",
            "250/250 [==============================] - 47s 187ms/step - loss: 0.2275 - accuracy: 0.9227 - val_loss: 0.7000 - val_accuracy: 0.7890\n",
            "Epoch 6/20\n",
            "250/250 [==============================] - 48s 191ms/step - loss: 0.1778 - accuracy: 0.9397 - val_loss: 0.7856 - val_accuracy: 0.7818\n",
            "Epoch 7/20\n",
            "250/250 [==============================] - 48s 191ms/step - loss: 0.1377 - accuracy: 0.9545 - val_loss: 0.8517 - val_accuracy: 0.7797\n",
            "Epoch 8/20\n",
            "250/250 [==============================] - 47s 187ms/step - loss: 0.1123 - accuracy: 0.9617 - val_loss: 0.9081 - val_accuracy: 0.7789\n",
            "Epoch 9/20\n",
            "250/250 [==============================] - 48s 191ms/step - loss: 0.0835 - accuracy: 0.9726 - val_loss: 0.8994 - val_accuracy: 0.7843\n",
            "Epoch 10/20\n",
            "250/250 [==============================] - 48s 191ms/step - loss: 0.0774 - accuracy: 0.9747 - val_loss: 0.9918 - val_accuracy: 0.7766\n",
            "Epoch 11/20\n",
            "250/250 [==============================] - 47s 187ms/step - loss: 0.0703 - accuracy: 0.9770 - val_loss: 1.0749 - val_accuracy: 0.7805\n",
            "Epoch 12/20\n",
            "250/250 [==============================] - 48s 191ms/step - loss: 0.0505 - accuracy: 0.9834 - val_loss: 1.0755 - val_accuracy: 0.7822\n",
            "Epoch 13/20\n",
            "250/250 [==============================] - 47s 187ms/step - loss: 0.0460 - accuracy: 0.9854 - val_loss: 1.1292 - val_accuracy: 0.7939\n",
            "Epoch 14/20\n",
            "250/250 [==============================] - 48s 191ms/step - loss: 0.0581 - accuracy: 0.9804 - val_loss: 1.0960 - val_accuracy: 0.7845\n",
            "Epoch 15/20\n",
            "250/250 [==============================] - 47s 187ms/step - loss: 0.0451 - accuracy: 0.9850 - val_loss: 1.1816 - val_accuracy: 0.7872\n",
            "Epoch 16/20\n",
            "250/250 [==============================] - 48s 191ms/step - loss: 0.0428 - accuracy: 0.9859 - val_loss: 1.1517 - val_accuracy: 0.7893\n",
            "Epoch 17/20\n",
            "250/250 [==============================] - 48s 191ms/step - loss: 0.0364 - accuracy: 0.9880 - val_loss: 1.2450 - val_accuracy: 0.7803\n",
            "Epoch 18/20\n",
            "250/250 [==============================] - 48s 191ms/step - loss: 0.0388 - accuracy: 0.9871 - val_loss: 1.2170 - val_accuracy: 0.7878\n",
            "Epoch 19/20\n",
            "250/250 [==============================] - 48s 191ms/step - loss: 0.0348 - accuracy: 0.9876 - val_loss: 1.2058 - val_accuracy: 0.7885\n",
            "Epoch 20/20\n",
            "250/250 [==============================] - 48s 191ms/step - loss: 0.0338 - accuracy: 0.9887 - val_loss: 1.3047 - val_accuracy: 0.7857\n"
          ]
        }
      ]
    },
    {
      "cell_type": "code",
      "source": [
        "y_test_hot  = one_hot(y_test)\n",
        "accuracy = transfer_learning_model.evaluate(X_test, y_test_hot, verbose=2)"
      ],
      "metadata": {
        "colab": {
          "base_uri": "https://localhost:8080/"
        },
        "id": "xBYpgg41E4ki",
        "outputId": "d9fd7130-368d-4a56-e78f-480aa37f87e1"
      },
      "execution_count": 15,
      "outputs": [
        {
          "output_type": "stream",
          "name": "stdout",
          "text": [
            "313/313 - 13s - loss: 1.2628 - accuracy: 0.7892 - 13s/epoch - 42ms/step\n"
          ]
        }
      ]
    },
    {
      "cell_type": "code",
      "source": [
        "# Plot training & validation accuracy values\n",
        "plt.plot(history.history['accuracy'])\n",
        "plt.plot(history.history['val_accuracy'])\n",
        "\n",
        "plt.title('Model accuracy')\n",
        "plt.ylabel('Accuracy')\n",
        "plt.xlabel('Epoch')\n",
        "plt.legend(['Train', 'Test'], loc='upper left')\n",
        "plt.show()"
      ],
      "metadata": {
        "colab": {
          "base_uri": "https://localhost:8080/",
          "height": 472
        },
        "id": "gYX0fC4e1vZ7",
        "outputId": "c8c425da-94df-456b-83d7-02c16752895a"
      },
      "execution_count": 16,
      "outputs": [
        {
          "output_type": "display_data",
          "data": {
            "text/plain": [
              "<Figure size 640x480 with 1 Axes>"
            ],
            "image/png": "[encoded data removed]"
          },
          "metadata": {}
        }
      ]
    },
    {
      "cell_type": "markdown",
      "source": [
        "Xception emerged as the clear winner with exceptional accuracy—forgive the pun, we couldn't resist! 😄\n",
        "\n",
        "The journey allowed us to gain a comprehensive understanding of the strengths and weaknesses of each model. While KNN provided a straightforward and interpretable approach, its limitations became evident as the complexity of the task increased. The single-hidden-layer neural network showed promise but lacked the ability to capture the intricate patterns present in the images. The CNN, with its convolutional layers and feature extraction prowess, demonstrated considerable improvements over the previous models.\n",
        "\n",
        "However, it was the Xception model, leveraging transfer learning and pretrained weights from a vast dataset, that truly set a new benchmark. Its ability to extract complex hierarchical features and generalize well to our specific classification task was the key to its exceptional accuracy."
      ],
      "metadata": {
        "id": "pshnD_2L2_m6"
      }
    }
  ],
  "metadata": {
    "kernelspec": {
      "display_name": "Python 3",
      "name": "python3"
    },
    "language_info": {
      "codemirror_mode": {
        "name": "ipython",
        "version": 3
      },
      "file_extension": ".py",
      "mimetype": "text/x-python",
      "name": "python",
      "nbconvert_exporter": "python",
      "pygments_lexer": "ipython3",
      "version": "3.9.7"
    },
    "nbclean": true,
    "colab": {
      "provenance": [],
      "gpuType": "T4",
      "toc_visible": true,
      "include_colab_link": true
    },
    "accelerator": "GPU"
  },
  "nbformat": 4,
  "nbformat_minor": 0
}